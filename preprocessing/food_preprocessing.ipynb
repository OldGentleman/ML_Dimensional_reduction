{
 "metadata": {
  "language_info": {
   "codemirror_mode": {
    "name": "ipython",
    "version": 3
   },
   "file_extension": ".py",
   "mimetype": "text/x-python",
   "name": "python",
   "nbconvert_exporter": "python",
   "pygments_lexer": "ipython3",
   "version": "3.8.9"
  },
  "orig_nbformat": 2,
  "kernelspec": {
   "name": "python3",
   "display_name": "Python 3.8.9 64-bit ('venv': venv)",
   "metadata": {
    "interpreter": {
     "hash": "560cba97768927542ee84f368775feb873961793696b26b080dc58bba23207be"
    }
   }
  }
 },
 "nbformat": 4,
 "nbformat_minor": 2,
 "cells": [
  {
   "cell_type": "code",
   "execution_count": 7,
   "metadata": {},
   "outputs": [],
   "source": [
    "import numpy as np\n",
    "import pandas as pd\n",
    "import zipfile\n",
    "from PIL import Image\n",
    "from skimage.io import imread\n",
    "from sklearn.model_selection import train_test_split\n",
    "import matplotlib.pyplot as plt"
   ]
  },
  {
   "cell_type": "code",
   "execution_count": 3,
   "metadata": {},
   "outputs": [],
   "source": [
    "food_images = pd.DataFrame(columns=['Food_Name', 'Image'])"
   ]
  },
  {
   "cell_type": "code",
   "execution_count": 4,
   "metadata": {
    "tags": []
   },
   "outputs": [],
   "source": [
    "# names = [name for name in zipfile.ZipFile.namelist(zf)]\n",
    "with zipfile.ZipFile('../data/raw_data/food.zip', 'r') as z:\n",
    "    i = 0\n",
    "    for file in z.namelist():\n",
    "        if file.startswith('images/'):\n",
    "            ifile = z.open(file)\n",
    "            #optional set as_gray=True\n",
    "            food_images.loc[i] = [ifile.name.split('/')[1]] + [imread(ifile).ravel()]\n",
    "            i += 1"
   ]
  },
  {
   "cell_type": "code",
   "execution_count": 5,
   "metadata": {},
   "outputs": [
    {
     "output_type": "execute_result",
     "data": {
      "text/plain": [
       "                                   Food_Name  \\\n",
       "0  7 DAY's CROISSANT WITH OREO CREAM FILLING   \n",
       "1  7 DAY's CROISSANT WITH OREO CREAM FILLING   \n",
       "2  7 DAY's CROISSANT WITH OREO CREAM FILLING   \n",
       "3    7 DAY's CROISSANT WITH SPUMANTE FILLING   \n",
       "4    7 DAY's CROISSANT WITH SPUMANTE FILLING   \n",
       "\n",
       "                                               Image  \n",
       "0  [255, 255, 255, 255, 255, 255, 255, 255, 255, ...  \n",
       "1  [255, 255, 255, 255, 255, 255, 255, 255, 255, ...  \n",
       "2  [255, 255, 255, 255, 255, 255, 255, 255, 255, ...  \n",
       "3  [255, 255, 255, 255, 255, 255, 255, 255, 255, ...  \n",
       "4  [255, 255, 255, 255, 255, 255, 255, 255, 255, ...  "
      ],
      "text/html": "<div>\n<style scoped>\n    .dataframe tbody tr th:only-of-type {\n        vertical-align: middle;\n    }\n\n    .dataframe tbody tr th {\n        vertical-align: top;\n    }\n\n    .dataframe thead th {\n        text-align: right;\n    }\n</style>\n<table border=\"1\" class=\"dataframe\">\n  <thead>\n    <tr style=\"text-align: right;\">\n      <th></th>\n      <th>Food_Name</th>\n      <th>Image</th>\n    </tr>\n  </thead>\n  <tbody>\n    <tr>\n      <th>0</th>\n      <td>7 DAY's CROISSANT WITH OREO CREAM FILLING</td>\n      <td>[255, 255, 255, 255, 255, 255, 255, 255, 255, ...</td>\n    </tr>\n    <tr>\n      <th>1</th>\n      <td>7 DAY's CROISSANT WITH OREO CREAM FILLING</td>\n      <td>[255, 255, 255, 255, 255, 255, 255, 255, 255, ...</td>\n    </tr>\n    <tr>\n      <th>2</th>\n      <td>7 DAY's CROISSANT WITH OREO CREAM FILLING</td>\n      <td>[255, 255, 255, 255, 255, 255, 255, 255, 255, ...</td>\n    </tr>\n    <tr>\n      <th>3</th>\n      <td>7 DAY's CROISSANT WITH SPUMANTE FILLING</td>\n      <td>[255, 255, 255, 255, 255, 255, 255, 255, 255, ...</td>\n    </tr>\n    <tr>\n      <th>4</th>\n      <td>7 DAY's CROISSANT WITH SPUMANTE FILLING</td>\n      <td>[255, 255, 255, 255, 255, 255, 255, 255, 255, ...</td>\n    </tr>\n  </tbody>\n</table>\n</div>"
     },
     "metadata": {},
     "execution_count": 5
    }
   ],
   "source": [
    "food_images.head(5)"
   ]
  },
  {
   "cell_type": "code",
   "execution_count": 6,
   "metadata": {},
   "outputs": [
    {
     "output_type": "stream",
     "name": "stdout",
     "text": [
      "<class 'pandas.core.frame.DataFrame'>\nInt64Index: 1281 entries, 0 to 1280\nData columns (total 2 columns):\n #   Column     Non-Null Count  Dtype \n---  ------     --------------  ----- \n 0   Food_Name  1281 non-null   object\n 1   Image      1281 non-null   object\ndtypes: object(2)\nmemory usage: 30.0+ KB\n"
     ]
    }
   ],
   "source": [
    "food_images.info()"
   ]
  },
  {
   "cell_type": "code",
   "execution_count": 8,
   "metadata": {},
   "outputs": [],
   "source": [
    "food_train, food_test= train_test_split(food_images, test_size=0.2, random_state=228)"
   ]
  },
  {
   "cell_type": "code",
   "execution_count": 9,
   "metadata": {},
   "outputs": [],
   "source": [
    "compression_opts_train = dict(method='zip',\n",
    "                        archive_name='food_train.csv')  \n",
    "food_train.to_csv('../data/preprocessed_data/food_train.zip', index=False, compression=compression_opts_train)\n",
    "\n",
    "compression_opts_test = dict(method='zip',\n",
    "                        archive_name='food_test.csv')  \n",
    "food_test.to_csv('../data/preprocessed_data/food_test.zip', index=False, compression=compression_opts_test)"
   ]
  },
  {
   "cell_type": "code",
   "execution_count": null,
   "metadata": {},
   "outputs": [],
   "source": []
  }
 ]
}