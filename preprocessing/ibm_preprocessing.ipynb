{
 "metadata": {
  "language_info": {
   "codemirror_mode": {
    "name": "ipython",
    "version": 3
   },
   "file_extension": ".py",
   "mimetype": "text/x-python",
   "name": "python",
   "nbconvert_exporter": "python",
   "pygments_lexer": "ipython3",
   "version": "3.8.10"
  },
  "orig_nbformat": 2,
  "kernelspec": {
   "name": "python3",
   "display_name": "Python 3.8.10 64-bit",
   "metadata": {
    "interpreter": {
     "hash": "5b3ded1ccb95c1d9bd405e7b823d9e85424cde40fbb5985eb47e999ef50e15b4"
    }
   }
  }
 },
 "nbformat": 4,
 "nbformat_minor": 2,
 "cells": [
  {
   "cell_type": "code",
   "execution_count": 13,
   "metadata": {},
   "outputs": [],
   "source": [
    "import numpy as np\n",
    "import pandas as pd\n",
    "import zipfile\n",
    "import matplotlib.pyplot as plt\n",
    "from sklearn.preprocessing import MaxAbsScaler\n",
    "from sklearn.model_selection import train_test_split\n",
    "import category_encoders as ce\n",
    "pd.set_option('display.max_columns', 500)"
   ]
  },
  {
   "cell_type": "code",
   "execution_count": 14,
   "metadata": {},
   "outputs": [],
   "source": [
    "zf = zipfile.ZipFile('../data/raw_data/d14 - IBM_employees.zip') \n",
    "names = [name for name in zipfile.ZipFile.namelist(zf) if '.csv' in name]\n",
    "IBM_employees = pd.read_csv(zf.open(zipfile.ZipFile.namelist(zf)[0]))"
   ]
  },
  {
   "cell_type": "code",
   "execution_count": 15,
   "metadata": {},
   "outputs": [],
   "source": [
    "target_column_names = ['Education', 'EnvironmentSatisfaction', 'JobSatisfaction', 'PerformanceRating', 'RelationshipSatisfaction', 'WorkLifeBalance']\n",
    "t = IBM_employees['PerformanceRating']"
   ]
  },
  {
   "cell_type": "code",
   "execution_count": 16,
   "metadata": {},
   "outputs": [],
   "source": [
    "categorical_column_names = ['Attrition', 'BusinessTravel', 'Department', 'EducationField', 'Gender', 'JobRole', 'MaritalStatus', 'Over18', 'OverTime']"
   ]
  },
  {
   "cell_type": "code",
   "execution_count": 17,
   "metadata": {},
   "outputs": [],
   "source": [
    "# Normalization\n",
    "all_categorical_names = target_column_names.copy()\n",
    "all_categorical_names.extend(categorical_column_names)\n",
    "max_abs_scaler = MaxAbsScaler()\n",
    "non_categorical_names = IBM_employees.columns.difference(all_categorical_names)\n",
    "IBM_employees[non_categorical_names] = max_abs_scaler.fit_transform(IBM_employees[non_categorical_names])"
   ]
  },
  {
   "cell_type": "code",
   "execution_count": 18,
   "metadata": {},
   "outputs": [],
   "source": [
    "# Encoding\n",
    "for column_name in target_column_names:\n",
    "    IBM_employees[column_name] = IBM_employees[column_name].astype('category')\n",
    "    IBM_employees[column_name] = IBM_employees[column_name].cat.codes"
   ]
  },
  {
   "cell_type": "code",
   "execution_count": 19,
   "metadata": {},
   "outputs": [
    {
     "output_type": "stream",
     "name": "stdout",
     "text": [
      "Attrition: 2 ['Yes' 'No']\nBusinessTravel: 3 ['Travel_Rarely' 'Travel_Frequently' 'Non-Travel']\nDepartment: 3 ['Sales' 'Research & Development' 'Human Resources']\nEducationField: 6 ['Life Sciences' 'Other' 'Medical' 'Marketing' 'Technical Degree'\n 'Human Resources']\nGender: 2 ['Female' 'Male']\nJobRole: 9 ['Sales Executive' 'Research Scientist' 'Laboratory Technician'\n 'Manufacturing Director' 'Healthcare Representative' 'Manager'\n 'Sales Representative' 'Research Director' 'Human Resources']\nMaritalStatus: 3 ['Single' 'Married' 'Divorced']\nOver18: 1 ['Y']\nOverTime: 2 ['Yes' 'No']\n"
     ]
    }
   ],
   "source": [
    "for column_name in categorical_column_names:\n",
    "    print(f'{column_name}: {len(IBM_employees[column_name].unique())} {IBM_employees[column_name].unique()}')"
   ]
  },
  {
   "cell_type": "code",
   "execution_count": 20,
   "metadata": {},
   "outputs": [],
   "source": [
    "IBM_employees = IBM_employees.drop(columns=['Over18'])\n",
    "IBM_employees = IBM_employees.drop(columns=target_column_names)\n",
    "IBM_employees['target'] = t"
   ]
  },
  {
   "cell_type": "code",
   "execution_count": 21,
   "metadata": {},
   "outputs": [],
   "source": [
    "categorical_column_names = categorical_column_names.remove('Over18')"
   ]
  },
  {
   "cell_type": "code",
   "execution_count": 22,
   "metadata": {},
   "outputs": [],
   "source": [
    "# Binary encoding of categorical variable\n",
    "encoder = ce.BinaryEncoder(cols=categorical_column_names, return_df=True)\n",
    "\n",
    "IBM_employees_encoded = encoder.fit_transform(IBM_employees)"
   ]
  },
  {
   "cell_type": "code",
   "execution_count": 23,
   "metadata": {},
   "outputs": [
    {
     "output_type": "execute_result",
     "data": {
      "text/plain": [
       "        Age  Attrition_0  Attrition_1  BusinessTravel_0  BusinessTravel_1  \\\n",
       "0  0.683333            0            1                 0                 0   \n",
       "1  0.816667            1            0                 0                 1   \n",
       "2  0.616667            0            1                 0                 0   \n",
       "3  0.550000            1            0                 0                 1   \n",
       "4  0.450000            1            0                 0                 0   \n",
       "\n",
       "   BusinessTravel_2  DailyRate  Department_0  Department_1  Department_2  \\\n",
       "0                 1   0.735157             0             0             1   \n",
       "1                 0   0.186124             0             1             0   \n",
       "2                 1   0.915944             0             1             0   \n",
       "3                 0   0.928619             0             1             0   \n",
       "4                 1   0.394263             0             1             0   \n",
       "\n",
       "   DistanceFromHome  EducationField_0  EducationField_1  EducationField_2  \\\n",
       "0          0.034483                 0                 0                 0   \n",
       "1          0.275862                 0                 0                 0   \n",
       "2          0.068966                 0                 0                 1   \n",
       "3          0.103448                 0                 0                 0   \n",
       "4          0.068966                 0                 0                 1   \n",
       "\n",
       "   EducationField_3  EmployeeCount  EmployeeNumber  Gender_0  Gender_1  \\\n",
       "0                 1            1.0        0.000484         0         1   \n",
       "1                 1            1.0        0.000967         1         0   \n",
       "2                 0            1.0        0.001934         1         0   \n",
       "3                 1            1.0        0.002418         0         1   \n",
       "4                 1            1.0        0.003385         1         0   \n",
       "\n",
       "   HourlyRate  JobInvolvement  JobLevel  JobRole_0  JobRole_1  JobRole_2  \\\n",
       "0        0.94            0.75       0.4          0          0          0   \n",
       "1        0.61            0.50       0.4          0          0          0   \n",
       "2        0.92            0.50       0.2          0          0          0   \n",
       "3        0.56            0.75       0.2          0          0          0   \n",
       "4        0.40            0.75       0.2          0          0          0   \n",
       "\n",
       "   JobRole_3  JobRole_4  MaritalStatus_0  MaritalStatus_1  MaritalStatus_2  \\\n",
       "0          0          1                0                0                1   \n",
       "1          1          0                0                1                0   \n",
       "2          1          1                0                0                1   \n",
       "3          1          0                0                1                0   \n",
       "4          1          1                0                1                0   \n",
       "\n",
       "   MonthlyIncome  MonthlyRate  NumCompaniesWorked  OverTime_0  OverTime_1  \\\n",
       "0       0.299665     0.721471            0.888889           0           1   \n",
       "1       0.256513     0.922516            0.111111           1           0   \n",
       "2       0.104505     0.088744            0.666667           0           1   \n",
       "3       0.145457     0.857773            0.111111           0           1   \n",
       "4       0.173409     0.616023            1.000000           1           0   \n",
       "\n",
       "   PercentSalaryHike  StandardHours  StockOptionLevel  TotalWorkingYears  \\\n",
       "0               0.44            1.0          0.000000              0.200   \n",
       "1               0.92            1.0          0.333333              0.250   \n",
       "2               0.60            1.0          0.000000              0.175   \n",
       "3               0.44            1.0          0.000000              0.200   \n",
       "4               0.48            1.0          0.333333              0.150   \n",
       "\n",
       "   TrainingTimesLastYear  YearsAtCompany  YearsInCurrentRole  \\\n",
       "0                    0.0            0.15            0.222222   \n",
       "1                    0.5            0.25            0.388889   \n",
       "2                    0.5            0.00            0.000000   \n",
       "3                    0.5            0.20            0.388889   \n",
       "4                    0.5            0.05            0.111111   \n",
       "\n",
       "   YearsSinceLastPromotion  YearsWithCurrManager  target  \n",
       "0                 0.000000              0.294118       3  \n",
       "1                 0.066667              0.411765       4  \n",
       "2                 0.000000              0.000000       3  \n",
       "3                 0.200000              0.000000       3  \n",
       "4                 0.133333              0.117647       3  "
      ],
      "text/html": "<div>\n<style scoped>\n    .dataframe tbody tr th:only-of-type {\n        vertical-align: middle;\n    }\n\n    .dataframe tbody tr th {\n        vertical-align: top;\n    }\n\n    .dataframe thead th {\n        text-align: right;\n    }\n</style>\n<table border=\"1\" class=\"dataframe\">\n  <thead>\n    <tr style=\"text-align: right;\">\n      <th></th>\n      <th>Age</th>\n      <th>Attrition_0</th>\n      <th>Attrition_1</th>\n      <th>BusinessTravel_0</th>\n      <th>BusinessTravel_1</th>\n      <th>BusinessTravel_2</th>\n      <th>DailyRate</th>\n      <th>Department_0</th>\n      <th>Department_1</th>\n      <th>Department_2</th>\n      <th>DistanceFromHome</th>\n      <th>EducationField_0</th>\n      <th>EducationField_1</th>\n      <th>EducationField_2</th>\n      <th>EducationField_3</th>\n      <th>EmployeeCount</th>\n      <th>EmployeeNumber</th>\n      <th>Gender_0</th>\n      <th>Gender_1</th>\n      <th>HourlyRate</th>\n      <th>JobInvolvement</th>\n      <th>JobLevel</th>\n      <th>JobRole_0</th>\n      <th>JobRole_1</th>\n      <th>JobRole_2</th>\n      <th>JobRole_3</th>\n      <th>JobRole_4</th>\n      <th>MaritalStatus_0</th>\n      <th>MaritalStatus_1</th>\n      <th>MaritalStatus_2</th>\n      <th>MonthlyIncome</th>\n      <th>MonthlyRate</th>\n      <th>NumCompaniesWorked</th>\n      <th>OverTime_0</th>\n      <th>OverTime_1</th>\n      <th>PercentSalaryHike</th>\n      <th>StandardHours</th>\n      <th>StockOptionLevel</th>\n      <th>TotalWorkingYears</th>\n      <th>TrainingTimesLastYear</th>\n      <th>YearsAtCompany</th>\n      <th>YearsInCurrentRole</th>\n      <th>YearsSinceLastPromotion</th>\n      <th>YearsWithCurrManager</th>\n      <th>target</th>\n    </tr>\n  </thead>\n  <tbody>\n    <tr>\n      <th>0</th>\n      <td>0.683333</td>\n      <td>0</td>\n      <td>1</td>\n      <td>0</td>\n      <td>0</td>\n      <td>1</td>\n      <td>0.735157</td>\n      <td>0</td>\n      <td>0</td>\n      <td>1</td>\n      <td>0.034483</td>\n      <td>0</td>\n      <td>0</td>\n      <td>0</td>\n      <td>1</td>\n      <td>1.0</td>\n      <td>0.000484</td>\n      <td>0</td>\n      <td>1</td>\n      <td>0.94</td>\n      <td>0.75</td>\n      <td>0.4</td>\n      <td>0</td>\n      <td>0</td>\n      <td>0</td>\n      <td>0</td>\n      <td>1</td>\n      <td>0</td>\n      <td>0</td>\n      <td>1</td>\n      <td>0.299665</td>\n      <td>0.721471</td>\n      <td>0.888889</td>\n      <td>0</td>\n      <td>1</td>\n      <td>0.44</td>\n      <td>1.0</td>\n      <td>0.000000</td>\n      <td>0.200</td>\n      <td>0.0</td>\n      <td>0.15</td>\n      <td>0.222222</td>\n      <td>0.000000</td>\n      <td>0.294118</td>\n      <td>3</td>\n    </tr>\n    <tr>\n      <th>1</th>\n      <td>0.816667</td>\n      <td>1</td>\n      <td>0</td>\n      <td>0</td>\n      <td>1</td>\n      <td>0</td>\n      <td>0.186124</td>\n      <td>0</td>\n      <td>1</td>\n      <td>0</td>\n      <td>0.275862</td>\n      <td>0</td>\n      <td>0</td>\n      <td>0</td>\n      <td>1</td>\n      <td>1.0</td>\n      <td>0.000967</td>\n      <td>1</td>\n      <td>0</td>\n      <td>0.61</td>\n      <td>0.50</td>\n      <td>0.4</td>\n      <td>0</td>\n      <td>0</td>\n      <td>0</td>\n      <td>1</td>\n      <td>0</td>\n      <td>0</td>\n      <td>1</td>\n      <td>0</td>\n      <td>0.256513</td>\n      <td>0.922516</td>\n      <td>0.111111</td>\n      <td>1</td>\n      <td>0</td>\n      <td>0.92</td>\n      <td>1.0</td>\n      <td>0.333333</td>\n      <td>0.250</td>\n      <td>0.5</td>\n      <td>0.25</td>\n      <td>0.388889</td>\n      <td>0.066667</td>\n      <td>0.411765</td>\n      <td>4</td>\n    </tr>\n    <tr>\n      <th>2</th>\n      <td>0.616667</td>\n      <td>0</td>\n      <td>1</td>\n      <td>0</td>\n      <td>0</td>\n      <td>1</td>\n      <td>0.915944</td>\n      <td>0</td>\n      <td>1</td>\n      <td>0</td>\n      <td>0.068966</td>\n      <td>0</td>\n      <td>0</td>\n      <td>1</td>\n      <td>0</td>\n      <td>1.0</td>\n      <td>0.001934</td>\n      <td>1</td>\n      <td>0</td>\n      <td>0.92</td>\n      <td>0.50</td>\n      <td>0.2</td>\n      <td>0</td>\n      <td>0</td>\n      <td>0</td>\n      <td>1</td>\n      <td>1</td>\n      <td>0</td>\n      <td>0</td>\n      <td>1</td>\n      <td>0.104505</td>\n      <td>0.088744</td>\n      <td>0.666667</td>\n      <td>0</td>\n      <td>1</td>\n      <td>0.60</td>\n      <td>1.0</td>\n      <td>0.000000</td>\n      <td>0.175</td>\n      <td>0.5</td>\n      <td>0.00</td>\n      <td>0.000000</td>\n      <td>0.000000</td>\n      <td>0.000000</td>\n      <td>3</td>\n    </tr>\n    <tr>\n      <th>3</th>\n      <td>0.550000</td>\n      <td>1</td>\n      <td>0</td>\n      <td>0</td>\n      <td>1</td>\n      <td>0</td>\n      <td>0.928619</td>\n      <td>0</td>\n      <td>1</td>\n      <td>0</td>\n      <td>0.103448</td>\n      <td>0</td>\n      <td>0</td>\n      <td>0</td>\n      <td>1</td>\n      <td>1.0</td>\n      <td>0.002418</td>\n      <td>0</td>\n      <td>1</td>\n      <td>0.56</td>\n      <td>0.75</td>\n      <td>0.2</td>\n      <td>0</td>\n      <td>0</td>\n      <td>0</td>\n      <td>1</td>\n      <td>0</td>\n      <td>0</td>\n      <td>1</td>\n      <td>0</td>\n      <td>0.145457</td>\n      <td>0.857773</td>\n      <td>0.111111</td>\n      <td>0</td>\n      <td>1</td>\n      <td>0.44</td>\n      <td>1.0</td>\n      <td>0.000000</td>\n      <td>0.200</td>\n      <td>0.5</td>\n      <td>0.20</td>\n      <td>0.388889</td>\n      <td>0.200000</td>\n      <td>0.000000</td>\n      <td>3</td>\n    </tr>\n    <tr>\n      <th>4</th>\n      <td>0.450000</td>\n      <td>1</td>\n      <td>0</td>\n      <td>0</td>\n      <td>0</td>\n      <td>1</td>\n      <td>0.394263</td>\n      <td>0</td>\n      <td>1</td>\n      <td>0</td>\n      <td>0.068966</td>\n      <td>0</td>\n      <td>0</td>\n      <td>1</td>\n      <td>1</td>\n      <td>1.0</td>\n      <td>0.003385</td>\n      <td>1</td>\n      <td>0</td>\n      <td>0.40</td>\n      <td>0.75</td>\n      <td>0.2</td>\n      <td>0</td>\n      <td>0</td>\n      <td>0</td>\n      <td>1</td>\n      <td>1</td>\n      <td>0</td>\n      <td>1</td>\n      <td>0</td>\n      <td>0.173409</td>\n      <td>0.616023</td>\n      <td>1.000000</td>\n      <td>1</td>\n      <td>0</td>\n      <td>0.48</td>\n      <td>1.0</td>\n      <td>0.333333</td>\n      <td>0.150</td>\n      <td>0.5</td>\n      <td>0.05</td>\n      <td>0.111111</td>\n      <td>0.133333</td>\n      <td>0.117647</td>\n      <td>3</td>\n    </tr>\n  </tbody>\n</table>\n</div>"
     },
     "metadata": {},
     "execution_count": 23
    }
   ],
   "source": [
    "IBM_employees_encoded.head()"
   ]
  },
  {
   "cell_type": "code",
   "execution_count": 24,
   "metadata": {},
   "outputs": [],
   "source": [
    "compression_opts_train = dict(method='zip',\n",
    "                        archive_name='IBM.csv')  \n",
    "IBM_employees_encoded.to_csv('../data/preprocessed_data/IBM.zip', index=False, compression=compression_opts_train)\n"
   ]
  },
  {
   "cell_type": "code",
   "execution_count": null,
   "metadata": {},
   "outputs": [],
   "source": []
  }
 ]
}