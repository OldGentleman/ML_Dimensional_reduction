{
 "metadata": {
  "language_info": {
   "codemirror_mode": {
    "name": "ipython",
    "version": 3
   },
   "file_extension": ".py",
   "mimetype": "text/x-python",
   "name": "python",
   "nbconvert_exporter": "python",
   "pygments_lexer": "ipython3",
   "version": "3.9.5"
  },
  "orig_nbformat": 2,
  "kernelspec": {
   "name": "python3",
   "display_name": "Python 3.9.5 64-bit",
   "metadata": {
    "interpreter": {
     "hash": "767d51c1340bd893661ea55ea3124f6de3c7a262a8b4abca0554b478b1e2ff90"
    }
   }
  }
 },
 "nbformat": 4,
 "nbformat_minor": 2,
 "cells": [
  {
   "cell_type": "code",
   "execution_count": 7,
   "metadata": {},
   "outputs": [],
   "source": [
    "import numpy as np\n",
    "import pandas as pd\n",
    "import zipfile\n",
    "from sklearn import preprocessing"
   ]
  },
  {
   "cell_type": "code",
   "execution_count": 8,
   "metadata": {},
   "outputs": [
    {
     "output_type": "stream",
     "name": "stdout",
     "text": [
      "['human_activity_recogniton_with_smartphones/', 'human_activity_recogniton_with_smartphones/test.csv', 'human_activity_recogniton_with_smartphones/train.csv']\n"
     ]
    },
    {
     "output_type": "execute_result",
     "data": {
      "text/plain": [
       "      tBodyAcc-mean()-X  tBodyAcc-mean()-Y  tBodyAcc-mean()-Z  \\\n",
       "0              0.257178          -0.023285          -0.014654   \n",
       "1              0.286027          -0.013163          -0.119083   \n",
       "2              0.275485          -0.026050          -0.118152   \n",
       "3              0.270298          -0.032614          -0.117520   \n",
       "4              0.274833          -0.027848          -0.129527   \n",
       "...                 ...                ...                ...   \n",
       "2942           0.310155          -0.053391          -0.099109   \n",
       "2943           0.363385          -0.039214          -0.105915   \n",
       "2944           0.349966           0.030077          -0.115788   \n",
       "2945           0.237594           0.018467          -0.096499   \n",
       "2946           0.153627          -0.018437          -0.137018   \n",
       "\n",
       "      tBodyAcc-std()-X  tBodyAcc-std()-Y  tBodyAcc-std()-Z  tBodyAcc-mad()-X  \\\n",
       "0            -0.938404         -0.920091         -0.667683         -0.952501   \n",
       "1            -0.975415         -0.967458         -0.944958         -0.986799   \n",
       "2            -0.993819         -0.969926         -0.962748         -0.994403   \n",
       "3            -0.994743         -0.973268         -0.967091         -0.995274   \n",
       "4            -0.993852         -0.967445         -0.978295         -0.994111   \n",
       "...                ...               ...               ...               ...   \n",
       "2942         -0.287866         -0.140589         -0.215088         -0.356083   \n",
       "2943         -0.305388          0.028148         -0.196373         -0.373540   \n",
       "2944         -0.329638         -0.042143         -0.250181         -0.388017   \n",
       "2945         -0.323114         -0.229775         -0.207574         -0.392380   \n",
       "2946         -0.330046         -0.195253         -0.164339         -0.430974   \n",
       "\n",
       "      tBodyAcc-mad()-Y  tBodyAcc-mad()-Z  tBodyAcc-max()-X  ...  \\\n",
       "0            -0.925249         -0.674302         -0.894088  ...   \n",
       "1            -0.968401         -0.945823         -0.894088  ...   \n",
       "2            -0.970735         -0.963483         -0.939260  ...   \n",
       "3            -0.974471         -0.968897         -0.938610  ...   \n",
       "4            -0.965953         -0.977346         -0.938610  ...   \n",
       "...                ...               ...               ...  ...   \n",
       "2942         -0.148775         -0.232057          0.185361  ...   \n",
       "2943         -0.030036         -0.270237          0.185361  ...   \n",
       "2944         -0.133257         -0.347029          0.007471  ...   \n",
       "2945         -0.279610         -0.289477          0.007471  ...   \n",
       "2946         -0.218295         -0.229933         -0.111527  ...   \n",
       "\n",
       "      fBodyBodyGyroJerkMag-kurtosis()  angle(tBodyAccMean,gravity)  \\\n",
       "0                           -0.705974                     0.006462   \n",
       "1                           -0.594944                    -0.083495   \n",
       "2                           -0.640736                    -0.034956   \n",
       "3                           -0.736124                    -0.017067   \n",
       "4                           -0.846595                    -0.002223   \n",
       "...                               ...                          ...   \n",
       "2942                        -0.750809                    -0.337422   \n",
       "2943                        -0.700274                    -0.736701   \n",
       "2944                        -0.467179                    -0.181560   \n",
       "2945                        -0.617737                     0.444558   \n",
       "2946                        -0.436940                     0.598808   \n",
       "\n",
       "      angle(tBodyAccJerkMean),gravityMean)  angle(tBodyGyroMean,gravityMean)  \\\n",
       "0                                 0.162920                         -0.825886   \n",
       "1                                 0.017500                         -0.434375   \n",
       "2                                 0.202302                          0.064103   \n",
       "3                                 0.154438                          0.340134   \n",
       "4                                -0.040046                          0.736715   \n",
       "...                                    ...                               ...   \n",
       "2942                              0.346295                          0.884904   \n",
       "2943                             -0.372889                         -0.657421   \n",
       "2944                              0.088574                          0.696663   \n",
       "2945                             -0.819188                          0.929294   \n",
       "2946                             -0.287951                          0.876030   \n",
       "\n",
       "      angle(tBodyGyroJerkMean,gravityMean)  angle(X,gravityMean)  \\\n",
       "0                                 0.271151             -0.720009   \n",
       "1                                 0.920593             -0.698091   \n",
       "2                                 0.145068             -0.702771   \n",
       "3                                 0.296407             -0.698954   \n",
       "4                                -0.118545             -0.692245   \n",
       "...                                    ...                   ...   \n",
       "2942                             -0.698885             -0.651732   \n",
       "2943                              0.322549             -0.655181   \n",
       "2944                              0.363139             -0.655357   \n",
       "2945                             -0.008398             -0.659719   \n",
       "2946                             -0.024965             -0.660080   \n",
       "\n",
       "      angle(Y,gravityMean)  angle(Z,gravityMean)  subject          Activity  \n",
       "0                 0.276801             -0.057978        2          STANDING  \n",
       "1                 0.281343             -0.083898        2          STANDING  \n",
       "2                 0.280083             -0.079346        2          STANDING  \n",
       "3                 0.284114             -0.077108        2          STANDING  \n",
       "4                 0.290722             -0.073857        2          STANDING  \n",
       "...                    ...                   ...      ...               ...  \n",
       "2942              0.274627              0.184784       24  WALKING_UPSTAIRS  \n",
       "2943              0.273578              0.182412       24  WALKING_UPSTAIRS  \n",
       "2944              0.274479              0.181184       24  WALKING_UPSTAIRS  \n",
       "2945              0.264782              0.187563       24  WALKING_UPSTAIRS  \n",
       "2946              0.263936              0.188103       24  WALKING_UPSTAIRS  \n",
       "\n",
       "[2947 rows x 563 columns]"
      ],
      "text/html": "<div>\n<style scoped>\n    .dataframe tbody tr th:only-of-type {\n        vertical-align: middle;\n    }\n\n    .dataframe tbody tr th {\n        vertical-align: top;\n    }\n\n    .dataframe thead th {\n        text-align: right;\n    }\n</style>\n<table border=\"1\" class=\"dataframe\">\n  <thead>\n    <tr style=\"text-align: right;\">\n      <th></th>\n      <th>tBodyAcc-mean()-X</th>\n      <th>tBodyAcc-mean()-Y</th>\n      <th>tBodyAcc-mean()-Z</th>\n      <th>tBodyAcc-std()-X</th>\n      <th>tBodyAcc-std()-Y</th>\n      <th>tBodyAcc-std()-Z</th>\n      <th>tBodyAcc-mad()-X</th>\n      <th>tBodyAcc-mad()-Y</th>\n      <th>tBodyAcc-mad()-Z</th>\n      <th>tBodyAcc-max()-X</th>\n      <th>...</th>\n      <th>fBodyBodyGyroJerkMag-kurtosis()</th>\n      <th>angle(tBodyAccMean,gravity)</th>\n      <th>angle(tBodyAccJerkMean),gravityMean)</th>\n      <th>angle(tBodyGyroMean,gravityMean)</th>\n      <th>angle(tBodyGyroJerkMean,gravityMean)</th>\n      <th>angle(X,gravityMean)</th>\n      <th>angle(Y,gravityMean)</th>\n      <th>angle(Z,gravityMean)</th>\n      <th>subject</th>\n      <th>Activity</th>\n    </tr>\n  </thead>\n  <tbody>\n    <tr>\n      <th>0</th>\n      <td>0.257178</td>\n      <td>-0.023285</td>\n      <td>-0.014654</td>\n      <td>-0.938404</td>\n      <td>-0.920091</td>\n      <td>-0.667683</td>\n      <td>-0.952501</td>\n      <td>-0.925249</td>\n      <td>-0.674302</td>\n      <td>-0.894088</td>\n      <td>...</td>\n      <td>-0.705974</td>\n      <td>0.006462</td>\n      <td>0.162920</td>\n      <td>-0.825886</td>\n      <td>0.271151</td>\n      <td>-0.720009</td>\n      <td>0.276801</td>\n      <td>-0.057978</td>\n      <td>2</td>\n      <td>STANDING</td>\n    </tr>\n    <tr>\n      <th>1</th>\n      <td>0.286027</td>\n      <td>-0.013163</td>\n      <td>-0.119083</td>\n      <td>-0.975415</td>\n      <td>-0.967458</td>\n      <td>-0.944958</td>\n      <td>-0.986799</td>\n      <td>-0.968401</td>\n      <td>-0.945823</td>\n      <td>-0.894088</td>\n      <td>...</td>\n      <td>-0.594944</td>\n      <td>-0.083495</td>\n      <td>0.017500</td>\n      <td>-0.434375</td>\n      <td>0.920593</td>\n      <td>-0.698091</td>\n      <td>0.281343</td>\n      <td>-0.083898</td>\n      <td>2</td>\n      <td>STANDING</td>\n    </tr>\n    <tr>\n      <th>2</th>\n      <td>0.275485</td>\n      <td>-0.026050</td>\n      <td>-0.118152</td>\n      <td>-0.993819</td>\n      <td>-0.969926</td>\n      <td>-0.962748</td>\n      <td>-0.994403</td>\n      <td>-0.970735</td>\n      <td>-0.963483</td>\n      <td>-0.939260</td>\n      <td>...</td>\n      <td>-0.640736</td>\n      <td>-0.034956</td>\n      <td>0.202302</td>\n      <td>0.064103</td>\n      <td>0.145068</td>\n      <td>-0.702771</td>\n      <td>0.280083</td>\n      <td>-0.079346</td>\n      <td>2</td>\n      <td>STANDING</td>\n    </tr>\n    <tr>\n      <th>3</th>\n      <td>0.270298</td>\n      <td>-0.032614</td>\n      <td>-0.117520</td>\n      <td>-0.994743</td>\n      <td>-0.973268</td>\n      <td>-0.967091</td>\n      <td>-0.995274</td>\n      <td>-0.974471</td>\n      <td>-0.968897</td>\n      <td>-0.938610</td>\n      <td>...</td>\n      <td>-0.736124</td>\n      <td>-0.017067</td>\n      <td>0.154438</td>\n      <td>0.340134</td>\n      <td>0.296407</td>\n      <td>-0.698954</td>\n      <td>0.284114</td>\n      <td>-0.077108</td>\n      <td>2</td>\n      <td>STANDING</td>\n    </tr>\n    <tr>\n      <th>4</th>\n      <td>0.274833</td>\n      <td>-0.027848</td>\n      <td>-0.129527</td>\n      <td>-0.993852</td>\n      <td>-0.967445</td>\n      <td>-0.978295</td>\n      <td>-0.994111</td>\n      <td>-0.965953</td>\n      <td>-0.977346</td>\n      <td>-0.938610</td>\n      <td>...</td>\n      <td>-0.846595</td>\n      <td>-0.002223</td>\n      <td>-0.040046</td>\n      <td>0.736715</td>\n      <td>-0.118545</td>\n      <td>-0.692245</td>\n      <td>0.290722</td>\n      <td>-0.073857</td>\n      <td>2</td>\n      <td>STANDING</td>\n    </tr>\n    <tr>\n      <th>...</th>\n      <td>...</td>\n      <td>...</td>\n      <td>...</td>\n      <td>...</td>\n      <td>...</td>\n      <td>...</td>\n      <td>...</td>\n      <td>...</td>\n      <td>...</td>\n      <td>...</td>\n      <td>...</td>\n      <td>...</td>\n      <td>...</td>\n      <td>...</td>\n      <td>...</td>\n      <td>...</td>\n      <td>...</td>\n      <td>...</td>\n      <td>...</td>\n      <td>...</td>\n      <td>...</td>\n    </tr>\n    <tr>\n      <th>2942</th>\n      <td>0.310155</td>\n      <td>-0.053391</td>\n      <td>-0.099109</td>\n      <td>-0.287866</td>\n      <td>-0.140589</td>\n      <td>-0.215088</td>\n      <td>-0.356083</td>\n      <td>-0.148775</td>\n      <td>-0.232057</td>\n      <td>0.185361</td>\n      <td>...</td>\n      <td>-0.750809</td>\n      <td>-0.337422</td>\n      <td>0.346295</td>\n      <td>0.884904</td>\n      <td>-0.698885</td>\n      <td>-0.651732</td>\n      <td>0.274627</td>\n      <td>0.184784</td>\n      <td>24</td>\n      <td>WALKING_UPSTAIRS</td>\n    </tr>\n    <tr>\n      <th>2943</th>\n      <td>0.363385</td>\n      <td>-0.039214</td>\n      <td>-0.105915</td>\n      <td>-0.305388</td>\n      <td>0.028148</td>\n      <td>-0.196373</td>\n      <td>-0.373540</td>\n      <td>-0.030036</td>\n      <td>-0.270237</td>\n      <td>0.185361</td>\n      <td>...</td>\n      <td>-0.700274</td>\n      <td>-0.736701</td>\n      <td>-0.372889</td>\n      <td>-0.657421</td>\n      <td>0.322549</td>\n      <td>-0.655181</td>\n      <td>0.273578</td>\n      <td>0.182412</td>\n      <td>24</td>\n      <td>WALKING_UPSTAIRS</td>\n    </tr>\n    <tr>\n      <th>2944</th>\n      <td>0.349966</td>\n      <td>0.030077</td>\n      <td>-0.115788</td>\n      <td>-0.329638</td>\n      <td>-0.042143</td>\n      <td>-0.250181</td>\n      <td>-0.388017</td>\n      <td>-0.133257</td>\n      <td>-0.347029</td>\n      <td>0.007471</td>\n      <td>...</td>\n      <td>-0.467179</td>\n      <td>-0.181560</td>\n      <td>0.088574</td>\n      <td>0.696663</td>\n      <td>0.363139</td>\n      <td>-0.655357</td>\n      <td>0.274479</td>\n      <td>0.181184</td>\n      <td>24</td>\n      <td>WALKING_UPSTAIRS</td>\n    </tr>\n    <tr>\n      <th>2945</th>\n      <td>0.237594</td>\n      <td>0.018467</td>\n      <td>-0.096499</td>\n      <td>-0.323114</td>\n      <td>-0.229775</td>\n      <td>-0.207574</td>\n      <td>-0.392380</td>\n      <td>-0.279610</td>\n      <td>-0.289477</td>\n      <td>0.007471</td>\n      <td>...</td>\n      <td>-0.617737</td>\n      <td>0.444558</td>\n      <td>-0.819188</td>\n      <td>0.929294</td>\n      <td>-0.008398</td>\n      <td>-0.659719</td>\n      <td>0.264782</td>\n      <td>0.187563</td>\n      <td>24</td>\n      <td>WALKING_UPSTAIRS</td>\n    </tr>\n    <tr>\n      <th>2946</th>\n      <td>0.153627</td>\n      <td>-0.018437</td>\n      <td>-0.137018</td>\n      <td>-0.330046</td>\n      <td>-0.195253</td>\n      <td>-0.164339</td>\n      <td>-0.430974</td>\n      <td>-0.218295</td>\n      <td>-0.229933</td>\n      <td>-0.111527</td>\n      <td>...</td>\n      <td>-0.436940</td>\n      <td>0.598808</td>\n      <td>-0.287951</td>\n      <td>0.876030</td>\n      <td>-0.024965</td>\n      <td>-0.660080</td>\n      <td>0.263936</td>\n      <td>0.188103</td>\n      <td>24</td>\n      <td>WALKING_UPSTAIRS</td>\n    </tr>\n  </tbody>\n</table>\n<p>2947 rows × 563 columns</p>\n</div>"
     },
     "metadata": {},
     "execution_count": 8
    }
   ],
   "source": [
    "zf = zipfile.ZipFile('../data/raw_data/d12 - human_activity_recogniton_with_smartphones.zip')\n",
    "print(zipfile.ZipFile.namelist(zf))\n",
    "df = pd.read_csv(zf.open(zipfile.ZipFile.namelist(zf)[1]))\n",
    "df"
   ]
  },
  {
   "cell_type": "code",
   "execution_count": 9,
   "metadata": {},
   "outputs": [],
   "source": [
    "le = preprocessing.LabelEncoder()\n",
    "df['Activity'] = le.fit_transform(df['Activity'])"
   ]
  },
  {
   "cell_type": "code",
   "execution_count": 11,
   "metadata": {},
   "outputs": [],
   "source": [
    "df = df.drop(columns=['subject'])"
   ]
  },
  {
   "cell_type": "code",
   "execution_count": 12,
   "metadata": {},
   "outputs": [
    {
     "output_type": "execute_result",
     "data": {
      "text/plain": [
       "array([2, 1, 0, 3, 4, 5])"
      ]
     },
     "metadata": {},
     "execution_count": 12
    }
   ],
   "source": [
    "df['Activity'].unique()"
   ]
  },
  {
   "cell_type": "code",
   "execution_count": 13,
   "metadata": {},
   "outputs": [
    {
     "output_type": "execute_result",
     "data": {
      "text/plain": [
       "(2947, 562)"
      ]
     },
     "metadata": {},
     "execution_count": 13
    }
   ],
   "source": [
    "df.shape"
   ]
  },
  {
   "cell_type": "code",
   "execution_count": 14,
   "metadata": {},
   "outputs": [],
   "source": [
    "df = df.sample(n=250, replace=False)"
   ]
  },
  {
   "cell_type": "code",
   "execution_count": 15,
   "metadata": {},
   "outputs": [
    {
     "output_type": "execute_result",
     "data": {
      "text/plain": [
       "      tBodyAcc-mean()-X  tBodyAcc-mean()-Y  tBodyAcc-mean()-Z  \\\n",
       "1337           0.273955          -0.026781          -0.116150   \n",
       "2481           0.262766          -0.016369          -0.110761   \n",
       "2527           0.165513          -0.025855          -0.239141   \n",
       "2488           0.278824          -0.017439          -0.107217   \n",
       "2120           0.296286          -0.014353          -0.109306   \n",
       "\n",
       "      tBodyAcc-std()-X  tBodyAcc-std()-Y  tBodyAcc-std()-Z  tBodyAcc-mad()-X  \\\n",
       "1337         -0.288176         -0.146274         -0.359279         -0.356918   \n",
       "2481         -0.994604         -0.992875         -0.985962         -0.995433   \n",
       "2527         -0.030534          0.878520         -0.177660         -0.114477   \n",
       "2488         -0.996461         -0.993848         -0.984047         -0.997410   \n",
       "2120         -0.976739         -0.979621         -0.985588         -0.979732   \n",
       "\n",
       "      tBodyAcc-mad()-Y  tBodyAcc-mad()-Z  tBodyAcc-max()-X  ...  \\\n",
       "1337         -0.211562         -0.326954          0.139300  ...   \n",
       "2481         -0.992627         -0.988921         -0.945673  ...   \n",
       "2527          0.839570         -0.211504          0.423882  ...   \n",
       "2488         -0.994067         -0.984378         -0.937147  ...   \n",
       "2120         -0.978525         -0.983890         -0.900958  ...   \n",
       "\n",
       "      fBodyBodyGyroJerkMag-skewness()  fBodyBodyGyroJerkMag-kurtosis()  \\\n",
       "1337                        -0.565770                        -0.863983   \n",
       "2481                        -0.603424                        -0.869974   \n",
       "2527                        -0.130101                        -0.568234   \n",
       "2488                        -0.496793                        -0.850464   \n",
       "2120                        -0.685516                        -0.919919   \n",
       "\n",
       "      angle(tBodyAccMean,gravity)  angle(tBodyAccJerkMean),gravityMean)  \\\n",
       "1337                    -0.079469                              0.244065   \n",
       "2481                    -0.045417                             -0.409197   \n",
       "2527                     0.320172                             -0.409701   \n",
       "2488                     0.119665                              0.324664   \n",
       "2120                    -0.187863                              0.725937   \n",
       "\n",
       "      angle(tBodyGyroMean,gravityMean)  angle(tBodyGyroJerkMean,gravityMean)  \\\n",
       "1337                         -0.894094                             -0.894331   \n",
       "2481                         -0.346979                              0.412417   \n",
       "2527                          0.878117                             -0.151596   \n",
       "2488                         -0.495337                             -0.642437   \n",
       "2120                          0.357395                             -0.500854   \n",
       "\n",
       "      angle(X,gravityMean)  angle(Y,gravityMean)  angle(Z,gravityMean)  target  \n",
       "1337             -0.733480              0.253077              0.120122       5  \n",
       "2481              0.609479             -0.841097             -0.152138       0  \n",
       "2527             -0.759776              0.261596             -0.011927       4  \n",
       "2488              0.620877             -0.849485             -0.142540       0  \n",
       "2120              0.403199             -0.303858             -0.683966       0  \n",
       "\n",
       "[5 rows x 562 columns]"
      ],
      "text/html": "<div>\n<style scoped>\n    .dataframe tbody tr th:only-of-type {\n        vertical-align: middle;\n    }\n\n    .dataframe tbody tr th {\n        vertical-align: top;\n    }\n\n    .dataframe thead th {\n        text-align: right;\n    }\n</style>\n<table border=\"1\" class=\"dataframe\">\n  <thead>\n    <tr style=\"text-align: right;\">\n      <th></th>\n      <th>tBodyAcc-mean()-X</th>\n      <th>tBodyAcc-mean()-Y</th>\n      <th>tBodyAcc-mean()-Z</th>\n      <th>tBodyAcc-std()-X</th>\n      <th>tBodyAcc-std()-Y</th>\n      <th>tBodyAcc-std()-Z</th>\n      <th>tBodyAcc-mad()-X</th>\n      <th>tBodyAcc-mad()-Y</th>\n      <th>tBodyAcc-mad()-Z</th>\n      <th>tBodyAcc-max()-X</th>\n      <th>...</th>\n      <th>fBodyBodyGyroJerkMag-skewness()</th>\n      <th>fBodyBodyGyroJerkMag-kurtosis()</th>\n      <th>angle(tBodyAccMean,gravity)</th>\n      <th>angle(tBodyAccJerkMean),gravityMean)</th>\n      <th>angle(tBodyGyroMean,gravityMean)</th>\n      <th>angle(tBodyGyroJerkMean,gravityMean)</th>\n      <th>angle(X,gravityMean)</th>\n      <th>angle(Y,gravityMean)</th>\n      <th>angle(Z,gravityMean)</th>\n      <th>target</th>\n    </tr>\n  </thead>\n  <tbody>\n    <tr>\n      <th>1337</th>\n      <td>0.273955</td>\n      <td>-0.026781</td>\n      <td>-0.116150</td>\n      <td>-0.288176</td>\n      <td>-0.146274</td>\n      <td>-0.359279</td>\n      <td>-0.356918</td>\n      <td>-0.211562</td>\n      <td>-0.326954</td>\n      <td>0.139300</td>\n      <td>...</td>\n      <td>-0.565770</td>\n      <td>-0.863983</td>\n      <td>-0.079469</td>\n      <td>0.244065</td>\n      <td>-0.894094</td>\n      <td>-0.894331</td>\n      <td>-0.733480</td>\n      <td>0.253077</td>\n      <td>0.120122</td>\n      <td>5</td>\n    </tr>\n    <tr>\n      <th>2481</th>\n      <td>0.262766</td>\n      <td>-0.016369</td>\n      <td>-0.110761</td>\n      <td>-0.994604</td>\n      <td>-0.992875</td>\n      <td>-0.985962</td>\n      <td>-0.995433</td>\n      <td>-0.992627</td>\n      <td>-0.988921</td>\n      <td>-0.945673</td>\n      <td>...</td>\n      <td>-0.603424</td>\n      <td>-0.869974</td>\n      <td>-0.045417</td>\n      <td>-0.409197</td>\n      <td>-0.346979</td>\n      <td>0.412417</td>\n      <td>0.609479</td>\n      <td>-0.841097</td>\n      <td>-0.152138</td>\n      <td>0</td>\n    </tr>\n    <tr>\n      <th>2527</th>\n      <td>0.165513</td>\n      <td>-0.025855</td>\n      <td>-0.239141</td>\n      <td>-0.030534</td>\n      <td>0.878520</td>\n      <td>-0.177660</td>\n      <td>-0.114477</td>\n      <td>0.839570</td>\n      <td>-0.211504</td>\n      <td>0.423882</td>\n      <td>...</td>\n      <td>-0.130101</td>\n      <td>-0.568234</td>\n      <td>0.320172</td>\n      <td>-0.409701</td>\n      <td>0.878117</td>\n      <td>-0.151596</td>\n      <td>-0.759776</td>\n      <td>0.261596</td>\n      <td>-0.011927</td>\n      <td>4</td>\n    </tr>\n    <tr>\n      <th>2488</th>\n      <td>0.278824</td>\n      <td>-0.017439</td>\n      <td>-0.107217</td>\n      <td>-0.996461</td>\n      <td>-0.993848</td>\n      <td>-0.984047</td>\n      <td>-0.997410</td>\n      <td>-0.994067</td>\n      <td>-0.984378</td>\n      <td>-0.937147</td>\n      <td>...</td>\n      <td>-0.496793</td>\n      <td>-0.850464</td>\n      <td>0.119665</td>\n      <td>0.324664</td>\n      <td>-0.495337</td>\n      <td>-0.642437</td>\n      <td>0.620877</td>\n      <td>-0.849485</td>\n      <td>-0.142540</td>\n      <td>0</td>\n    </tr>\n    <tr>\n      <th>2120</th>\n      <td>0.296286</td>\n      <td>-0.014353</td>\n      <td>-0.109306</td>\n      <td>-0.976739</td>\n      <td>-0.979621</td>\n      <td>-0.985588</td>\n      <td>-0.979732</td>\n      <td>-0.978525</td>\n      <td>-0.983890</td>\n      <td>-0.900958</td>\n      <td>...</td>\n      <td>-0.685516</td>\n      <td>-0.919919</td>\n      <td>-0.187863</td>\n      <td>0.725937</td>\n      <td>0.357395</td>\n      <td>-0.500854</td>\n      <td>0.403199</td>\n      <td>-0.303858</td>\n      <td>-0.683966</td>\n      <td>0</td>\n    </tr>\n  </tbody>\n</table>\n<p>5 rows × 562 columns</p>\n</div>"
     },
     "metadata": {},
     "execution_count": 15
    }
   ],
   "source": [
    "df = df.rename(columns={'Activity': 'target'})\n",
    "df.head()"
   ]
  },
  {
   "cell_type": "code",
   "execution_count": 17,
   "metadata": {},
   "outputs": [],
   "source": [
    "compression=dict(\n",
    "    method='zip', archive_name='d12 - human.csv')\n",
    "\n",
    "df.to_csv(\n",
    "    '../data/preprocessed_data/d12 - human.zip', index=False, compression=compression)"
   ]
  },
  {
   "cell_type": "code",
   "execution_count": null,
   "metadata": {},
   "outputs": [],
   "source": []
  }
 ]
}