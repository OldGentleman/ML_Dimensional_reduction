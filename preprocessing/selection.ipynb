{
 "metadata": {
  "language_info": {
   "codemirror_mode": {
    "name": "ipython",
    "version": 3
   },
   "file_extension": ".py",
   "mimetype": "text/x-python",
   "name": "python",
   "nbconvert_exporter": "python",
   "pygments_lexer": "ipython3",
   "version": "3.9.5"
  },
  "orig_nbformat": 2,
  "kernelspec": {
   "name": "python3",
   "display_name": "Python 3",
   "language": "python"
  }
 },
 "nbformat": 4,
 "nbformat_minor": 2,
 "cells": [
  {
   "cell_type": "code",
   "execution_count": 4,
   "metadata": {},
   "outputs": [],
   "source": [
    "import numpy as np\n",
    "import pandas as pd\n",
    "import zipfile"
   ]
  },
  {
   "cell_type": "code",
   "execution_count": 5,
   "metadata": {},
   "outputs": [],
   "source": [
    "def str_to_arr(s: str) -> str:\n",
    "    s = s[1:-1]\n",
    "    return np.fromstring(s, sep=' ')"
   ]
  },
  {
   "cell_type": "code",
   "execution_count": 13,
   "metadata": {},
   "outputs": [
    {
     "output_type": "execute_result",
     "data": {
      "text/plain": [
       "        0      1      2      3      4      5      6      7      8      9  ...  \\\n",
       "0    19.0  218.0  218.0  217.0  216.0  210.0  203.0  198.0  193.0  188.0  ...   \n",
       "1     4.0   84.0   82.0   52.0   39.0   41.0   46.0   36.0   30.0   49.0  ...   \n",
       "2     6.0  106.0  106.0  106.0  106.0  106.0  106.0  105.0  106.0  105.0  ...   \n",
       "3     1.0   24.0   35.0   33.0   44.0   76.0  108.0  116.0  119.0  119.0  ...   \n",
       "4     2.0   31.0   21.0   40.0   50.0   64.0   98.0   70.0   58.0   71.0  ...   \n",
       "..    ...    ...    ...    ...    ...    ...    ...    ...    ...    ...  ...   \n",
       "245  75.0  173.0  165.0  159.0  162.0  186.0  193.0  198.0  203.0  206.0  ...   \n",
       "246   4.0   37.0   29.0   23.0   32.0   35.0   27.0   29.0   28.0   22.0  ...   \n",
       "247   9.0  169.0  188.0  198.0  203.0  205.0  205.0  208.0  212.0  213.0  ...   \n",
       "248  55.0  255.0  255.0  255.0  255.0  255.0  255.0  255.0  255.0  255.0  ...   \n",
       "249   2.0   90.0   96.0  104.0  114.0  124.0  131.0  137.0  143.0  150.0  ...   \n",
       "\n",
       "      2295   2296   2297   2298   2299   2300   2301   2302  2303  target  \n",
       "0    169.0  170.0  171.0  172.0  172.0  170.0  174.0  178.0  17.0     4.0  \n",
       "1     32.0   25.0   49.0   63.0  141.0  150.0  236.0  235.0  23.0     3.0  \n",
       "2      3.0    9.0   14.0   13.0   15.0   17.0   20.0   16.0   2.0     3.0  \n",
       "3     83.0   83.0   82.0   86.0  101.0  117.0  124.0  112.0   8.0     3.0  \n",
       "4    159.0  155.0  154.0  159.0  164.0  166.0  170.0  169.0  16.0     3.0  \n",
       "..     ...    ...    ...    ...    ...    ...    ...    ...   ...     ...  \n",
       "245  216.0  209.0  201.0  191.0  165.0  116.0   95.0  153.0   7.0     2.0  \n",
       "246  208.0  230.0  233.0  225.0  221.0  237.0  235.0  229.0  24.0     4.0  \n",
       "247  174.0  165.0  156.0  148.0  142.0  126.0  111.0  118.0  12.0     1.0  \n",
       "248  165.0  122.0   79.0   44.0  107.0  174.0  212.0  214.0  21.0     2.0  \n",
       "249  169.0  172.0  176.0  182.0  189.0  198.0  209.0  215.0  21.0     1.0  \n",
       "\n",
       "[250 rows x 2305 columns]"
      ],
      "text/html": "<div>\n<style scoped>\n    .dataframe tbody tr th:only-of-type {\n        vertical-align: middle;\n    }\n\n    .dataframe tbody tr th {\n        vertical-align: top;\n    }\n\n    .dataframe thead th {\n        text-align: right;\n    }\n</style>\n<table border=\"1\" class=\"dataframe\">\n  <thead>\n    <tr style=\"text-align: right;\">\n      <th></th>\n      <th>0</th>\n      <th>1</th>\n      <th>2</th>\n      <th>3</th>\n      <th>4</th>\n      <th>5</th>\n      <th>6</th>\n      <th>7</th>\n      <th>8</th>\n      <th>9</th>\n      <th>...</th>\n      <th>2295</th>\n      <th>2296</th>\n      <th>2297</th>\n      <th>2298</th>\n      <th>2299</th>\n      <th>2300</th>\n      <th>2301</th>\n      <th>2302</th>\n      <th>2303</th>\n      <th>target</th>\n    </tr>\n  </thead>\n  <tbody>\n    <tr>\n      <th>0</th>\n      <td>19.0</td>\n      <td>218.0</td>\n      <td>218.0</td>\n      <td>217.0</td>\n      <td>216.0</td>\n      <td>210.0</td>\n      <td>203.0</td>\n      <td>198.0</td>\n      <td>193.0</td>\n      <td>188.0</td>\n      <td>...</td>\n      <td>169.0</td>\n      <td>170.0</td>\n      <td>171.0</td>\n      <td>172.0</td>\n      <td>172.0</td>\n      <td>170.0</td>\n      <td>174.0</td>\n      <td>178.0</td>\n      <td>17.0</td>\n      <td>4.0</td>\n    </tr>\n    <tr>\n      <th>1</th>\n      <td>4.0</td>\n      <td>84.0</td>\n      <td>82.0</td>\n      <td>52.0</td>\n      <td>39.0</td>\n      <td>41.0</td>\n      <td>46.0</td>\n      <td>36.0</td>\n      <td>30.0</td>\n      <td>49.0</td>\n      <td>...</td>\n      <td>32.0</td>\n      <td>25.0</td>\n      <td>49.0</td>\n      <td>63.0</td>\n      <td>141.0</td>\n      <td>150.0</td>\n      <td>236.0</td>\n      <td>235.0</td>\n      <td>23.0</td>\n      <td>3.0</td>\n    </tr>\n    <tr>\n      <th>2</th>\n      <td>6.0</td>\n      <td>106.0</td>\n      <td>106.0</td>\n      <td>106.0</td>\n      <td>106.0</td>\n      <td>106.0</td>\n      <td>106.0</td>\n      <td>105.0</td>\n      <td>106.0</td>\n      <td>105.0</td>\n      <td>...</td>\n      <td>3.0</td>\n      <td>9.0</td>\n      <td>14.0</td>\n      <td>13.0</td>\n      <td>15.0</td>\n      <td>17.0</td>\n      <td>20.0</td>\n      <td>16.0</td>\n      <td>2.0</td>\n      <td>3.0</td>\n    </tr>\n    <tr>\n      <th>3</th>\n      <td>1.0</td>\n      <td>24.0</td>\n      <td>35.0</td>\n      <td>33.0</td>\n      <td>44.0</td>\n      <td>76.0</td>\n      <td>108.0</td>\n      <td>116.0</td>\n      <td>119.0</td>\n      <td>119.0</td>\n      <td>...</td>\n      <td>83.0</td>\n      <td>83.0</td>\n      <td>82.0</td>\n      <td>86.0</td>\n      <td>101.0</td>\n      <td>117.0</td>\n      <td>124.0</td>\n      <td>112.0</td>\n      <td>8.0</td>\n      <td>3.0</td>\n    </tr>\n    <tr>\n      <th>4</th>\n      <td>2.0</td>\n      <td>31.0</td>\n      <td>21.0</td>\n      <td>40.0</td>\n      <td>50.0</td>\n      <td>64.0</td>\n      <td>98.0</td>\n      <td>70.0</td>\n      <td>58.0</td>\n      <td>71.0</td>\n      <td>...</td>\n      <td>159.0</td>\n      <td>155.0</td>\n      <td>154.0</td>\n      <td>159.0</td>\n      <td>164.0</td>\n      <td>166.0</td>\n      <td>170.0</td>\n      <td>169.0</td>\n      <td>16.0</td>\n      <td>3.0</td>\n    </tr>\n    <tr>\n      <th>...</th>\n      <td>...</td>\n      <td>...</td>\n      <td>...</td>\n      <td>...</td>\n      <td>...</td>\n      <td>...</td>\n      <td>...</td>\n      <td>...</td>\n      <td>...</td>\n      <td>...</td>\n      <td>...</td>\n      <td>...</td>\n      <td>...</td>\n      <td>...</td>\n      <td>...</td>\n      <td>...</td>\n      <td>...</td>\n      <td>...</td>\n      <td>...</td>\n      <td>...</td>\n      <td>...</td>\n    </tr>\n    <tr>\n      <th>245</th>\n      <td>75.0</td>\n      <td>173.0</td>\n      <td>165.0</td>\n      <td>159.0</td>\n      <td>162.0</td>\n      <td>186.0</td>\n      <td>193.0</td>\n      <td>198.0</td>\n      <td>203.0</td>\n      <td>206.0</td>\n      <td>...</td>\n      <td>216.0</td>\n      <td>209.0</td>\n      <td>201.0</td>\n      <td>191.0</td>\n      <td>165.0</td>\n      <td>116.0</td>\n      <td>95.0</td>\n      <td>153.0</td>\n      <td>7.0</td>\n      <td>2.0</td>\n    </tr>\n    <tr>\n      <th>246</th>\n      <td>4.0</td>\n      <td>37.0</td>\n      <td>29.0</td>\n      <td>23.0</td>\n      <td>32.0</td>\n      <td>35.0</td>\n      <td>27.0</td>\n      <td>29.0</td>\n      <td>28.0</td>\n      <td>22.0</td>\n      <td>...</td>\n      <td>208.0</td>\n      <td>230.0</td>\n      <td>233.0</td>\n      <td>225.0</td>\n      <td>221.0</td>\n      <td>237.0</td>\n      <td>235.0</td>\n      <td>229.0</td>\n      <td>24.0</td>\n      <td>4.0</td>\n    </tr>\n    <tr>\n      <th>247</th>\n      <td>9.0</td>\n      <td>169.0</td>\n      <td>188.0</td>\n      <td>198.0</td>\n      <td>203.0</td>\n      <td>205.0</td>\n      <td>205.0</td>\n      <td>208.0</td>\n      <td>212.0</td>\n      <td>213.0</td>\n      <td>...</td>\n      <td>174.0</td>\n      <td>165.0</td>\n      <td>156.0</td>\n      <td>148.0</td>\n      <td>142.0</td>\n      <td>126.0</td>\n      <td>111.0</td>\n      <td>118.0</td>\n      <td>12.0</td>\n      <td>1.0</td>\n    </tr>\n    <tr>\n      <th>248</th>\n      <td>55.0</td>\n      <td>255.0</td>\n      <td>255.0</td>\n      <td>255.0</td>\n      <td>255.0</td>\n      <td>255.0</td>\n      <td>255.0</td>\n      <td>255.0</td>\n      <td>255.0</td>\n      <td>255.0</td>\n      <td>...</td>\n      <td>165.0</td>\n      <td>122.0</td>\n      <td>79.0</td>\n      <td>44.0</td>\n      <td>107.0</td>\n      <td>174.0</td>\n      <td>212.0</td>\n      <td>214.0</td>\n      <td>21.0</td>\n      <td>2.0</td>\n    </tr>\n    <tr>\n      <th>249</th>\n      <td>2.0</td>\n      <td>90.0</td>\n      <td>96.0</td>\n      <td>104.0</td>\n      <td>114.0</td>\n      <td>124.0</td>\n      <td>131.0</td>\n      <td>137.0</td>\n      <td>143.0</td>\n      <td>150.0</td>\n      <td>...</td>\n      <td>169.0</td>\n      <td>172.0</td>\n      <td>176.0</td>\n      <td>182.0</td>\n      <td>189.0</td>\n      <td>198.0</td>\n      <td>209.0</td>\n      <td>215.0</td>\n      <td>21.0</td>\n      <td>1.0</td>\n    </tr>\n  </tbody>\n</table>\n<p>250 rows × 2305 columns</p>\n</div>"
     },
     "metadata": {},
     "execution_count": 13
    }
   ],
   "source": [
    "df = pd.read_csv('../data/preprocessed_data/d13 - fer2013.zip')\n",
    "# df = df.drop(columns=['Unamed: 0'])\n",
    "df"
   ]
  },
  {
   "cell_type": "code",
   "execution_count": 30,
   "metadata": {},
   "outputs": [
    {
     "output_type": "execute_result",
     "data": {
      "text/plain": [
       "   emotion                                             pixels     Usage\n",
       "0        0  70 80 82 72 58 58 60 63 54 58 60 48 89 115 121...  Training\n",
       "1        0  151 150 147 155 148 133 111 140 170 174 182 15...  Training\n",
       "2        2  231 212 156 164 174 138 161 173 182 200 106 38...  Training\n",
       "3        4  24 32 36 30 32 23 19 20 30 41 21 22 32 34 21 1...  Training\n",
       "4        6  4 0 0 0 0 0 0 0 0 0 0 0 3 15 23 28 48 50 58 84...  Training"
      ],
      "text/html": "<div>\n<style scoped>\n    .dataframe tbody tr th:only-of-type {\n        vertical-align: middle;\n    }\n\n    .dataframe tbody tr th {\n        vertical-align: top;\n    }\n\n    .dataframe thead th {\n        text-align: right;\n    }\n</style>\n<table border=\"1\" class=\"dataframe\">\n  <thead>\n    <tr style=\"text-align: right;\">\n      <th></th>\n      <th>emotion</th>\n      <th>pixels</th>\n      <th>Usage</th>\n    </tr>\n  </thead>\n  <tbody>\n    <tr>\n      <th>0</th>\n      <td>0</td>\n      <td>70 80 82 72 58 58 60 63 54 58 60 48 89 115 121...</td>\n      <td>Training</td>\n    </tr>\n    <tr>\n      <th>1</th>\n      <td>0</td>\n      <td>151 150 147 155 148 133 111 140 170 174 182 15...</td>\n      <td>Training</td>\n    </tr>\n    <tr>\n      <th>2</th>\n      <td>2</td>\n      <td>231 212 156 164 174 138 161 173 182 200 106 38...</td>\n      <td>Training</td>\n    </tr>\n    <tr>\n      <th>3</th>\n      <td>4</td>\n      <td>24 32 36 30 32 23 19 20 30 41 21 22 32 34 21 1...</td>\n      <td>Training</td>\n    </tr>\n    <tr>\n      <th>4</th>\n      <td>6</td>\n      <td>4 0 0 0 0 0 0 0 0 0 0 0 3 15 23 28 48 50 58 84...</td>\n      <td>Training</td>\n    </tr>\n  </tbody>\n</table>\n</div>"
     },
     "metadata": {},
     "execution_count": 30
    }
   ],
   "source": [
    "df.head()"
   ]
  },
  {
   "cell_type": "code",
   "execution_count": 31,
   "metadata": {},
   "outputs": [],
   "source": [
    "df = df.drop(columns=['Usage'])"
   ]
  },
  {
   "cell_type": "code",
   "execution_count": 40,
   "metadata": {},
   "outputs": [],
   "source": [
    "df = df[(df['emotion'] == 0) | (df['emotion'] == 1)| (df['emotion'] == 2)| (df['emotion'] == 3)| (df['emotion'] == 4)]\n",
    "df = df.sample(n=250, replace=False)"
   ]
  },
  {
   "cell_type": "code",
   "execution_count": 50,
   "metadata": {},
   "outputs": [
    {
     "output_type": "execute_result",
     "data": {
      "text/plain": [
       "       emotion                                             pixels\n",
       "29226        4  219 218 218 217 216 210 203 198 193 188 187 18...\n",
       "5429         3  84 84 82 52 39 41 46 36 30 49 97 130 145 157 1...\n",
       "22978        3  106 106 106 106 106 106 106 105 106 105 105 10...\n",
       "2030         3  51 24 35 33 44 76 108 116 119 119 118 120 122 ...\n",
       "10784        3  32 31 21 40 50 64 98 70 58 71 84 122 200 201 1..."
      ],
      "text/html": "<div>\n<style scoped>\n    .dataframe tbody tr th:only-of-type {\n        vertical-align: middle;\n    }\n\n    .dataframe tbody tr th {\n        vertical-align: top;\n    }\n\n    .dataframe thead th {\n        text-align: right;\n    }\n</style>\n<table border=\"1\" class=\"dataframe\">\n  <thead>\n    <tr style=\"text-align: right;\">\n      <th></th>\n      <th>emotion</th>\n      <th>pixels</th>\n    </tr>\n  </thead>\n  <tbody>\n    <tr>\n      <th>29226</th>\n      <td>4</td>\n      <td>219 218 218 217 216 210 203 198 193 188 187 18...</td>\n    </tr>\n    <tr>\n      <th>5429</th>\n      <td>3</td>\n      <td>84 84 82 52 39 41 46 36 30 49 97 130 145 157 1...</td>\n    </tr>\n    <tr>\n      <th>22978</th>\n      <td>3</td>\n      <td>106 106 106 106 106 106 106 105 106 105 105 10...</td>\n    </tr>\n    <tr>\n      <th>2030</th>\n      <td>3</td>\n      <td>51 24 35 33 44 76 108 116 119 119 118 120 122 ...</td>\n    </tr>\n    <tr>\n      <th>10784</th>\n      <td>3</td>\n      <td>32 31 21 40 50 64 98 70 58 71 84 122 200 201 1...</td>\n    </tr>\n  </tbody>\n</table>\n</div>"
     },
     "metadata": {},
     "execution_count": 50
    }
   ],
   "source": [
    "df.head()"
   ]
  },
  {
   "cell_type": "code",
   "execution_count": 53,
   "metadata": {},
   "outputs": [],
   "source": [
    "res = []\n",
    "for i in range(250):\n",
    "    res.append(str_to_arr(df['pixels'].iloc[i]))"
   ]
  },
  {
   "cell_type": "code",
   "execution_count": 54,
   "metadata": {},
   "outputs": [],
   "source": [
    "data = pd.DataFrame(data=res)"
   ]
  },
  {
   "cell_type": "code",
   "execution_count": 58,
   "metadata": {},
   "outputs": [
    {
     "output_type": "execute_result",
     "data": {
      "text/plain": [
       "29226    4\n",
       "5429     3\n",
       "22978    3\n",
       "2030     3\n",
       "10784    3\n",
       "        ..\n",
       "24812    2\n",
       "25569    4\n",
       "4088     1\n",
       "4977     2\n",
       "34126    1\n",
       "Name: emotion, Length: 250, dtype: int64"
      ]
     },
     "metadata": {},
     "execution_count": 58
    }
   ],
   "source": [
    "df['emotion']"
   ]
  },
  {
   "cell_type": "code",
   "execution_count": 64,
   "metadata": {},
   "outputs": [],
   "source": [
    "for i in range(250):\n",
    "    data['target'].loc[i] = int(df['emotion'].iloc[i])"
   ]
  },
  {
   "cell_type": "code",
   "execution_count": 26,
   "metadata": {},
   "outputs": [],
   "source": [
    "#df.sample(n=250, replace=False).to_csv('../data/raw_data/mnist.csv')"
   ]
  },
  {
   "cell_type": "code",
   "execution_count": 67,
   "metadata": {},
   "outputs": [
    {
     "output_type": "execute_result",
     "data": {
      "text/plain": [
       "      0      1      2      3      4      5      6      7      8      9  ...  \\\n",
       "0  19.0  218.0  218.0  217.0  216.0  210.0  203.0  198.0  193.0  188.0  ...   \n",
       "1   4.0   84.0   82.0   52.0   39.0   41.0   46.0   36.0   30.0   49.0  ...   \n",
       "2   6.0  106.0  106.0  106.0  106.0  106.0  106.0  105.0  106.0  105.0  ...   \n",
       "3   1.0   24.0   35.0   33.0   44.0   76.0  108.0  116.0  119.0  119.0  ...   \n",
       "4   2.0   31.0   21.0   40.0   50.0   64.0   98.0   70.0   58.0   71.0  ...   \n",
       "\n",
       "    2295   2296   2297   2298   2299   2300   2301   2302  2303  target  \n",
       "0  169.0  170.0  171.0  172.0  172.0  170.0  174.0  178.0  17.0     4.0  \n",
       "1   32.0   25.0   49.0   63.0  141.0  150.0  236.0  235.0  23.0     3.0  \n",
       "2    3.0    9.0   14.0   13.0   15.0   17.0   20.0   16.0   2.0     3.0  \n",
       "3   83.0   83.0   82.0   86.0  101.0  117.0  124.0  112.0   8.0     3.0  \n",
       "4  159.0  155.0  154.0  159.0  164.0  166.0  170.0  169.0  16.0     3.0  \n",
       "\n",
       "[5 rows x 2305 columns]"
      ],
      "text/html": "<div>\n<style scoped>\n    .dataframe tbody tr th:only-of-type {\n        vertical-align: middle;\n    }\n\n    .dataframe tbody tr th {\n        vertical-align: top;\n    }\n\n    .dataframe thead th {\n        text-align: right;\n    }\n</style>\n<table border=\"1\" class=\"dataframe\">\n  <thead>\n    <tr style=\"text-align: right;\">\n      <th></th>\n      <th>0</th>\n      <th>1</th>\n      <th>2</th>\n      <th>3</th>\n      <th>4</th>\n      <th>5</th>\n      <th>6</th>\n      <th>7</th>\n      <th>8</th>\n      <th>9</th>\n      <th>...</th>\n      <th>2295</th>\n      <th>2296</th>\n      <th>2297</th>\n      <th>2298</th>\n      <th>2299</th>\n      <th>2300</th>\n      <th>2301</th>\n      <th>2302</th>\n      <th>2303</th>\n      <th>target</th>\n    </tr>\n  </thead>\n  <tbody>\n    <tr>\n      <th>0</th>\n      <td>19.0</td>\n      <td>218.0</td>\n      <td>218.0</td>\n      <td>217.0</td>\n      <td>216.0</td>\n      <td>210.0</td>\n      <td>203.0</td>\n      <td>198.0</td>\n      <td>193.0</td>\n      <td>188.0</td>\n      <td>...</td>\n      <td>169.0</td>\n      <td>170.0</td>\n      <td>171.0</td>\n      <td>172.0</td>\n      <td>172.0</td>\n      <td>170.0</td>\n      <td>174.0</td>\n      <td>178.0</td>\n      <td>17.0</td>\n      <td>4.0</td>\n    </tr>\n    <tr>\n      <th>1</th>\n      <td>4.0</td>\n      <td>84.0</td>\n      <td>82.0</td>\n      <td>52.0</td>\n      <td>39.0</td>\n      <td>41.0</td>\n      <td>46.0</td>\n      <td>36.0</td>\n      <td>30.0</td>\n      <td>49.0</td>\n      <td>...</td>\n      <td>32.0</td>\n      <td>25.0</td>\n      <td>49.0</td>\n      <td>63.0</td>\n      <td>141.0</td>\n      <td>150.0</td>\n      <td>236.0</td>\n      <td>235.0</td>\n      <td>23.0</td>\n      <td>3.0</td>\n    </tr>\n    <tr>\n      <th>2</th>\n      <td>6.0</td>\n      <td>106.0</td>\n      <td>106.0</td>\n      <td>106.0</td>\n      <td>106.0</td>\n      <td>106.0</td>\n      <td>106.0</td>\n      <td>105.0</td>\n      <td>106.0</td>\n      <td>105.0</td>\n      <td>...</td>\n      <td>3.0</td>\n      <td>9.0</td>\n      <td>14.0</td>\n      <td>13.0</td>\n      <td>15.0</td>\n      <td>17.0</td>\n      <td>20.0</td>\n      <td>16.0</td>\n      <td>2.0</td>\n      <td>3.0</td>\n    </tr>\n    <tr>\n      <th>3</th>\n      <td>1.0</td>\n      <td>24.0</td>\n      <td>35.0</td>\n      <td>33.0</td>\n      <td>44.0</td>\n      <td>76.0</td>\n      <td>108.0</td>\n      <td>116.0</td>\n      <td>119.0</td>\n      <td>119.0</td>\n      <td>...</td>\n      <td>83.0</td>\n      <td>83.0</td>\n      <td>82.0</td>\n      <td>86.0</td>\n      <td>101.0</td>\n      <td>117.0</td>\n      <td>124.0</td>\n      <td>112.0</td>\n      <td>8.0</td>\n      <td>3.0</td>\n    </tr>\n    <tr>\n      <th>4</th>\n      <td>2.0</td>\n      <td>31.0</td>\n      <td>21.0</td>\n      <td>40.0</td>\n      <td>50.0</td>\n      <td>64.0</td>\n      <td>98.0</td>\n      <td>70.0</td>\n      <td>58.0</td>\n      <td>71.0</td>\n      <td>...</td>\n      <td>159.0</td>\n      <td>155.0</td>\n      <td>154.0</td>\n      <td>159.0</td>\n      <td>164.0</td>\n      <td>166.0</td>\n      <td>170.0</td>\n      <td>169.0</td>\n      <td>16.0</td>\n      <td>3.0</td>\n    </tr>\n  </tbody>\n</table>\n<p>5 rows × 2305 columns</p>\n</div>"
     },
     "metadata": {},
     "execution_count": 67
    }
   ],
   "source": [
    "data.head()"
   ]
  },
  {
   "cell_type": "code",
   "execution_count": 70,
   "metadata": {},
   "outputs": [],
   "source": [
    "data.to_csv('../data/raw_data/fer2013.csv', index=False)"
   ]
  },
  {
   "cell_type": "code",
   "execution_count": 9,
   "metadata": {},
   "outputs": [
    {
     "output_type": "execute_result",
     "data": {
      "text/plain": [
       "      0      1      2      3      4      5      6      7      8      9  ...  \\\n",
       "0  19.0  218.0  218.0  217.0  216.0  210.0  203.0  198.0  193.0  188.0  ...   \n",
       "1   4.0   84.0   82.0   52.0   39.0   41.0   46.0   36.0   30.0   49.0  ...   \n",
       "2   6.0  106.0  106.0  106.0  106.0  106.0  106.0  105.0  106.0  105.0  ...   \n",
       "3   1.0   24.0   35.0   33.0   44.0   76.0  108.0  116.0  119.0  119.0  ...   \n",
       "4   2.0   31.0   21.0   40.0   50.0   64.0   98.0   70.0   58.0   71.0  ...   \n",
       "\n",
       "    2295   2296   2297   2298   2299   2300   2301   2302  2303  target  \n",
       "0  169.0  170.0  171.0  172.0  172.0  170.0  174.0  178.0  17.0     4.0  \n",
       "1   32.0   25.0   49.0   63.0  141.0  150.0  236.0  235.0  23.0     3.0  \n",
       "2    3.0    9.0   14.0   13.0   15.0   17.0   20.0   16.0   2.0     3.0  \n",
       "3   83.0   83.0   82.0   86.0  101.0  117.0  124.0  112.0   8.0     3.0  \n",
       "4  159.0  155.0  154.0  159.0  164.0  166.0  170.0  169.0  16.0     3.0  \n",
       "\n",
       "[5 rows x 2305 columns]"
      ],
      "text/html": "<div>\n<style scoped>\n    .dataframe tbody tr th:only-of-type {\n        vertical-align: middle;\n    }\n\n    .dataframe tbody tr th {\n        vertical-align: top;\n    }\n\n    .dataframe thead th {\n        text-align: right;\n    }\n</style>\n<table border=\"1\" class=\"dataframe\">\n  <thead>\n    <tr style=\"text-align: right;\">\n      <th></th>\n      <th>0</th>\n      <th>1</th>\n      <th>2</th>\n      <th>3</th>\n      <th>4</th>\n      <th>5</th>\n      <th>6</th>\n      <th>7</th>\n      <th>8</th>\n      <th>9</th>\n      <th>...</th>\n      <th>2295</th>\n      <th>2296</th>\n      <th>2297</th>\n      <th>2298</th>\n      <th>2299</th>\n      <th>2300</th>\n      <th>2301</th>\n      <th>2302</th>\n      <th>2303</th>\n      <th>target</th>\n    </tr>\n  </thead>\n  <tbody>\n    <tr>\n      <th>0</th>\n      <td>19.0</td>\n      <td>218.0</td>\n      <td>218.0</td>\n      <td>217.0</td>\n      <td>216.0</td>\n      <td>210.0</td>\n      <td>203.0</td>\n      <td>198.0</td>\n      <td>193.0</td>\n      <td>188.0</td>\n      <td>...</td>\n      <td>169.0</td>\n      <td>170.0</td>\n      <td>171.0</td>\n      <td>172.0</td>\n      <td>172.0</td>\n      <td>170.0</td>\n      <td>174.0</td>\n      <td>178.0</td>\n      <td>17.0</td>\n      <td>4.0</td>\n    </tr>\n    <tr>\n      <th>1</th>\n      <td>4.0</td>\n      <td>84.0</td>\n      <td>82.0</td>\n      <td>52.0</td>\n      <td>39.0</td>\n      <td>41.0</td>\n      <td>46.0</td>\n      <td>36.0</td>\n      <td>30.0</td>\n      <td>49.0</td>\n      <td>...</td>\n      <td>32.0</td>\n      <td>25.0</td>\n      <td>49.0</td>\n      <td>63.0</td>\n      <td>141.0</td>\n      <td>150.0</td>\n      <td>236.0</td>\n      <td>235.0</td>\n      <td>23.0</td>\n      <td>3.0</td>\n    </tr>\n    <tr>\n      <th>2</th>\n      <td>6.0</td>\n      <td>106.0</td>\n      <td>106.0</td>\n      <td>106.0</td>\n      <td>106.0</td>\n      <td>106.0</td>\n      <td>106.0</td>\n      <td>105.0</td>\n      <td>106.0</td>\n      <td>105.0</td>\n      <td>...</td>\n      <td>3.0</td>\n      <td>9.0</td>\n      <td>14.0</td>\n      <td>13.0</td>\n      <td>15.0</td>\n      <td>17.0</td>\n      <td>20.0</td>\n      <td>16.0</td>\n      <td>2.0</td>\n      <td>3.0</td>\n    </tr>\n    <tr>\n      <th>3</th>\n      <td>1.0</td>\n      <td>24.0</td>\n      <td>35.0</td>\n      <td>33.0</td>\n      <td>44.0</td>\n      <td>76.0</td>\n      <td>108.0</td>\n      <td>116.0</td>\n      <td>119.0</td>\n      <td>119.0</td>\n      <td>...</td>\n      <td>83.0</td>\n      <td>83.0</td>\n      <td>82.0</td>\n      <td>86.0</td>\n      <td>101.0</td>\n      <td>117.0</td>\n      <td>124.0</td>\n      <td>112.0</td>\n      <td>8.0</td>\n      <td>3.0</td>\n    </tr>\n    <tr>\n      <th>4</th>\n      <td>2.0</td>\n      <td>31.0</td>\n      <td>21.0</td>\n      <td>40.0</td>\n      <td>50.0</td>\n      <td>64.0</td>\n      <td>98.0</td>\n      <td>70.0</td>\n      <td>58.0</td>\n      <td>71.0</td>\n      <td>...</td>\n      <td>159.0</td>\n      <td>155.0</td>\n      <td>154.0</td>\n      <td>159.0</td>\n      <td>164.0</td>\n      <td>166.0</td>\n      <td>170.0</td>\n      <td>169.0</td>\n      <td>16.0</td>\n      <td>3.0</td>\n    </tr>\n  </tbody>\n</table>\n<p>5 rows × 2305 columns</p>\n</div>"
     },
     "metadata": {},
     "execution_count": 9
    }
   ],
   "source": [
    "to = pd.read_csv('/home/dzmitry/Study/Maga/ml/ML_Dimensional_reduction/data/preprocessed_data/d13 - fer2013_I.zip')\n",
    "to.head()"
   ]
  },
  {
   "cell_type": "code",
   "execution_count": 17,
   "metadata": {},
   "outputs": [],
   "source": [
    "to = to.fillna(0)"
   ]
  },
  {
   "cell_type": "code",
   "execution_count": 18,
   "metadata": {},
   "outputs": [
    {
     "output_type": "execute_result",
     "data": {
      "text/plain": [
       "0"
      ]
     },
     "metadata": {},
     "execution_count": 18
    }
   ],
   "source": [
    "to.isnull().values.sum()"
   ]
  },
  {
   "cell_type": "code",
   "execution_count": 19,
   "metadata": {},
   "outputs": [],
   "source": [
    "to.to_csv('../data/raw_data/fer2013.csv', index=False)"
   ]
  },
  {
   "cell_type": "code",
   "execution_count": null,
   "metadata": {},
   "outputs": [],
   "source": []
  }
 ]
}