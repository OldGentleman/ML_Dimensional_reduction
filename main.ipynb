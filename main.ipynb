{
 "metadata": {
  "language_info": {
   "codemirror_mode": {
    "name": "ipython",
    "version": 3
   },
   "file_extension": ".py",
   "mimetype": "text/x-python",
   "name": "python",
   "nbconvert_exporter": "python",
   "pygments_lexer": "ipython3",
   "version": "3.8.9"
  },
  "orig_nbformat": 2,
  "kernelspec": {
   "name": "python3",
   "display_name": "Python 3.8.9 64-bit ('venv': venv)",
   "metadata": {
    "interpreter": {
     "hash": "560cba97768927542ee84f368775feb873961793696b26b080dc58bba23207be"
    }
   }
  }
 },
 "nbformat": 4,
 "nbformat_minor": 2,
 "cells": [
  {
   "cell_type": "code",
   "execution_count": 14,
   "metadata": {},
   "outputs": [],
   "source": [
    "import numpy as np\n",
    "import pandas as pd\n",
    "\n",
    "import matplotlib.pyplot as plt\n",
    "import seaborn as sns\n",
    "from matplotlib.colors import ListedColormap\n",
    "\n",
    "import umap\n",
    "from MulticoreTSNE import MulticoreTSNE as TSNE\n",
    "from sklearn.decomposition import PCA\n",
    "\n",
    "from sklearn.svm import SVC\n",
    "from sklearn.neighbors import KNeighborsClassifier\n",
    "from sklearn.naive_bayes import GaussianNB"
   ]
  },
  {
   "cell_type": "code",
   "execution_count": 15,
   "metadata": {},
   "outputs": [],
   "source": [
    "# iris\n",
    "iris_train = pd.read_csv('data/preprocessed_data/iris_train.zip', compression='zip')\n",
    "iris_test = pd.read_csv('data/preprocessed_data/iris_test.zip', compression='zip')\n",
    "\n",
    "train_target = iris_train['Species']\n",
    "iris_train = iris_train.drop(columns=['Species'], axis = 1)\n",
    "\n",
    "test_target = iris_test['Species']\n",
    "iris_test = iris_test.drop(columns=['Species'], axis = 1)"
   ]
  },
  {
   "cell_type": "code",
   "execution_count": 16,
   "metadata": {},
   "outputs": [],
   "source": [
    "reduction_names = ['UMAP', 't-SNE', 'PCA']\n",
    "dim_num = 2\n",
    "reductions = [\n",
    "    umap.UMAP(n_components = dim_num),\n",
    "    TSNE(n_components=dim_num, n_jobs=4),\n",
    "    PCA(n_components=dim_num)\n",
    "]\n",
    "\n",
    "classifieres_names = ['RBF SVM', 'Nearest Neighbors', 'Naive Bayes']\n",
    "classifieres = [\n",
    "    SVC(gamma='scale', C=1),\n",
    "    KNeighborsClassifier(3),\n",
    "    GaussianNB()\n",
    "]"
   ]
  },
  {
   "cell_type": "code",
   "execution_count": 17,
   "metadata": {},
   "outputs": [
    {
     "output_type": "display_data",
     "data": {
      "text/plain": "<Figure size 1800x720 with 0 Axes>"
     },
     "metadata": {}
    }
   ],
   "source": [
    "figure = plt.figure(figsize=(25, 10))\n",
    "for r_name, reduction in zip(reduction_names, reductions):\n",
    "    pass"
   ]
  }
 ]
}