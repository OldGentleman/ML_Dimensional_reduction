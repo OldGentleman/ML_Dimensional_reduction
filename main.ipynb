{
 "cells": [
  {
   "cell_type": "code",
   "execution_count": 5,
   "outputs": [],
   "source": [
    "import umap as umap\n",
    "import numpy as np\n",
    "import pandas as pd"
   ],
   "metadata": {
    "collapsed": false,
    "pycharm": {
     "name": "#%%\n"
    }
   }
  },
  {
   "cell_type": "code",
   "execution_count": 20,
   "outputs": [],
   "source": [
    "human_activity_recognition: pd.DataFrame = pd.read_csv('data/human_activity_recogniton_with_smartphones/train.csv')\n",
    "trump_insults: pd.DataFrame = pd.read_csv('data/trump_insults/trump_insult_tweets_2014_to_2021.csv')\n",
    "google_jobs: pd.DataFrame = pd.read_csv('data/google_jobs/job_skills.csv')"
   ],
   "metadata": {
    "collapsed": false,
    "pycharm": {
     "name": "#%%\n"
    }
   }
  },
  {
   "cell_type": "code",
   "execution_count": 12,
   "metadata": {},
   "outputs": [
    {
     "output_type": "execute_result",
     "data": {
      "text/plain": [
       "(7352, 563)"
      ]
     },
     "metadata": {},
     "execution_count": 12
    }
   ],
   "source": [
    "human_activity_recognition.shape"
   ]
  },
  {
   "cell_type": "code",
   "execution_count": 13,
   "metadata": {},
   "outputs": [
    {
     "output_type": "execute_result",
     "data": {
      "text/plain": [
       "array(['STANDING', 'SITTING', 'LAYING', 'WALKING', 'WALKING_DOWNSTAIRS',\n",
       "       'WALKING_UPSTAIRS'], dtype=object)"
      ]
     },
     "metadata": {},
     "execution_count": 13
    }
   ],
   "source": [
    "pd.unique(human_activity_recognition['Activity'])"
   ]
  },
  {
   "cell_type": "code",
   "execution_count": 15,
   "metadata": {},
   "outputs": [
    {
     "output_type": "execute_result",
     "data": {
      "text/plain": [
       "   Unnamed: 0        date          target  \\\n",
       "0           1  2014-10-09  thomas-frieden   \n",
       "1           2  2014-10-09  thomas-frieden   \n",
       "2           3  2015-06-16     politicians   \n",
       "3           4  2015-06-24      ben-cardin   \n",
       "4           5  2015-06-24      neil-young   \n",
       "\n",
       "                                              insult  \\\n",
       "0                                               fool   \n",
       "1                                               DOPE   \n",
       "2                             all talk and no action   \n",
       "3  It's politicians like Cardin that have destroy...   \n",
       "4                                    total hypocrite   \n",
       "\n",
       "                                               tweet  \n",
       "0  Can you believe this fool, Dr. Thomas Frieden ...  \n",
       "1  Can you believe this fool, Dr. Thomas Frieden ...  \n",
       "2  Big time in U.S. today - MAKE AMERICA GREAT AG...  \n",
       "3  Politician @SenatorCardin didn't like that I s...  \n",
       "4  For the nonbeliever, here is a photo of @Neily...  "
      ],
      "text/html": "<div>\n<style scoped>\n    .dataframe tbody tr th:only-of-type {\n        vertical-align: middle;\n    }\n\n    .dataframe tbody tr th {\n        vertical-align: top;\n    }\n\n    .dataframe thead th {\n        text-align: right;\n    }\n</style>\n<table border=\"1\" class=\"dataframe\">\n  <thead>\n    <tr style=\"text-align: right;\">\n      <th></th>\n      <th>Unnamed: 0</th>\n      <th>date</th>\n      <th>target</th>\n      <th>insult</th>\n      <th>tweet</th>\n    </tr>\n  </thead>\n  <tbody>\n    <tr>\n      <th>0</th>\n      <td>1</td>\n      <td>2014-10-09</td>\n      <td>thomas-frieden</td>\n      <td>fool</td>\n      <td>Can you believe this fool, Dr. Thomas Frieden ...</td>\n    </tr>\n    <tr>\n      <th>1</th>\n      <td>2</td>\n      <td>2014-10-09</td>\n      <td>thomas-frieden</td>\n      <td>DOPE</td>\n      <td>Can you believe this fool, Dr. Thomas Frieden ...</td>\n    </tr>\n    <tr>\n      <th>2</th>\n      <td>3</td>\n      <td>2015-06-16</td>\n      <td>politicians</td>\n      <td>all talk and no action</td>\n      <td>Big time in U.S. today - MAKE AMERICA GREAT AG...</td>\n    </tr>\n    <tr>\n      <th>3</th>\n      <td>4</td>\n      <td>2015-06-24</td>\n      <td>ben-cardin</td>\n      <td>It's politicians like Cardin that have destroy...</td>\n      <td>Politician @SenatorCardin didn't like that I s...</td>\n    </tr>\n    <tr>\n      <th>4</th>\n      <td>5</td>\n      <td>2015-06-24</td>\n      <td>neil-young</td>\n      <td>total hypocrite</td>\n      <td>For the nonbeliever, here is a photo of @Neily...</td>\n    </tr>\n  </tbody>\n</table>\n</div>"
     },
     "metadata": {},
     "execution_count": 15
    }
   ],
   "source": [
    "trump_insults.head()"
   ]
  },
  {
   "cell_type": "code",
   "execution_count": 17,
   "metadata": {},
   "outputs": [
    {
     "output_type": "stream",
     "name": "stdout",
     "text": [
      "(10360, 5)\n867\n6729\n"
     ]
    }
   ],
   "source": [
    "print(trump_insults.shape)\n",
    "print(len(pd.unique(trump_insults['target'])))\n",
    "print(len(pd.unique(trump_insults['insult'])))"
   ]
  },
  {
   "cell_type": "code",
   "execution_count": 23,
   "metadata": {},
   "outputs": [
    {
     "output_type": "stream",
     "name": "stdout",
     "text": [
      "(1250, 7)\n794\n23\n"
     ]
    }
   ],
   "source": [
    "print(google_jobs.shape)\n",
    "print(len(pd.unique(google_jobs['Title'])))\n",
    "print(len(pd.unique(google_jobs['Category'])))"
   ]
  },
  {
   "cell_type": "code",
   "execution_count": 22,
   "metadata": {},
   "outputs": [
    {
     "output_type": "execute_result",
     "data": {
      "text/plain": [
       "  Company                                              Title  \\\n",
       "0  Google                       Google Cloud Program Manager   \n",
       "1  Google  Supplier Development Engineer (SDE), Cable/Con...   \n",
       "2  Google  Data Analyst, Product and Tools Operations, Go...   \n",
       "3  Google            Developer Advocate, Partner Engineering   \n",
       "4  Google     Program Manager, Audio Visual (AV) Deployments   \n",
       "\n",
       "                       Category                          Location  \\\n",
       "0            Program Management                         Singapore   \n",
       "1  Manufacturing & Supply Chain                   Shanghai, China   \n",
       "2           Technical Solutions       New York, NY, United States   \n",
       "3           Developer Relations  Mountain View, CA, United States   \n",
       "4            Program Management      Sunnyvale, CA, United States   \n",
       "\n",
       "                                    Responsibilities  \\\n",
       "0  Shape, shepherd, ship, and show technical prog...   \n",
       "1  Drive cross-functional activities in the suppl...   \n",
       "2  Collect and analyze data to draw insight and i...   \n",
       "3  Work one-on-one with the top Android, iOS, and...   \n",
       "4  Plan requirements with internal customers.\\nPr...   \n",
       "\n",
       "                              Minimum Qualifications  \\\n",
       "0  BA/BS degree or equivalent practical experienc...   \n",
       "1  BS degree in an Engineering discipline or equi...   \n",
       "2  Bachelor’s degree in Business, Economics, Stat...   \n",
       "3  BA/BS degree in Computer Science or equivalent...   \n",
       "4  BA/BS degree or equivalent practical experienc...   \n",
       "\n",
       "                            Preferred Qualifications  \n",
       "0  Experience in the business technology market a...  \n",
       "1  BSEE, BSME or BSIE degree.\\nExperience of usin...  \n",
       "2  Experience partnering or consulting cross-func...  \n",
       "3  Experience as a software developer, architect,...  \n",
       "4  CTS Certification.\\nExperience in the construc...  "
      ],
      "text/html": "<div>\n<style scoped>\n    .dataframe tbody tr th:only-of-type {\n        vertical-align: middle;\n    }\n\n    .dataframe tbody tr th {\n        vertical-align: top;\n    }\n\n    .dataframe thead th {\n        text-align: right;\n    }\n</style>\n<table border=\"1\" class=\"dataframe\">\n  <thead>\n    <tr style=\"text-align: right;\">\n      <th></th>\n      <th>Company</th>\n      <th>Title</th>\n      <th>Category</th>\n      <th>Location</th>\n      <th>Responsibilities</th>\n      <th>Minimum Qualifications</th>\n      <th>Preferred Qualifications</th>\n    </tr>\n  </thead>\n  <tbody>\n    <tr>\n      <th>0</th>\n      <td>Google</td>\n      <td>Google Cloud Program Manager</td>\n      <td>Program Management</td>\n      <td>Singapore</td>\n      <td>Shape, shepherd, ship, and show technical prog...</td>\n      <td>BA/BS degree or equivalent practical experienc...</td>\n      <td>Experience in the business technology market a...</td>\n    </tr>\n    <tr>\n      <th>1</th>\n      <td>Google</td>\n      <td>Supplier Development Engineer (SDE), Cable/Con...</td>\n      <td>Manufacturing &amp; Supply Chain</td>\n      <td>Shanghai, China</td>\n      <td>Drive cross-functional activities in the suppl...</td>\n      <td>BS degree in an Engineering discipline or equi...</td>\n      <td>BSEE, BSME or BSIE degree.\\nExperience of usin...</td>\n    </tr>\n    <tr>\n      <th>2</th>\n      <td>Google</td>\n      <td>Data Analyst, Product and Tools Operations, Go...</td>\n      <td>Technical Solutions</td>\n      <td>New York, NY, United States</td>\n      <td>Collect and analyze data to draw insight and i...</td>\n      <td>Bachelor’s degree in Business, Economics, Stat...</td>\n      <td>Experience partnering or consulting cross-func...</td>\n    </tr>\n    <tr>\n      <th>3</th>\n      <td>Google</td>\n      <td>Developer Advocate, Partner Engineering</td>\n      <td>Developer Relations</td>\n      <td>Mountain View, CA, United States</td>\n      <td>Work one-on-one with the top Android, iOS, and...</td>\n      <td>BA/BS degree in Computer Science or equivalent...</td>\n      <td>Experience as a software developer, architect,...</td>\n    </tr>\n    <tr>\n      <th>4</th>\n      <td>Google</td>\n      <td>Program Manager, Audio Visual (AV) Deployments</td>\n      <td>Program Management</td>\n      <td>Sunnyvale, CA, United States</td>\n      <td>Plan requirements with internal customers.\\nPr...</td>\n      <td>BA/BS degree or equivalent practical experienc...</td>\n      <td>CTS Certification.\\nExperience in the construc...</td>\n    </tr>\n  </tbody>\n</table>\n</div>"
     },
     "metadata": {},
     "execution_count": 22
    }
   ],
   "source": [
    "google_jobs.head()"
   ]
  },
  {
   "cell_type": "code",
   "execution_count": null,
   "metadata": {},
   "outputs": [],
   "source": []
  }
 ],
 "metadata": {
  "kernelspec": {
   "name": "python3",
   "display_name": "Python 3.8.9 64-bit ('venv': venv)",
   "metadata": {
    "interpreter": {
     "hash": "560cba97768927542ee84f368775feb873961793696b26b080dc58bba23207be"
    }
   }
  },
  "language_info": {
   "codemirror_mode": {
    "name": "ipython",
    "version": 2
   },
   "file_extension": ".py",
   "mimetype": "text/x-python",
   "name": "python",
   "nbconvert_exporter": "python",
   "pygments_lexer": "ipython2",
   "version": "3.8.9"
  }
 },
 "nbformat": 4,
 "nbformat_minor": 0
}