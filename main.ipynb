{
 "cells": [
  {
   "cell_type": "code",
   "execution_count": 5,
   "outputs": [],
   "source": [
    "import umap as umap\n",
    "import numpy as np\n",
    "import pandas as pd"
   ],
   "metadata": {
    "collapsed": false,
    "pycharm": {
     "name": "#%%\n"
    }
   }
  },
  {
   "cell_type": "code",
   "execution_count": 11,
   "outputs": [],
   "source": [
    "human_activity_recognition: pd.DataFrame = pd.read_csv('data/human_activity_recogniton_with_smartphones/train.csv')\n",
    "trump_insults: pd.DataFrame = pd.read_csv('data/trump_insults/trump_insult_tweets_2014_to_2021.csv')"
   ],
   "metadata": {
    "collapsed": false,
    "pycharm": {
     "name": "#%%\n"
    }
   }
  },
  {
   "cell_type": "code",
   "execution_count": 12,
   "metadata": {},
   "outputs": [
    {
     "output_type": "execute_result",
     "data": {
      "text/plain": [
       "(7352, 563)"
      ]
     },
     "metadata": {},
     "execution_count": 12
    }
   ],
   "source": [
    "human_activity_recognition.shape"
   ]
  },
  {
   "cell_type": "code",
   "execution_count": 13,
   "metadata": {},
   "outputs": [
    {
     "output_type": "execute_result",
     "data": {
      "text/plain": [
       "array(['STANDING', 'SITTING', 'LAYING', 'WALKING', 'WALKING_DOWNSTAIRS',\n",
       "       'WALKING_UPSTAIRS'], dtype=object)"
      ]
     },
     "metadata": {},
     "execution_count": 13
    }
   ],
   "source": [
    "pd.unique(human_activity_recognition['Activity'])"
   ]
  },
  {
   "cell_type": "code",
   "execution_count": 15,
   "metadata": {},
   "outputs": [
    {
     "output_type": "execute_result",
     "data": {
      "text/plain": [
       "   Unnamed: 0        date          target  \\\n",
       "0           1  2014-10-09  thomas-frieden   \n",
       "1           2  2014-10-09  thomas-frieden   \n",
       "2           3  2015-06-16     politicians   \n",
       "3           4  2015-06-24      ben-cardin   \n",
       "4           5  2015-06-24      neil-young   \n",
       "\n",
       "                                              insult  \\\n",
       "0                                               fool   \n",
       "1                                               DOPE   \n",
       "2                             all talk and no action   \n",
       "3  It's politicians like Cardin that have destroy...   \n",
       "4                                    total hypocrite   \n",
       "\n",
       "                                               tweet  \n",
       "0  Can you believe this fool, Dr. Thomas Frieden ...  \n",
       "1  Can you believe this fool, Dr. Thomas Frieden ...  \n",
       "2  Big time in U.S. today - MAKE AMERICA GREAT AG...  \n",
       "3  Politician @SenatorCardin didn't like that I s...  \n",
       "4  For the nonbeliever, here is a photo of @Neily...  "
      ],
      "text/html": "<div>\n<style scoped>\n    .dataframe tbody tr th:only-of-type {\n        vertical-align: middle;\n    }\n\n    .dataframe tbody tr th {\n        vertical-align: top;\n    }\n\n    .dataframe thead th {\n        text-align: right;\n    }\n</style>\n<table border=\"1\" class=\"dataframe\">\n  <thead>\n    <tr style=\"text-align: right;\">\n      <th></th>\n      <th>Unnamed: 0</th>\n      <th>date</th>\n      <th>target</th>\n      <th>insult</th>\n      <th>tweet</th>\n    </tr>\n  </thead>\n  <tbody>\n    <tr>\n      <th>0</th>\n      <td>1</td>\n      <td>2014-10-09</td>\n      <td>thomas-frieden</td>\n      <td>fool</td>\n      <td>Can you believe this fool, Dr. Thomas Frieden ...</td>\n    </tr>\n    <tr>\n      <th>1</th>\n      <td>2</td>\n      <td>2014-10-09</td>\n      <td>thomas-frieden</td>\n      <td>DOPE</td>\n      <td>Can you believe this fool, Dr. Thomas Frieden ...</td>\n    </tr>\n    <tr>\n      <th>2</th>\n      <td>3</td>\n      <td>2015-06-16</td>\n      <td>politicians</td>\n      <td>all talk and no action</td>\n      <td>Big time in U.S. today - MAKE AMERICA GREAT AG...</td>\n    </tr>\n    <tr>\n      <th>3</th>\n      <td>4</td>\n      <td>2015-06-24</td>\n      <td>ben-cardin</td>\n      <td>It's politicians like Cardin that have destroy...</td>\n      <td>Politician @SenatorCardin didn't like that I s...</td>\n    </tr>\n    <tr>\n      <th>4</th>\n      <td>5</td>\n      <td>2015-06-24</td>\n      <td>neil-young</td>\n      <td>total hypocrite</td>\n      <td>For the nonbeliever, here is a photo of @Neily...</td>\n    </tr>\n  </tbody>\n</table>\n</div>"
     },
     "metadata": {},
     "execution_count": 15
    }
   ],
   "source": [
    "trump_insults.head()"
   ]
  },
  {
   "cell_type": "code",
   "execution_count": 17,
   "metadata": {},
   "outputs": [
    {
     "output_type": "stream",
     "name": "stdout",
     "text": [
      "(10360, 5)\n867\n6729\n"
     ]
    }
   ],
   "source": [
    "print(trump_insults.shape)\n",
    "print(len(pd.unique(trump_insults['target'])))\n",
    "print(len(pd.unique(trump_insults['insult'])))"
   ]
  },
  {
   "cell_type": "code",
   "execution_count": null,
   "metadata": {},
   "outputs": [],
   "source": []
  }
 ],
 "metadata": {
  "kernelspec": {
   "name": "python3",
   "display_name": "Python 3.8.9 64-bit ('venv': venv)",
   "metadata": {
    "interpreter": {
     "hash": "560cba97768927542ee84f368775feb873961793696b26b080dc58bba23207be"
    }
   }
  },
  "language_info": {
   "codemirror_mode": {
    "name": "ipython",
    "version": 2
   },
   "file_extension": ".py",
   "mimetype": "text/x-python",
   "name": "python",
   "nbconvert_exporter": "python",
   "pygments_lexer": "ipython2",
   "version": "3.8.9"
  }
 },
 "nbformat": 4,
 "nbformat_minor": 0
}