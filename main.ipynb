{
 "cells": [
  {
   "cell_type": "code",
   "execution_count": 34,
   "outputs": [],
   "source": [
    "import umap as umap\n",
    "import numpy as np\n",
    "import pandas as pd\n",
    "import matplotlib.pyplot as plt\n",
    "import seaborn as sns"
   ],
   "metadata": {
    "collapsed": false,
    "pycharm": {
     "name": "#%%\n"
    }
   }
  },
  {
   "cell_type": "code",
   "execution_count": 24,
   "outputs": [],
   "source": [
    "human_activity_recognition: pd.DataFrame = pd.read_csv('data/human_activity_recogniton_with_smartphones/train.csv')\n",
    "trump_insults: pd.DataFrame = pd.read_csv('data/trump_insults/trump_insult_tweets_2014_to_2021.csv')\n",
    "google_jobs: pd.DataFrame = pd.read_csv('data/google_jobs/job_skills.csv')\n",
    "fer2013: pd.DataFrame = pd.read_csv('data/fer2013/fer2013.csv')"
   ],
   "metadata": {
    "collapsed": false,
    "pycharm": {
     "name": "#%%\n"
    }
   }
  },
  {
   "cell_type": "code",
   "execution_count": 12,
   "metadata": {},
   "outputs": [
    {
     "output_type": "execute_result",
     "data": {
      "text/plain": [
       "(7352, 563)"
      ]
     },
     "metadata": {},
     "execution_count": 12
    }
   ],
   "source": [
    "human_activity_recognition.shape"
   ]
  },
  {
   "cell_type": "code",
   "execution_count": 13,
   "metadata": {},
   "outputs": [
    {
     "output_type": "execute_result",
     "data": {
      "text/plain": [
       "array(['STANDING', 'SITTING', 'LAYING', 'WALKING', 'WALKING_DOWNSTAIRS',\n",
       "       'WALKING_UPSTAIRS'], dtype=object)"
      ]
     },
     "metadata": {},
     "execution_count": 13
    }
   ],
   "source": [
    "pd.unique(human_activity_recognition['Activity'])"
   ]
  },
  {
   "cell_type": "code",
   "execution_count": 15,
   "metadata": {},
   "outputs": [
    {
     "output_type": "execute_result",
     "data": {
      "text/plain": [
       "   Unnamed: 0        date          target  \\\n",
       "0           1  2014-10-09  thomas-frieden   \n",
       "1           2  2014-10-09  thomas-frieden   \n",
       "2           3  2015-06-16     politicians   \n",
       "3           4  2015-06-24      ben-cardin   \n",
       "4           5  2015-06-24      neil-young   \n",
       "\n",
       "                                              insult  \\\n",
       "0                                               fool   \n",
       "1                                               DOPE   \n",
       "2                             all talk and no action   \n",
       "3  It's politicians like Cardin that have destroy...   \n",
       "4                                    total hypocrite   \n",
       "\n",
       "                                               tweet  \n",
       "0  Can you believe this fool, Dr. Thomas Frieden ...  \n",
       "1  Can you believe this fool, Dr. Thomas Frieden ...  \n",
       "2  Big time in U.S. today - MAKE AMERICA GREAT AG...  \n",
       "3  Politician @SenatorCardin didn't like that I s...  \n",
       "4  For the nonbeliever, here is a photo of @Neily...  "
      ],
      "text/html": "<div>\n<style scoped>\n    .dataframe tbody tr th:only-of-type {\n        vertical-align: middle;\n    }\n\n    .dataframe tbody tr th {\n        vertical-align: top;\n    }\n\n    .dataframe thead th {\n        text-align: right;\n    }\n</style>\n<table border=\"1\" class=\"dataframe\">\n  <thead>\n    <tr style=\"text-align: right;\">\n      <th></th>\n      <th>Unnamed: 0</th>\n      <th>date</th>\n      <th>target</th>\n      <th>insult</th>\n      <th>tweet</th>\n    </tr>\n  </thead>\n  <tbody>\n    <tr>\n      <th>0</th>\n      <td>1</td>\n      <td>2014-10-09</td>\n      <td>thomas-frieden</td>\n      <td>fool</td>\n      <td>Can you believe this fool, Dr. Thomas Frieden ...</td>\n    </tr>\n    <tr>\n      <th>1</th>\n      <td>2</td>\n      <td>2014-10-09</td>\n      <td>thomas-frieden</td>\n      <td>DOPE</td>\n      <td>Can you believe this fool, Dr. Thomas Frieden ...</td>\n    </tr>\n    <tr>\n      <th>2</th>\n      <td>3</td>\n      <td>2015-06-16</td>\n      <td>politicians</td>\n      <td>all talk and no action</td>\n      <td>Big time in U.S. today - MAKE AMERICA GREAT AG...</td>\n    </tr>\n    <tr>\n      <th>3</th>\n      <td>4</td>\n      <td>2015-06-24</td>\n      <td>ben-cardin</td>\n      <td>It's politicians like Cardin that have destroy...</td>\n      <td>Politician @SenatorCardin didn't like that I s...</td>\n    </tr>\n    <tr>\n      <th>4</th>\n      <td>5</td>\n      <td>2015-06-24</td>\n      <td>neil-young</td>\n      <td>total hypocrite</td>\n      <td>For the nonbeliever, here is a photo of @Neily...</td>\n    </tr>\n  </tbody>\n</table>\n</div>"
     },
     "metadata": {},
     "execution_count": 15
    }
   ],
   "source": [
    "trump_insults.head()"
   ]
  },
  {
   "cell_type": "code",
   "execution_count": 17,
   "metadata": {},
   "outputs": [
    {
     "output_type": "stream",
     "name": "stdout",
     "text": [
      "(10360, 5)\n867\n6729\n"
     ]
    }
   ],
   "source": [
    "print(trump_insults.shape)\n",
    "print(len(pd.unique(trump_insults['target'])))\n",
    "print(len(pd.unique(trump_insults['insult'])))"
   ]
  },
  {
   "cell_type": "code",
   "execution_count": 23,
   "metadata": {},
   "outputs": [
    {
     "output_type": "stream",
     "name": "stdout",
     "text": [
      "(1250, 7)\n794\n23\n"
     ]
    }
   ],
   "source": [
    "print(google_jobs.shape)\n",
    "print(len(pd.unique(google_jobs['Title'])))\n",
    "print(len(pd.unique(google_jobs['Category'])))"
   ]
  },
  {
   "cell_type": "code",
   "execution_count": 22,
   "metadata": {},
   "outputs": [
    {
     "output_type": "execute_result",
     "data": {
      "text/plain": [
       "  Company                                              Title  \\\n",
       "0  Google                       Google Cloud Program Manager   \n",
       "1  Google  Supplier Development Engineer (SDE), Cable/Con...   \n",
       "2  Google  Data Analyst, Product and Tools Operations, Go...   \n",
       "3  Google            Developer Advocate, Partner Engineering   \n",
       "4  Google     Program Manager, Audio Visual (AV) Deployments   \n",
       "\n",
       "                       Category                          Location  \\\n",
       "0            Program Management                         Singapore   \n",
       "1  Manufacturing & Supply Chain                   Shanghai, China   \n",
       "2           Technical Solutions       New York, NY, United States   \n",
       "3           Developer Relations  Mountain View, CA, United States   \n",
       "4            Program Management      Sunnyvale, CA, United States   \n",
       "\n",
       "                                    Responsibilities  \\\n",
       "0  Shape, shepherd, ship, and show technical prog...   \n",
       "1  Drive cross-functional activities in the suppl...   \n",
       "2  Collect and analyze data to draw insight and i...   \n",
       "3  Work one-on-one with the top Android, iOS, and...   \n",
       "4  Plan requirements with internal customers.\\nPr...   \n",
       "\n",
       "                              Minimum Qualifications  \\\n",
       "0  BA/BS degree or equivalent practical experienc...   \n",
       "1  BS degree in an Engineering discipline or equi...   \n",
       "2  Bachelor’s degree in Business, Economics, Stat...   \n",
       "3  BA/BS degree in Computer Science or equivalent...   \n",
       "4  BA/BS degree or equivalent practical experienc...   \n",
       "\n",
       "                            Preferred Qualifications  \n",
       "0  Experience in the business technology market a...  \n",
       "1  BSEE, BSME or BSIE degree.\\nExperience of usin...  \n",
       "2  Experience partnering or consulting cross-func...  \n",
       "3  Experience as a software developer, architect,...  \n",
       "4  CTS Certification.\\nExperience in the construc...  "
      ],
      "text/html": "<div>\n<style scoped>\n    .dataframe tbody tr th:only-of-type {\n        vertical-align: middle;\n    }\n\n    .dataframe tbody tr th {\n        vertical-align: top;\n    }\n\n    .dataframe thead th {\n        text-align: right;\n    }\n</style>\n<table border=\"1\" class=\"dataframe\">\n  <thead>\n    <tr style=\"text-align: right;\">\n      <th></th>\n      <th>Company</th>\n      <th>Title</th>\n      <th>Category</th>\n      <th>Location</th>\n      <th>Responsibilities</th>\n      <th>Minimum Qualifications</th>\n      <th>Preferred Qualifications</th>\n    </tr>\n  </thead>\n  <tbody>\n    <tr>\n      <th>0</th>\n      <td>Google</td>\n      <td>Google Cloud Program Manager</td>\n      <td>Program Management</td>\n      <td>Singapore</td>\n      <td>Shape, shepherd, ship, and show technical prog...</td>\n      <td>BA/BS degree or equivalent practical experienc...</td>\n      <td>Experience in the business technology market a...</td>\n    </tr>\n    <tr>\n      <th>1</th>\n      <td>Google</td>\n      <td>Supplier Development Engineer (SDE), Cable/Con...</td>\n      <td>Manufacturing &amp; Supply Chain</td>\n      <td>Shanghai, China</td>\n      <td>Drive cross-functional activities in the suppl...</td>\n      <td>BS degree in an Engineering discipline or equi...</td>\n      <td>BSEE, BSME or BSIE degree.\\nExperience of usin...</td>\n    </tr>\n    <tr>\n      <th>2</th>\n      <td>Google</td>\n      <td>Data Analyst, Product and Tools Operations, Go...</td>\n      <td>Technical Solutions</td>\n      <td>New York, NY, United States</td>\n      <td>Collect and analyze data to draw insight and i...</td>\n      <td>Bachelor’s degree in Business, Economics, Stat...</td>\n      <td>Experience partnering or consulting cross-func...</td>\n    </tr>\n    <tr>\n      <th>3</th>\n      <td>Google</td>\n      <td>Developer Advocate, Partner Engineering</td>\n      <td>Developer Relations</td>\n      <td>Mountain View, CA, United States</td>\n      <td>Work one-on-one with the top Android, iOS, and...</td>\n      <td>BA/BS degree in Computer Science or equivalent...</td>\n      <td>Experience as a software developer, architect,...</td>\n    </tr>\n    <tr>\n      <th>4</th>\n      <td>Google</td>\n      <td>Program Manager, Audio Visual (AV) Deployments</td>\n      <td>Program Management</td>\n      <td>Sunnyvale, CA, United States</td>\n      <td>Plan requirements with internal customers.\\nPr...</td>\n      <td>BA/BS degree or equivalent practical experienc...</td>\n      <td>CTS Certification.\\nExperience in the construc...</td>\n    </tr>\n  </tbody>\n</table>\n</div>"
     },
     "metadata": {},
     "execution_count": 22
    }
   ],
   "source": [
    "google_jobs.head()"
   ]
  },
  {
   "cell_type": "code",
   "execution_count": 36,
   "metadata": {},
   "outputs": [
    {
     "output_type": "execute_result",
     "data": {
      "text/plain": [
       "<matplotlib.image.AxesImage at 0x7f0887cbb130>"
      ]
     },
     "metadata": {},
     "execution_count": 36
    },
    {
     "output_type": "display_data",
     "data": {
      "text/plain": "<Figure size 432x288 with 1 Axes>",
      "image/svg+xml": "<?xml version=\"1.0\" encoding=\"utf-8\" standalone=\"no\"?>\n<!DOCTYPE svg PUBLIC \"-//W3C//DTD SVG 1.1//EN\"\n  \"http://www.w3.org/Graphics/SVG/1.1/DTD/svg11.dtd\">\n<svg height=\"250.052344pt\" version=\"1.1\" viewBox=\"0 0 251.565 250.052344\" width=\"251.565pt\" xmlns=\"http://www.w3.org/2000/svg\" xmlns:xlink=\"http://www.w3.org/1999/xlink\">\n <metadata>\n  <rdf:RDF xmlns:cc=\"http://creativecommons.org/ns#\" xmlns:dc=\"http://purl.org/dc/elements/1.1/\" xmlns:rdf=\"http://www.w3.org/1999/02/22-rdf-syntax-ns#\">\n   <cc:Work>\n    <dc:type rdf:resource=\"http://purl.org/dc/dcmitype/StillImage\"/>\n    <dc:date>2021-04-25T12:20:48.452569</dc:date>\n    <dc:format>image/svg+xml</dc:format>\n    <dc:creator>\n     <cc:Agent>\n      <dc:title>Matplotlib v3.4.1, https://matplotlib.org/</dc:title>\n     </cc:Agent>\n    </dc:creator>\n   </cc:Work>\n  </rdf:RDF>\n </metadata>\n <defs>\n  <style type=\"text/css\">*{stroke-linecap:butt;stroke-linejoin:round;}</style>\n </defs>\n <g id=\"figure_1\">\n  <g id=\"patch_1\">\n   <path d=\"M 0 250.052344 \nL 251.565 250.052344 \nL 251.565 0 \nL 0 0 \nz\n\" style=\"fill:none;\"/>\n  </g>\n  <g id=\"axes_1\">\n   <g id=\"patch_2\">\n    <path d=\"M 26.925 226.174219 \nL 244.365 226.174219 \nL 244.365 8.734219 \nL 26.925 8.734219 \nz\n\" style=\"fill:#ffffff;\"/>\n   </g>\n   <g clip-path=\"url(#p4eed697e62)\">\n    <image height=\"218\" id=\"imagedb536701c7\" transform=\"scale(1 -1)translate(0 -218)\" width=\"218\" x=\"26.925\" xlink:href=\"data:image/png;base64,\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\" y=\"-8.174219\"/>\n   </g>\n   <g id=\"matplotlib.axis_1\">\n    <g id=\"xtick_1\">\n     <g id=\"line2d_1\">\n      <defs>\n       <path d=\"M 0 0 \nL 0 3.5 \n\" id=\"mc2cb03310a\" style=\"stroke:#000000;stroke-width:0.8;\"/>\n      </defs>\n      <g>\n       <use style=\"stroke:#000000;stroke-width:0.8;\" x=\"29.19\" xlink:href=\"#mc2cb03310a\" y=\"226.174219\"/>\n      </g>\n     </g>\n     <g id=\"text_1\">\n      <!-- 0 -->\n      <g transform=\"translate(26.00875 240.772656)scale(0.1 -0.1)\">\n       <defs>\n        <path d=\"M 2034 4250 \nQ 1547 4250 1301 3770 \nQ 1056 3291 1056 2328 \nQ 1056 1369 1301 889 \nQ 1547 409 2034 409 \nQ 2525 409 2770 889 \nQ 3016 1369 3016 2328 \nQ 3016 3291 2770 3770 \nQ 2525 4250 2034 4250 \nz\nM 2034 4750 \nQ 2819 4750 3233 4129 \nQ 3647 3509 3647 2328 \nQ 3647 1150 3233 529 \nQ 2819 -91 2034 -91 \nQ 1250 -91 836 529 \nQ 422 1150 422 2328 \nQ 422 3509 836 4129 \nQ 1250 4750 2034 4750 \nz\n\" id=\"DejaVuSans-30\" transform=\"scale(0.015625)\"/>\n       </defs>\n       <use xlink:href=\"#DejaVuSans-30\"/>\n      </g>\n     </g>\n    </g>\n    <g id=\"xtick_2\">\n     <g id=\"line2d_2\">\n      <g>\n       <use style=\"stroke:#000000;stroke-width:0.8;\" x=\"74.49\" xlink:href=\"#mc2cb03310a\" y=\"226.174219\"/>\n      </g>\n     </g>\n     <g id=\"text_2\">\n      <!-- 10 -->\n      <g transform=\"translate(68.1275 240.772656)scale(0.1 -0.1)\">\n       <defs>\n        <path d=\"M 794 531 \nL 1825 531 \nL 1825 4091 \nL 703 3866 \nL 703 4441 \nL 1819 4666 \nL 2450 4666 \nL 2450 531 \nL 3481 531 \nL 3481 0 \nL 794 0 \nL 794 531 \nz\n\" id=\"DejaVuSans-31\" transform=\"scale(0.015625)\"/>\n       </defs>\n       <use xlink:href=\"#DejaVuSans-31\"/>\n       <use x=\"63.623047\" xlink:href=\"#DejaVuSans-30\"/>\n      </g>\n     </g>\n    </g>\n    <g id=\"xtick_3\">\n     <g id=\"line2d_3\">\n      <g>\n       <use style=\"stroke:#000000;stroke-width:0.8;\" x=\"119.79\" xlink:href=\"#mc2cb03310a\" y=\"226.174219\"/>\n      </g>\n     </g>\n     <g id=\"text_3\">\n      <!-- 20 -->\n      <g transform=\"translate(113.4275 240.772656)scale(0.1 -0.1)\">\n       <defs>\n        <path d=\"M 1228 531 \nL 3431 531 \nL 3431 0 \nL 469 0 \nL 469 531 \nQ 828 903 1448 1529 \nQ 2069 2156 2228 2338 \nQ 2531 2678 2651 2914 \nQ 2772 3150 2772 3378 \nQ 2772 3750 2511 3984 \nQ 2250 4219 1831 4219 \nQ 1534 4219 1204 4116 \nQ 875 4013 500 3803 \nL 500 4441 \nQ 881 4594 1212 4672 \nQ 1544 4750 1819 4750 \nQ 2544 4750 2975 4387 \nQ 3406 4025 3406 3419 \nQ 3406 3131 3298 2873 \nQ 3191 2616 2906 2266 \nQ 2828 2175 2409 1742 \nQ 1991 1309 1228 531 \nz\n\" id=\"DejaVuSans-32\" transform=\"scale(0.015625)\"/>\n       </defs>\n       <use xlink:href=\"#DejaVuSans-32\"/>\n       <use x=\"63.623047\" xlink:href=\"#DejaVuSans-30\"/>\n      </g>\n     </g>\n    </g>\n    <g id=\"xtick_4\">\n     <g id=\"line2d_4\">\n      <g>\n       <use style=\"stroke:#000000;stroke-width:0.8;\" x=\"165.09\" xlink:href=\"#mc2cb03310a\" y=\"226.174219\"/>\n      </g>\n     </g>\n     <g id=\"text_4\">\n      <!-- 30 -->\n      <g transform=\"translate(158.7275 240.772656)scale(0.1 -0.1)\">\n       <defs>\n        <path d=\"M 2597 2516 \nQ 3050 2419 3304 2112 \nQ 3559 1806 3559 1356 \nQ 3559 666 3084 287 \nQ 2609 -91 1734 -91 \nQ 1441 -91 1130 -33 \nQ 819 25 488 141 \nL 488 750 \nQ 750 597 1062 519 \nQ 1375 441 1716 441 \nQ 2309 441 2620 675 \nQ 2931 909 2931 1356 \nQ 2931 1769 2642 2001 \nQ 2353 2234 1838 2234 \nL 1294 2234 \nL 1294 2753 \nL 1863 2753 \nQ 2328 2753 2575 2939 \nQ 2822 3125 2822 3475 \nQ 2822 3834 2567 4026 \nQ 2313 4219 1838 4219 \nQ 1578 4219 1281 4162 \nQ 984 4106 628 3988 \nL 628 4550 \nQ 988 4650 1302 4700 \nQ 1616 4750 1894 4750 \nQ 2613 4750 3031 4423 \nQ 3450 4097 3450 3541 \nQ 3450 3153 3228 2886 \nQ 3006 2619 2597 2516 \nz\n\" id=\"DejaVuSans-33\" transform=\"scale(0.015625)\"/>\n       </defs>\n       <use xlink:href=\"#DejaVuSans-33\"/>\n       <use x=\"63.623047\" xlink:href=\"#DejaVuSans-30\"/>\n      </g>\n     </g>\n    </g>\n    <g id=\"xtick_5\">\n     <g id=\"line2d_5\">\n      <g>\n       <use style=\"stroke:#000000;stroke-width:0.8;\" x=\"210.39\" xlink:href=\"#mc2cb03310a\" y=\"226.174219\"/>\n      </g>\n     </g>\n     <g id=\"text_5\">\n      <!-- 40 -->\n      <g transform=\"translate(204.0275 240.772656)scale(0.1 -0.1)\">\n       <defs>\n        <path d=\"M 2419 4116 \nL 825 1625 \nL 2419 1625 \nL 2419 4116 \nz\nM 2253 4666 \nL 3047 4666 \nL 3047 1625 \nL 3713 1625 \nL 3713 1100 \nL 3047 1100 \nL 3047 0 \nL 2419 0 \nL 2419 1100 \nL 313 1100 \nL 313 1709 \nL 2253 4666 \nz\n\" id=\"DejaVuSans-34\" transform=\"scale(0.015625)\"/>\n       </defs>\n       <use xlink:href=\"#DejaVuSans-34\"/>\n       <use x=\"63.623047\" xlink:href=\"#DejaVuSans-30\"/>\n      </g>\n     </g>\n    </g>\n   </g>\n   <g id=\"matplotlib.axis_2\">\n    <g id=\"ytick_1\">\n     <g id=\"line2d_6\">\n      <defs>\n       <path d=\"M 0 0 \nL -3.5 0 \n\" id=\"m031724ffc0\" style=\"stroke:#000000;stroke-width:0.8;\"/>\n      </defs>\n      <g>\n       <use style=\"stroke:#000000;stroke-width:0.8;\" x=\"26.925\" xlink:href=\"#m031724ffc0\" y=\"10.999219\"/>\n      </g>\n     </g>\n     <g id=\"text_6\">\n      <!-- 0 -->\n      <g transform=\"translate(13.5625 14.798437)scale(0.1 -0.1)\">\n       <use xlink:href=\"#DejaVuSans-30\"/>\n      </g>\n     </g>\n    </g>\n    <g id=\"ytick_2\">\n     <g id=\"line2d_7\">\n      <g>\n       <use style=\"stroke:#000000;stroke-width:0.8;\" x=\"26.925\" xlink:href=\"#m031724ffc0\" y=\"56.299219\"/>\n      </g>\n     </g>\n     <g id=\"text_7\">\n      <!-- 10 -->\n      <g transform=\"translate(7.2 60.098437)scale(0.1 -0.1)\">\n       <use xlink:href=\"#DejaVuSans-31\"/>\n       <use x=\"63.623047\" xlink:href=\"#DejaVuSans-30\"/>\n      </g>\n     </g>\n    </g>\n    <g id=\"ytick_3\">\n     <g id=\"line2d_8\">\n      <g>\n       <use style=\"stroke:#000000;stroke-width:0.8;\" x=\"26.925\" xlink:href=\"#m031724ffc0\" y=\"101.599219\"/>\n      </g>\n     </g>\n     <g id=\"text_8\">\n      <!-- 20 -->\n      <g transform=\"translate(7.2 105.398437)scale(0.1 -0.1)\">\n       <use xlink:href=\"#DejaVuSans-32\"/>\n       <use x=\"63.623047\" xlink:href=\"#DejaVuSans-30\"/>\n      </g>\n     </g>\n    </g>\n    <g id=\"ytick_4\">\n     <g id=\"line2d_9\">\n      <g>\n       <use style=\"stroke:#000000;stroke-width:0.8;\" x=\"26.925\" xlink:href=\"#m031724ffc0\" y=\"146.899219\"/>\n      </g>\n     </g>\n     <g id=\"text_9\">\n      <!-- 30 -->\n      <g transform=\"translate(7.2 150.698437)scale(0.1 -0.1)\">\n       <use xlink:href=\"#DejaVuSans-33\"/>\n       <use x=\"63.623047\" xlink:href=\"#DejaVuSans-30\"/>\n      </g>\n     </g>\n    </g>\n    <g id=\"ytick_5\">\n     <g id=\"line2d_10\">\n      <g>\n       <use style=\"stroke:#000000;stroke-width:0.8;\" x=\"26.925\" xlink:href=\"#m031724ffc0\" y=\"192.199219\"/>\n      </g>\n     </g>\n     <g id=\"text_10\">\n      <!-- 40 -->\n      <g transform=\"translate(7.2 195.998437)scale(0.1 -0.1)\">\n       <use xlink:href=\"#DejaVuSans-34\"/>\n       <use x=\"63.623047\" xlink:href=\"#DejaVuSans-30\"/>\n      </g>\n     </g>\n    </g>\n   </g>\n   <g id=\"patch_3\">\n    <path d=\"M 26.925 226.174219 \nL 26.925 8.734219 \n\" style=\"fill:none;stroke:#000000;stroke-linecap:square;stroke-linejoin:miter;stroke-width:0.8;\"/>\n   </g>\n   <g id=\"patch_4\">\n    <path d=\"M 244.365 226.174219 \nL 244.365 8.734219 \n\" style=\"fill:none;stroke:#000000;stroke-linecap:square;stroke-linejoin:miter;stroke-width:0.8;\"/>\n   </g>\n   <g id=\"patch_5\">\n    <path d=\"M 26.925 226.174219 \nL 244.365 226.174219 \n\" style=\"fill:none;stroke:#000000;stroke-linecap:square;stroke-linejoin:miter;stroke-width:0.8;\"/>\n   </g>\n   <g id=\"patch_6\">\n    <path d=\"M 26.925 8.734219 \nL 244.365 8.734219 \n\" style=\"fill:none;stroke:#000000;stroke-linecap:square;stroke-linejoin:miter;stroke-width:0.8;\"/>\n   </g>\n  </g>\n </g>\n <defs>\n  <clipPath id=\"p4eed697e62\">\n   <rect height=\"217.44\" width=\"217.44\" x=\"26.925\" y=\"8.734219\"/>\n  </clipPath>\n </defs>\n</svg>\n",
      "image/png": "[encoded data removed]"
     },
     "metadata": {
      "needs_background": "light"
     }
    }
   ],
   "source": [
    "plt.imshow(np.fromstring(fer2013['pixels'].iloc[0], sep = ' ').reshape(48,48))"
   ]
  },
  {
   "cell_type": "code",
   "execution_count": null,
   "metadata": {},
   "outputs": [],
   "source": []
  }
 ],
 "metadata": {
  "kernelspec": {
   "name": "python3",
   "display_name": "Python 3.8.9 64-bit ('venv': venv)",
   "metadata": {
    "interpreter": {
     "hash": "560cba97768927542ee84f368775feb873961793696b26b080dc58bba23207be"
    }
   }
  },
  "language_info": {
   "codemirror_mode": {
    "name": "ipython",
    "version": 2
   },
   "file_extension": ".py",
   "mimetype": "text/x-python",
   "name": "python",
   "nbconvert_exporter": "python",
   "pygments_lexer": "ipython2",
   "version": "3.8.9"
  }
 },
 "nbformat": 4,
 "nbformat_minor": 0
}