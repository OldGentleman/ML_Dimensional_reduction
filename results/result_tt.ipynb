{
 "metadata": {
  "language_info": {
   "codemirror_mode": {
    "name": "ipython",
    "version": 3
   },
   "file_extension": ".py",
   "mimetype": "text/x-python",
   "name": "python",
   "nbconvert_exporter": "python",
   "pygments_lexer": "ipython3",
   "version": "3.8.10"
  },
  "orig_nbformat": 2,
  "kernelspec": {
   "name": "python3",
   "display_name": "Python 3.8.10 64-bit",
   "metadata": {
    "interpreter": {
     "hash": "5b3ded1ccb95c1d9bd405e7b823d9e85424cde40fbb5985eb47e999ef50e15b4"
    }
   }
  }
 },
 "nbformat": 4,
 "nbformat_minor": 2,
 "cells": [
  {
   "cell_type": "code",
   "execution_count": 88,
   "metadata": {},
   "outputs": [],
   "source": [
    "import pandas as pd\n",
    "import numpy as np\n",
    "from scipy.stats import ttest_rel\n",
    "from tabulate import tabulate\n",
    "pd.set_option('display.max_columns', 100)"
   ]
  },
  {
   "cell_type": "code",
   "execution_count": 89,
   "metadata": {},
   "outputs": [],
   "source": [
    "def fix_arrays(data: pd.DataFrame):\n",
    "    def str_to_arr(s: str) -> str:\n",
    "        s = s[1:-1]\n",
    "        return np.fromstring(s, sep=',')\n",
    "    means_columns = ['Unreduced_acc','Reduced_acc', 'Clf_unreducted_time', 'Clf_reducted_time','Reduction_time']\n",
    "    for column in means_columns:\n",
    "        data[column] = data[column].apply(lambda x: str_to_arr(x))\n",
    "    return data"
   ]
  },
  {
   "cell_type": "code",
   "execution_count": 90,
   "metadata": {},
   "outputs": [],
   "source": [
    "iris = fix_arrays(pd.read_csv('../data/iris.csv'))\n",
    "ibm = fix_arrays(pd.read_csv('../data/IBM.csv'))"
   ]
  },
  {
   "cell_type": "code",
   "execution_count": 91,
   "metadata": {},
   "outputs": [],
   "source": [
    "def tt_test(data: pd.DataFrame, set_name: str):\n",
    "\n",
    "    data['Name'] = data['Reduction_method'] + '_' + data['Classificator']\n",
    "\n",
    "    alfa = .05\n",
    "    t_statistic = np.zeros((data.shape[0], data.shape[0]))\n",
    "    p_value = np.zeros((data.shape[0], data.shape[0]))\n",
    "\n",
    "    for i in range(data.shape[0]):\n",
    "        for j in range(data.shape[0]):\n",
    "            t_statistic[i, j], p_value[i, j] = ttest_rel(data['Reduced_acc'][i], data['Reduced_acc'][j])\n",
    "\n",
    "    names_column = data['Name'].values.reshape(-1, 1)\n",
    "    t_statistic_table = np.concatenate((names_column, t_statistic), axis=1)\n",
    "    t_statistic_table = tabulate(t_statistic_table, data['Name'].values, floatfmt=\".2f\")\n",
    "    p_value_table = np.concatenate((names_column, p_value), axis=1)\n",
    "    p_value_table = tabulate(p_value_table, data['Name'].values, floatfmt=\".2f\")\n",
    "\n",
    "    advantage = np.zeros((data.shape[0], data.shape[0]))\n",
    "    advantage[t_statistic > 0] = 1\n",
    "    advantage_table = tabulate(np.concatenate(\n",
    "        (names_column, advantage), axis=1), data['Name'].values)\n",
    "\n",
    "    significance = np.zeros((data.shape[0], data.shape[0]))\n",
    "    significance[p_value <= alfa] = 1\n",
    "    significance_table = tabulate(np.concatenate(\n",
    "        (names_column, significance), axis=1), data['Name'].values)\n",
    "\n",
    "    stat_better = significance * advantage\n",
    "    stat_better_table = tabulate(np.concatenate(\n",
    "        (names_column, stat_better), axis=1), data['Name'].values)\n",
    "    # print(\"Statistically significantly better:\\n\", stat_better_table)\n",
    "    for i in range(stat_better.shape[0]):\n",
    "        for j in range(stat_better.shape[1]):\n",
    "            if stat_better[i][j]:\n",
    "                print(f\"{data['Name'].values[i]} better than {data['Name'].values[j]}\")\n",
    "\n",
    "    text_file = open(f\"{set_name}.txt\", \"w\")\n",
    "    text_file.write(stat_better_table)\n",
    "    text_file.close()"
   ]
  },
  {
   "cell_type": "code",
   "execution_count": 92,
   "metadata": {},
   "outputs": [
    {
     "output_type": "stream",
     "name": "stdout",
     "text": [
      "LDA_Naive Bayes better than PCA_Random Forest\nLDA_Random Forest better than KPCA_Nearest Neighbors\nLDA_Random Forest better than PCA_Nearest Neighbors\nLDA_Random Forest better than KPCA_RBF SVM\nLDA_Random Forest better than KPCA_Random Forest\nLDA_Random Forest better than PCA_Random Forest\n"
     ]
    }
   ],
   "source": [
    "tt_test(iris, 'iris')"
   ]
  },
  {
   "cell_type": "code",
   "execution_count": 93,
   "metadata": {},
   "outputs": [
    {
     "output_type": "stream",
     "name": "stdout",
     "text": [
      "KPCA_Naive Bayes better than KPCA_Nearest Neighbors\nKPCA_Naive Bayes better than LDA_Nearest Neighbors\nKPCA_Naive Bayes better than PCA_Nearest Neighbors\nKPCA_Naive Bayes better than UMAP_Nearest Neighbors\nKPCA_Naive Bayes better than KPCA_RBF SVM\nKPCA_Naive Bayes better than LDA_RBF SVM\nKPCA_Naive Bayes better than PCA_RBF SVM\nKPCA_Naive Bayes better than UMAP_RBF SVM\nKPCA_Naive Bayes better than KPCA_Random Forest\nKPCA_Naive Bayes better than LDA_Random Forest\nKPCA_Naive Bayes better than UMAP_Random Forest\nLDA_Naive Bayes better than KPCA_Nearest Neighbors\nLDA_Naive Bayes better than LDA_Nearest Neighbors\nLDA_Naive Bayes better than PCA_Nearest Neighbors\nLDA_Naive Bayes better than KPCA_RBF SVM\nLDA_Naive Bayes better than PCA_RBF SVM\nLDA_Naive Bayes better than UMAP_RBF SVM\nLDA_Naive Bayes better than KPCA_Random Forest\nLDA_Naive Bayes better than LDA_Random Forest\nLDA_Naive Bayes better than UMAP_Random Forest\nPCA_Naive Bayes better than KPCA_Nearest Neighbors\nPCA_Naive Bayes better than LDA_Nearest Neighbors\nPCA_Naive Bayes better than PCA_Nearest Neighbors\nPCA_Naive Bayes better than UMAP_Nearest Neighbors\nPCA_Naive Bayes better than KPCA_RBF SVM\nPCA_Naive Bayes better than LDA_RBF SVM\nPCA_Naive Bayes better than PCA_RBF SVM\nPCA_Naive Bayes better than UMAP_RBF SVM\nPCA_Naive Bayes better than KPCA_Random Forest\nPCA_Naive Bayes better than LDA_Random Forest\nUMAP_Naive Bayes better than KPCA_Nearest Neighbors\nUMAP_Naive Bayes better than LDA_Nearest Neighbors\nUMAP_Naive Bayes better than PCA_Nearest Neighbors\nUMAP_Naive Bayes better than UMAP_Nearest Neighbors\nUMAP_Naive Bayes better than KPCA_RBF SVM\nUMAP_Naive Bayes better than LDA_RBF SVM\nUMAP_Naive Bayes better than PCA_RBF SVM\nUMAP_Naive Bayes better than UMAP_RBF SVM\nUMAP_Naive Bayes better than KPCA_Random Forest\nUMAP_Naive Bayes better than LDA_Random Forest\nUMAP_Naive Bayes better than PCA_Random Forest\nUMAP_Nearest Neighbors better than KPCA_Nearest Neighbors\nLDA_RBF SVM better than KPCA_Nearest Neighbors\nKPCA_Random Forest better than KPCA_Nearest Neighbors\nLDA_Random Forest better than KPCA_Nearest Neighbors\nLDA_Random Forest better than LDA_Nearest Neighbors\nPCA_Random Forest better than KPCA_Nearest Neighbors\nPCA_Random Forest better than UMAP_RBF SVM\nUMAP_Random Forest better than KPCA_Nearest Neighbors\n"
     ]
    }
   ],
   "source": [
    "tt_test(ibm, 'ibm')"
   ]
  }
 ]
}