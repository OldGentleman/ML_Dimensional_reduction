{
 "cells": [
  {
   "cell_type": "code",
   "execution_count": null,
   "metadata": {},
   "outputs": [],
   "source": [
    "import numpy as np\n",
    "import pandas as pd\n",
    "\n",
    "import matplotlib.pyplot as plt\n",
    "import seaborn as sns\n",
    "from matplotlib.colors import ListedColormap\n",
    "\n",
    "import umap\n",
    "from MulticoreTSNE import MulticoreTSNE as TSNE\n",
    "from sklearn.decomposition import PCA, KernelPCA\n",
    "\n",
    "from sklearn.svm import SVC\n",
    "from sklearn.neighbors import KNeighborsClassifier\n",
    "from sklearn.naive_bayes import GaussianNB"
   ]
  },
  {
   "cell_type": "code",
   "execution_count": null,
   "metadata": {},
   "outputs": [],
   "source": [
    "# iris\n",
    "iris_train = pd.read_csv('data/preprocessed_data/iris_train.zip', compression='zip')\n",
    "iris_test = pd.read_csv('data/preprocessed_data/iris_test.zip', compression='zip')\n",
    "\n",
    "train_target = iris_train['Species'].values\n",
    "iris_train = iris_train.drop(columns=['Species'], axis = 1)\n",
    "\n",
    "test_target = iris_test['Species'].values\n",
    "iris_test = iris_test.drop(columns=['Species'], axis = 1)"
   ]
  },
  {
   "cell_type": "code",
   "execution_count": null,
   "metadata": {},
   "outputs": [],
   "source": [
    "reduction_names = ['UMAP', 'PCA', 'KPCA']\n",
    "dim_num = 2\n",
    "reductions = [\n",
    "    umap.UMAP(n_components = dim_num),\n",
    "    PCA(n_components=dim_num),\n",
    "    KernelPCA(n_components=dim_num, kernel='rbf')\n",
    "]\n",
    "\n",
    "classifieres_names = ['RBF SVM', 'Nearest Neighbors', 'Naive Bayes']\n",
    "classifieres = [\n",
    "    SVC(gamma='scale', C=1),\n",
    "    KNeighborsClassifier(3),\n",
    "    GaussianNB()\n",
    "]"
   ]
  },
  {
   "cell_type": "code",
   "execution_count": null,
   "metadata": {},
   "outputs": [],
   "source": [
    "figure = plt.figure(figsize=(25, 10))\n",
    "i = 1\n",
    "h = 0.06\n",
    "for r_name, reduction in zip(reduction_names, reductions):\n",
    "    print(r_name)\n",
    "    train_reducted = reduction.fit_transform(iris_train)\n",
    "    test_reduces = reduction.transform(iris_test)\n",
    "\n",
    "    x_min, x_max = train_reducted[:, 0].min() - .5, train_reducted[:, 0].max() + .5\n",
    "    y_min, y_max = train_reducted[:, 1].min() - .5, train_reducted[:, 1].max() + .5\n",
    "    xx, yy = np.meshgrid(np.arange(x_min, x_max, h),\n",
    "                         np.arange(y_min, y_max, h))\n",
    "\n",
    "    cm = plt.cm.RdBu\n",
    "    ax = plt.subplot(len(reductions), len(classifieres) + 1, i)\n",
    "    ax.set_title(r_name, loc='left')\n",
    "    # train data\n",
    "    ax.scatter(train_reducted[:, 0], train_reducted[:, 1], c=train_target, edgecolors='k')\n",
    "    # test data\n",
    "    ax.scatter(test_reduces[:, 0], test_reduces[:, 1], c=test_target, alpha=0.6, edgecolors='k')\n",
    "    i += 1\n",
    "\n",
    "    for classifier_name, clf in zip(classifieres_names, classifieres):\n",
    "        print(classifier_name)\n",
    "        ax = plt.subplot(len(reductions), len(classifieres) + 1, i)\n",
    "        if i <= (len(classifieres) + 1):\n",
    "            ax.set_title(classifier_name)\n",
    "\n",
    "        clf.fit(train_reducted, train_target)\n",
    "        # target_predicted = classifier.predict(test_target)\n",
    "        score = clf.score(test_reduces, test_target)\n",
    "        \n",
    "        if hasattr(clf, \"decision_function\"):\n",
    "            Z = clf.decision_function(np.c_[xx.ravel(), yy.ravel()])\n",
    "            for j in range(Z.shape[1]):\n",
    "                Z_c = Z[:, j]\n",
    "                Z_c = Z_c.reshape(xx.shape)\n",
    "                ax.contourf(xx, yy, Z_c, cmap=cm, alpha=.8)\n",
    "        else:\n",
    "            Z = clf.predict_proba(np.c_[xx.ravel(), yy.ravel()])[:, 1]\n",
    "            Z = Z.reshape(xx.shape)\n",
    "            ax.contourf(xx, yy, Z, cmap=cm, alpha=.8)\n",
    "\n",
    "        # print(f'{Z.shape} - {xx.shape}')\n",
    "        # print(Z)\n",
    "        # print('---------------------------------')\n",
    "        \n",
    "\n",
    "        # Plot the training points\n",
    "        ax.scatter(train_reducted[:, 0], train_reducted[:, 1], c=train_target, edgecolors='k')\n",
    "        # Plot the testing points\n",
    "        ax.scatter(test_reduces[:, 0], test_reduces[:, 1], c=test_target, edgecolors='k', alpha=0.6)\n",
    "\n",
    "        ax.text(xx.max() - .3, yy.min() + .3, ('%.2f' % score).lstrip('0'),\n",
    "                size=15, horizontalalignment='right')\n",
    "        i += 1"
   ]
  },
  {
   "cell_type": "code",
   "execution_count": null,
   "metadata": {},
   "outputs": [],
   "source": []
  }
 ],
 "metadata": {
  "kernelspec": {
   "display_name": "Python 3",
   "language": "python",
   "name": "python3"
  },
  "language_info": {
   "codemirror_mode": {
    "name": "ipython",
    "version": 3
   },
   "file_extension": ".py",
   "mimetype": "text/x-python",
   "name": "python",
   "nbconvert_exporter": "python",
   "pygments_lexer": "ipython3",
   "version": "3.8.5"
  }
 },
 "nbformat": 4,
 "nbformat_minor": 2
}
