{
 "metadata": {
  "language_info": {
   "codemirror_mode": {
    "name": "ipython",
    "version": 3
   },
   "file_extension": ".py",
   "mimetype": "text/x-python",
   "name": "python",
   "nbconvert_exporter": "python",
   "pygments_lexer": "ipython3",
   "version": "3.8.10"
  },
  "orig_nbformat": 2,
  "kernelspec": {
   "name": "python3",
   "display_name": "Python 3.8.10 64-bit",
   "metadata": {
    "interpreter": {
     "hash": "5b3ded1ccb95c1d9bd405e7b823d9e85424cde40fbb5985eb47e999ef50e15b4"
    }
   }
  }
 },
 "nbformat": 4,
 "nbformat_minor": 2,
 "cells": [
  {
   "cell_type": "code",
   "execution_count": 22,
   "metadata": {},
   "outputs": [],
   "source": [
    "import pandas as pd\n",
    "import numpy as np\n",
    "from scipy.stats import ttest_rel\n",
    "from scipy.stats import wilcoxon\n",
    "from tabulate import tabulate\n",
    "from typing import List\n",
    "from scipy.stats import rankdata\n",
    "from scipy.stats import ranksums\n",
    "pd.set_option('display.max_columns', 100)"
   ]
  },
  {
   "cell_type": "code",
   "execution_count": 23,
   "metadata": {},
   "outputs": [],
   "source": [
    "import matplotlib.pyplot as plt\n",
    "import seaborn as sns"
   ]
  },
  {
   "cell_type": "code",
   "execution_count": 24,
   "metadata": {},
   "outputs": [],
   "source": [
    "# pandas save arrays as str, deconvert them\n",
    "def fix_arrays(data: pd.DataFrame):\n",
    "    def str_to_arr(s: str) -> str:\n",
    "        s = s[1:-1]\n",
    "        return np.fromstring(s, sep=',')\n",
    "    means_columns = ['Unreduced_acc','Reduced_acc', 'Clf_unreducted_time', 'Clf_reducted_time','Reduction_time']\n",
    "    for column in means_columns:\n",
    "        data[column] = data[column].apply(lambda x: str_to_arr(x))\n",
    "    data['Name'] = data['Reduction_method'] + '_' + data['Classificator']\n",
    "    return data"
   ]
  },
  {
   "cell_type": "code",
   "execution_count": 25,
   "metadata": {},
   "outputs": [],
   "source": [
    "d1 = fix_arrays(pd.read_csv('results/d1_results.csv'))\n",
    "d3 = fix_arrays(pd.read_csv('results/d3_results.csv'))\n",
    "d4 = fix_arrays(pd.read_csv('results/d4_results.csv'))\n",
    "d5 = fix_arrays(pd.read_csv('results/d5_results.csv'))\n",
    "d6 = fix_arrays(pd.read_csv('results/d6_iris_results.csv'))\n",
    "d7 = fix_arrays(pd.read_csv('results/d7_wine_results.csv'))\n",
    "d8 = fix_arrays(pd.read_csv('results/d8 - mushrooms_results.csv'))\n",
    "d10 = fix_arrays(pd.read_csv('results/d10 - student_alchohol_results.csv'))\n",
    "d12 = fix_arrays(pd.read_csv('results/d12 - human_results.csv'))\n",
    "d14 = fix_arrays(pd.read_csv('results/d14_IBM_results.csv'))\n",
    "d16 = fix_arrays(pd.read_csv('results/d16 - restaurant_results.csv'))\n",
    "d17 = fix_arrays(pd.read_csv('results/d17_results.csv'))\n",
    "d18 = fix_arrays(pd.read_csv('results/d18_results.csv'))\n",
    "d20 = fix_arrays(pd.read_csv('results/d20_results.csv'))\n",
    "d21 = fix_arrays(pd.read_csv('results/d21_results.csv'))\n",
    "d22 = fix_arrays(pd.read_csv('results/d22 - student_exams.csv'))\n",
    "# mnists\n",
    "d2 = fix_arrays(pd.read_csv('results/d2 - fashion_mnist_results.csv'))\n",
    "d9 = fix_arrays(pd.read_csv('results/d9 - mnist_sighns_results.csv'))\n",
    "d11 = fix_arrays(pd.read_csv('results/d11 - mnist_sign_language_results.csv'))\n",
    "d13 = fix_arrays(pd.read_csv('results/d13 - fer2013_results.csv'))\n",
    "#\n",
    "sets = [d1, d3, d4, d5, d6, d7, d8, d10, d12, d14, d16, d17, d18, d20, d21, d22, d2, d9, d11, d13]\n",
    "sets_name = ['d1', 'd3', 'd4', 'd5', 'd6', 'd7', 'd8', 'd10', 'd12', 'd14', 'd16', 'd17', 'd18', 'd20', 'd21', 'd22', 'd2', 'd9', 'd11', 'd13']\n",
    "sets_shapes = [(60, 16384), (150, 16384), (199, 16384), (19, 16384), (150, 4), (1599, 11), (8124, 109), (395, 28), (250, 561), \n",
    "                (1470, 44), (9551, 10), (195, 16384), (200, 16384), (300, 16384), (245, 16384), (1000, 17),\n",
    "                (250, 784), (250, 784), (250, 784), (250, 2304)]\n",
    "images = [d1, d3, d4, d5, d17, d18, d20, d21]\n",
    "images_names = ['d1', 'd3', 'd4', 'd5', 'd17', 'd18', 'd20', 'd21']\n",
    "images_shapes = [(60, 16384), (150, 16384), (199, 16384), (19, 16384), (195, 16384), (200, 16384), (300, 16384), (245, 16384),]\n",
    "non_images = [d6, d7, d8, d10, d12, d14, d16, d22, d2, d9, d11, d13]\n",
    "non_images_names = ['d6', 'd7', 'd8', 'd10', 'd12', 'd14', 'd16', 'd22', 'd2', 'd9', 'd11', 'd13']\n",
    "non_images_shapes = [(150, 4), (1599, 11), (8124, 109), (395, 28), (250, 561), (1470, 44), (9551, 10), (1000, 17),\n",
    "                    (250, 784), (250, 784), (250, 784), (250, 2304)]"
   ]
  },
  {
   "cell_type": "code",
   "execution_count": 49,
   "metadata": {},
   "outputs": [],
   "source": [
    "def tt_test(data: pd.DataFrame):\n",
    "\n",
    "    alfa = .05\n",
    "    t_statistic = np.zeros((data.shape[0], data.shape[0]))\n",
    "    p_value = np.zeros((data.shape[0], data.shape[0]))\n",
    "\n",
    "    for i in range(data.shape[0]):\n",
    "        for j in range(data.shape[0]):\n",
    "            t_statistic[i, j], p_value[i, j] = ttest_rel(data['Reduced_acc'][i], data['Reduced_acc'][j])\n",
    "\n",
    "    names_column = data['Name'].values.reshape(-1, 1)\n",
    "    t_statistic_table = np.concatenate((names_column, t_statistic), axis=1)\n",
    "    t_statistic_table = tabulate(t_statistic_table, data['Name'].values, floatfmt=\".2f\")\n",
    "    p_value_table = np.concatenate((names_column, p_value), axis=1)\n",
    "    p_value_table = tabulate(p_value_table, data['Name'].values, floatfmt=\".2f\")\n",
    "\n",
    "    advantage = np.zeros((data.shape[0], data.shape[0]))\n",
    "    advantage[(t_statistic > 0) & (p_value <= alfa)] = 1\n",
    "    advantage[(t_statistic < 0) & (p_value <= alfa)] = -1\n",
    "    # advantage_table = tabulate(np.concatenate(\n",
    "    #     (names_column, advantage), axis=1), data['Name'].values)\n",
    "\n",
    "    # significance = np.zeros((data.shape[0], data.shape[0]))\n",
    "    # significance[p_value <= alfa] = 1\n",
    "    # significance_table = tabulate(np.concatenate(\n",
    "    #     (names_column, significance), axis=1), data['Name'].values)\n",
    "\n",
    "    # stat_better = significance * advantage\n",
    "    # stat_better_table = tabulate(np.concatenate(\n",
    "    #     (names_column, stat_better), axis=1), data['Name'].values)\n",
    "    # print(\"Statistically significantly better:\\n\", stat_better_table)\n",
    "    # for i in range(stat_better.shape[0]):\n",
    "    #     for j in range(stat_better.shape[1]):\n",
    "    #         if stat_better[i][j]:\n",
    "    #             print(f\"{data['Name'].values[i]} better than {data['Name'].values[j]}\")\n",
    "\n",
    "    # text_file = open(f\"{set_name}.txt\", \"w\")\n",
    "    # text_file.write(stat_better_table)\n",
    "    # text_file.close()\n",
    "    b_n = np.array([data['Reduction_method'].values, data['Classificator'].values, advantage.sum(axis=1)])\n",
    "    return pd.DataFrame(data=b_n.T, columns=['R', 'C', 'V'])    "
   ]
  },
  {
   "cell_type": "code",
   "execution_count": 27,
   "metadata": {},
   "outputs": [],
   "source": [
    "def wilx(sets: List[pd.DataFrame]):\n",
    "    scores = np.zeros((len(sets), sets[0].shape[0]))\n",
    "    for i, s in enumerate(sets):\n",
    "        scores[i] = s['Reduced_acc'].apply(lambda x: x.mean()).values\n",
    "    from scipy.stats import rankdata\n",
    "    ranks = []\n",
    "    for ms in scores:\n",
    "        ranks.append(rankdata(ms).tolist())\n",
    "    ranks = np.array(ranks)\n",
    "    mean_ranks = np.mean(ranks, axis=0)\n",
    "    alfa = .05\n",
    "    w_statistic = np.zeros((sets[0].shape[0], sets[0].shape[0]))\n",
    "    p_value = np.zeros((sets[0].shape[0], sets[0].shape[0]))\n",
    "\n",
    "    for i in range(sets[0].shape[0]):\n",
    "        for j in range(sets[0].shape[0]):\n",
    "            w_statistic[i, j], p_value[i, j] = ranksums(ranks.T[i], ranks.T[j])\n",
    "\n",
    "    headers = list(sets[0]['Name'].values)\n",
    "    names_column = np.expand_dims(np.array(list(sets[0]['Name'].values)), axis=1)\n",
    "    w_statistic_table = np.concatenate((names_column, w_statistic), axis=1)\n",
    "    w_statistic_table = tabulate(w_statistic_table, headers, floatfmt=\".2f\")\n",
    "    p_value_table = np.concatenate((names_column, p_value), axis=1)\n",
    "    p_value_table = tabulate(p_value_table, headers, floatfmt=\".2f\")\n",
    "    \n",
    "    advantage = np.zeros((sets[0].shape[0], sets[0].shape[0]))\n",
    "    advantage[(w_statistic > 0) & (p_value <= alfa)] = 1\n",
    "    advantage[(w_statistic < 0) & (p_value <= alfa)] = -1\n",
    "    # print(w_statistic)\n",
    "    # print(advantage)\n",
    "    # print(w_statistic * advantage)\n",
    "    advantage_table = tabulate(np.concatenate(\n",
    "        (names_column, advantage), axis=1), headers)\n",
    "    # significance = np.zeros((sets[0].shape[0], sets[0].shape[0]))\n",
    "    # significance[p_value <= alfa] = 1\n",
    "    # significance_table = tabulate(np.concatenate(\n",
    "    #     (names_column, significance), axis=1), headers)\n",
    "\n",
    "    # text_file = open(f\"wilcoxon.txt\", \"w\")\n",
    "    # text_file.write(significance_table)\n",
    "    # text_file.close()\n",
    "    print(advantage_table)\n",
    "    b_n = np.array([sets[0]['Reduction_method'].values, sets[0]['Classificator'].values, advantage.sum(axis=1)])\n",
    "    return pd.DataFrame(data=b_n.T, columns=['R', 'C', 'V'])    \n"
   ]
  },
  {
   "cell_type": "code",
   "execution_count": 28,
   "metadata": {},
   "outputs": [],
   "source": [
    "def wilcoxon_test_for_column_pair(sets, cols):\n",
    "    names = cols\n",
    "    scores_reduced = np.zeros((len(sets), sets[0].shape[0]))\n",
    "    scores_unreduced = np.zeros((len(sets), sets[0].shape[0]))\n",
    "    for i, s in enumerate(sets):\n",
    "        scores_reduced[i] = s[cols[0]].apply(lambda x: x.mean()).values\n",
    "        scores_unreduced[i] = s[cols[1]].apply(lambda x: x.mean()).values\n",
    "    \n",
    "    wilcoxons = []\n",
    "    for i in range(scores_reduced.shape[1]):\n",
    "        wilcoxons.append(np.concatenate(([scores_unreduced[:,i]], [scores_reduced[:, i]]), axis=0).T)\n",
    "    \n",
    "    stats = []\n",
    "    ps = []\n",
    "    for mean_scores in wilcoxons:\n",
    "        # print(mean_scores)\n",
    "        ranks = []\n",
    "        for ms in mean_scores:\n",
    "            ranks.append(rankdata(ms).tolist())\n",
    "        ranks = np.array(ranks)\n",
    "        alfa = .05\n",
    "        w_statistic = np.zeros((2, 2))\n",
    "        p_value = np.zeros((2, 2))\n",
    "        for i in range(2):\n",
    "            for j in range(2):\n",
    "                w_statistic[i, j], p_value[i, j] = ranksums(ranks.T[i], ranks.T[j])\n",
    "        \n",
    "        headers = list(names)\n",
    "        names_column = np.expand_dims(np.array(list(names)), axis=1)\n",
    "        w_statistic_table = np.concatenate((names_column, w_statistic), axis=1)\n",
    "        w_statistic_table = tabulate(w_statistic_table, headers, floatfmt=\".2f\")\n",
    "        p_value_table = np.concatenate((names_column, p_value), axis=1)\n",
    "        p_value_table = tabulate(p_value_table, headers, floatfmt=\".2f\")\n",
    "        # print(w_statistic_table)\n",
    "        # print(p_value_table)\n",
    "\n",
    "        stats.append(w_statistic[0][1])\n",
    "        ps.append(p_value[0][1])\n",
    "        # print(\"\\nw-statistic:\\n\", w_statistic_table, \"\\n\\np-value:\\n\", p_value_table)\n",
    "\n",
    "        # advantage = np.zeros((2, 2))\n",
    "        # advantage[w_statistic > 0] = 1\n",
    "        # advantage_table = tabulate(np.concatenate(\n",
    "        #     (names_column, advantage), axis=1), headers)\n",
    "        # significance = np.zeros((2, 2))\n",
    "        # significance[p_value <= alfa] = 1\n",
    "        # significance_table = tabulate(np.concatenate(\n",
    "        #     (names_column, significance), axis=1), headers)\n",
    "        # print(significance_table)\n",
    "    return stats, ps"
   ]
  },
  {
   "cell_type": "code",
   "execution_count": 29,
   "metadata": {},
   "outputs": [],
   "source": [
    "# TT FOR EACH SET"
   ]
  },
  {
   "cell_type": "code",
   "execution_count": 52,
   "metadata": {},
   "outputs": [
    {
     "output_type": "stream",
     "name": "stdout",
     "text": [
      "d1 16384\n",
      "        V\n",
      "R        \n",
      "KPCA -1.0\n",
      "LDA   0.0\n",
      "PCA   3.0\n",
      "UMAP -2.0\n",
      "d3 16384\n",
      "        V\n",
      "R        \n",
      "KPCA -1.0\n",
      "LDA  -1.0\n",
      "PCA   1.0\n",
      "UMAP  1.0\n",
      "d4 16384\n",
      "         V\n",
      "R         \n",
      "KPCA   5.0\n",
      "LDA   15.0\n",
      "PCA    4.0\n",
      "UMAP -24.0\n",
      "d5 16384\n",
      "         V\n",
      "R         \n",
      "KPCA   5.0\n",
      "LDA   -1.0\n",
      "PCA    7.0\n",
      "UMAP -11.0\n",
      "d6 4\n",
      "        V\n",
      "R        \n",
      "KPCA -3.0\n",
      "LDA   6.0\n",
      "PCA  -3.0\n",
      "UMAP  0.0\n",
      "d7 11\n",
      "         V\n",
      "R         \n",
      "KPCA -11.0\n",
      "LDA   25.0\n",
      "PCA   -7.0\n",
      "UMAP  -7.0\n",
      "d8 109\n",
      "         V\n",
      "R         \n",
      "KPCA -11.0\n",
      "LDA  -11.0\n",
      "PCA  -18.0\n",
      "UMAP  40.0\n",
      "d10 28\n",
      "         V\n",
      "R         \n",
      "KPCA  -6.0\n",
      "LDA   20.0\n",
      "PCA   -7.0\n",
      "UMAP  -7.0\n",
      "d12 561\n",
      "         V\n",
      "R         \n",
      "KPCA   0.0\n",
      "LDA  -24.0\n",
      "PCA   -1.0\n",
      "UMAP  25.0\n",
      "d14 44\n",
      "        V\n",
      "R        \n",
      "KPCA -7.0\n",
      "LDA  -1.0\n",
      "PCA   5.0\n",
      "UMAP  3.0\n",
      "d16 10\n",
      "         V\n",
      "R         \n",
      "KPCA  -6.0\n",
      "LDA   22.0\n",
      "PCA   -6.0\n",
      "UMAP -10.0\n",
      "d17 16384\n",
      "        V\n",
      "R        \n",
      "KPCA -7.0\n",
      "LDA   4.0\n",
      "PCA  -3.0\n",
      "UMAP  6.0\n",
      "d18 16384\n",
      "        V\n",
      "R        \n",
      "KPCA -2.0\n",
      "LDA   3.0\n",
      "PCA  -3.0\n",
      "UMAP  2.0\n",
      "d20 16384\n",
      "         V\n",
      "R         \n",
      "KPCA -18.0\n",
      "LDA   17.0\n",
      "PCA  -20.0\n",
      "UMAP  21.0\n",
      "d21 16384\n",
      "         V\n",
      "R         \n",
      "KPCA   9.0\n",
      "LDA   -1.0\n",
      "PCA    7.0\n",
      "UMAP -15.0\n",
      "d22 17\n",
      "        V\n",
      "R        \n",
      "KPCA -1.0\n",
      "LDA   6.0\n",
      "PCA  -3.0\n",
      "UMAP -2.0\n",
      "d2 784\n",
      "         V\n",
      "R         \n",
      "KPCA -13.0\n",
      "LDA  -15.0\n",
      "PCA  -13.0\n",
      "UMAP  41.0\n",
      "d9 784\n",
      "         V\n",
      "R         \n",
      "KPCA   6.0\n",
      "LDA  -32.0\n",
      "PCA    6.0\n",
      "UMAP  20.0\n",
      "d11 784\n",
      "         V\n",
      "R         \n",
      "KPCA -22.0\n",
      "LDA   48.0\n",
      "PCA  -22.0\n",
      "UMAP  -4.0\n",
      "d13 2304\n",
      "        V\n",
      "R        \n",
      "KPCA  5.0\n",
      "LDA  -1.0\n",
      "PCA   5.0\n",
      "UMAP -9.0\n"
     ]
    },
    {
     "output_type": "display_data",
     "data": {
      "text/plain": "<Figure size 432x288 with 1 Axes>",
      "image/svg+xml": "<?xml version=\"1.0\" encoding=\"utf-8\" standalone=\"no\"?>\n<!DOCTYPE svg PUBLIC \"-//W3C//DTD SVG 1.1//EN\"\n  \"http://www.w3.org/Graphics/SVG/1.1/DTD/svg11.dtd\">\n<svg height=\"262.19625pt\" version=\"1.1\" viewBox=\"0 0 376.240625 262.19625\" width=\"376.240625pt\" xmlns=\"http://www.w3.org/2000/svg\" xmlns:xlink=\"http://www.w3.org/1999/xlink\">\n <metadata>\n  <rdf:RDF xmlns:cc=\"http://creativecommons.org/ns#\" xmlns:dc=\"http://purl.org/dc/elements/1.1/\" xmlns:rdf=\"http://www.w3.org/1999/02/22-rdf-syntax-ns#\">\n   <cc:Work>\n    <dc:type rdf:resource=\"http://purl.org/dc/dcmitype/StillImage\"/>\n    <dc:date>2021-06-13T19:45:28.700684</dc:date>\n    <dc:format>image/svg+xml</dc:format>\n    <dc:creator>\n     <cc:Agent>\n      <dc:title>Matplotlib v3.4.1, https://matplotlib.org/</dc:title>\n     </cc:Agent>\n    </dc:creator>\n   </cc:Work>\n  </rdf:RDF>\n </metadata>\n <defs>\n  <style type=\"text/css\">*{stroke-linecap:butt;stroke-linejoin:round;}</style>\n </defs>\n <g id=\"figure_1\">\n  <g id=\"patch_1\">\n   <path d=\"M 0 262.19625 \nL 376.240625 262.19625 \nL 376.240625 0 \nL 0 0 \nz\n\" style=\"fill:none;\"/>\n  </g>\n  <g id=\"axes_1\">\n   <g id=\"patch_2\">\n    <path d=\"M 34.240625 224.64 \nL 369.040625 224.64 \nL 369.040625 7.2 \nL 34.240625 7.2 \nz\n\" style=\"fill:#ffffff;\"/>\n   </g>\n   <g id=\"patch_3\">\n    <path clip-path=\"url(#p9c8fac8b61)\" d=\"M 49.458807 224.64 \nL 125.549716 224.64 \nL 125.549716 121.097143 \nL 49.458807 121.097143 \nz\n\" style=\"fill:#1f77b4;fill-opacity:0.75;stroke:#000000;stroke-linejoin:miter;\"/>\n   </g>\n   <g id=\"patch_4\">\n    <path clip-path=\"url(#p9c8fac8b61)\" d=\"M 125.549716 224.64 \nL 201.640625 224.64 \nL 201.640625 17.554286 \nL 125.549716 17.554286 \nz\n\" style=\"fill:#1f77b4;fill-opacity:0.75;stroke:#000000;stroke-linejoin:miter;\"/>\n   </g>\n   <g id=\"patch_5\">\n    <path clip-path=\"url(#p9c8fac8b61)\" d=\"M 201.640625 224.64 \nL 277.731534 224.64 \nL 277.731534 69.325714 \nL 201.640625 69.325714 \nz\n\" style=\"fill:#1f77b4;fill-opacity:0.75;stroke:#000000;stroke-linejoin:miter;\"/>\n   </g>\n   <g id=\"patch_6\">\n    <path clip-path=\"url(#p9c8fac8b61)\" d=\"M 277.731534 224.64 \nL 353.822443 224.64 \nL 353.822443 172.868571 \nL 277.731534 172.868571 \nz\n\" style=\"fill:#1f77b4;fill-opacity:0.75;stroke:#000000;stroke-linejoin:miter;\"/>\n   </g>\n   <g id=\"matplotlib.axis_1\">\n    <g id=\"xtick_1\">\n     <g id=\"line2d_1\">\n      <defs>\n       <path d=\"M 0 0 \nL 0 3.5 \n\" id=\"mf0350e94a8\" style=\"stroke:#000000;stroke-width:0.8;\"/>\n      </defs>\n      <g>\n       <use style=\"stroke:#000000;stroke-width:0.8;\" x=\"87.504261\" xlink:href=\"#mf0350e94a8\" y=\"224.64\"/>\n      </g>\n     </g>\n     <g id=\"text_1\">\n      <!-- PCA -->\n      <g transform=\"translate(77.577699 239.238437)scale(0.1 -0.1)\">\n       <defs>\n        <path d=\"M 1259 4147 \nL 1259 2394 \nL 2053 2394 \nQ 2494 2394 2734 2622 \nQ 2975 2850 2975 3272 \nQ 2975 3691 2734 3919 \nQ 2494 4147 2053 4147 \nL 1259 4147 \nz\nM 628 4666 \nL 2053 4666 \nQ 2838 4666 3239 4311 \nQ 3641 3956 3641 3272 \nQ 3641 2581 3239 2228 \nQ 2838 1875 2053 1875 \nL 1259 1875 \nL 1259 0 \nL 628 0 \nL 628 4666 \nz\n\" id=\"DejaVuSans-50\" transform=\"scale(0.015625)\"/>\n        <path d=\"M 4122 4306 \nL 4122 3641 \nQ 3803 3938 3442 4084 \nQ 3081 4231 2675 4231 \nQ 1875 4231 1450 3742 \nQ 1025 3253 1025 2328 \nQ 1025 1406 1450 917 \nQ 1875 428 2675 428 \nQ 3081 428 3442 575 \nQ 3803 722 4122 1019 \nL 4122 359 \nQ 3791 134 3420 21 \nQ 3050 -91 2638 -91 \nQ 1578 -91 968 557 \nQ 359 1206 359 2328 \nQ 359 3453 968 4101 \nQ 1578 4750 2638 4750 \nQ 3056 4750 3426 4639 \nQ 3797 4528 4122 4306 \nz\n\" id=\"DejaVuSans-43\" transform=\"scale(0.015625)\"/>\n        <path d=\"M 2188 4044 \nL 1331 1722 \nL 3047 1722 \nL 2188 4044 \nz\nM 1831 4666 \nL 2547 4666 \nL 4325 0 \nL 3669 0 \nL 3244 1197 \nL 1141 1197 \nL 716 0 \nL 50 0 \nL 1831 4666 \nz\n\" id=\"DejaVuSans-41\" transform=\"scale(0.015625)\"/>\n       </defs>\n       <use xlink:href=\"#DejaVuSans-50\"/>\n       <use x=\"60.302734\" xlink:href=\"#DejaVuSans-43\"/>\n       <use x=\"130.126953\" xlink:href=\"#DejaVuSans-41\"/>\n      </g>\n     </g>\n    </g>\n    <g id=\"xtick_2\">\n     <g id=\"line2d_2\">\n      <g>\n       <use style=\"stroke:#000000;stroke-width:0.8;\" x=\"163.59517\" xlink:href=\"#mf0350e94a8\" y=\"224.64\"/>\n      </g>\n     </g>\n     <g id=\"text_2\">\n      <!-- LDA -->\n      <g transform=\"translate(153.62642 239.238437)scale(0.1 -0.1)\">\n       <defs>\n        <path d=\"M 628 4666 \nL 1259 4666 \nL 1259 531 \nL 3531 531 \nL 3531 0 \nL 628 0 \nL 628 4666 \nz\n\" id=\"DejaVuSans-4c\" transform=\"scale(0.015625)\"/>\n        <path d=\"M 1259 4147 \nL 1259 519 \nL 2022 519 \nQ 2988 519 3436 956 \nQ 3884 1394 3884 2338 \nQ 3884 3275 3436 3711 \nQ 2988 4147 2022 4147 \nL 1259 4147 \nz\nM 628 4666 \nL 1925 4666 \nQ 3281 4666 3915 4102 \nQ 4550 3538 4550 2338 \nQ 4550 1131 3912 565 \nQ 3275 0 1925 0 \nL 628 0 \nL 628 4666 \nz\n\" id=\"DejaVuSans-44\" transform=\"scale(0.015625)\"/>\n       </defs>\n       <use xlink:href=\"#DejaVuSans-4c\"/>\n       <use x=\"55.712891\" xlink:href=\"#DejaVuSans-44\"/>\n       <use x=\"130.964844\" xlink:href=\"#DejaVuSans-41\"/>\n      </g>\n     </g>\n    </g>\n    <g id=\"xtick_3\">\n     <g id=\"line2d_3\">\n      <g>\n       <use style=\"stroke:#000000;stroke-width:0.8;\" x=\"239.68608\" xlink:href=\"#mf0350e94a8\" y=\"224.64\"/>\n      </g>\n     </g>\n     <g id=\"text_3\">\n      <!-- UMAP -->\n      <g transform=\"translate(225.277486 239.238437)scale(0.1 -0.1)\">\n       <defs>\n        <path d=\"M 556 4666 \nL 1191 4666 \nL 1191 1831 \nQ 1191 1081 1462 751 \nQ 1734 422 2344 422 \nQ 2950 422 3222 751 \nQ 3494 1081 3494 1831 \nL 3494 4666 \nL 4128 4666 \nL 4128 1753 \nQ 4128 841 3676 375 \nQ 3225 -91 2344 -91 \nQ 1459 -91 1007 375 \nQ 556 841 556 1753 \nL 556 4666 \nz\n\" id=\"DejaVuSans-55\" transform=\"scale(0.015625)\"/>\n        <path d=\"M 628 4666 \nL 1569 4666 \nL 2759 1491 \nL 3956 4666 \nL 4897 4666 \nL 4897 0 \nL 4281 0 \nL 4281 4097 \nL 3078 897 \nL 2444 897 \nL 1241 4097 \nL 1241 0 \nL 628 0 \nL 628 4666 \nz\n\" id=\"DejaVuSans-4d\" transform=\"scale(0.015625)\"/>\n       </defs>\n       <use xlink:href=\"#DejaVuSans-55\"/>\n       <use x=\"73.193359\" xlink:href=\"#DejaVuSans-4d\"/>\n       <use x=\"159.472656\" xlink:href=\"#DejaVuSans-41\"/>\n       <use x=\"227.880859\" xlink:href=\"#DejaVuSans-50\"/>\n      </g>\n     </g>\n    </g>\n    <g id=\"xtick_4\">\n     <g id=\"line2d_4\">\n      <g>\n       <use style=\"stroke:#000000;stroke-width:0.8;\" x=\"315.776989\" xlink:href=\"#mf0350e94a8\" y=\"224.64\"/>\n      </g>\n     </g>\n     <g id=\"text_4\">\n      <!-- KPCA -->\n      <g transform=\"translate(302.57152 239.238437)scale(0.1 -0.1)\">\n       <defs>\n        <path d=\"M 628 4666 \nL 1259 4666 \nL 1259 2694 \nL 3353 4666 \nL 4166 4666 \nL 1850 2491 \nL 4331 0 \nL 3500 0 \nL 1259 2247 \nL 1259 0 \nL 628 0 \nL 628 4666 \nz\n\" id=\"DejaVuSans-4b\" transform=\"scale(0.015625)\"/>\n       </defs>\n       <use xlink:href=\"#DejaVuSans-4b\"/>\n       <use x=\"65.576172\" xlink:href=\"#DejaVuSans-50\"/>\n       <use x=\"125.878906\" xlink:href=\"#DejaVuSans-43\"/>\n       <use x=\"195.703125\" xlink:href=\"#DejaVuSans-41\"/>\n      </g>\n     </g>\n    </g>\n    <g id=\"text_5\">\n     <!-- Reduction -->\n     <g transform=\"translate(176.645313 252.916562)scale(0.1 -0.1)\">\n      <defs>\n       <path d=\"M 2841 2188 \nQ 3044 2119 3236 1894 \nQ 3428 1669 3622 1275 \nL 4263 0 \nL 3584 0 \nL 2988 1197 \nQ 2756 1666 2539 1819 \nQ 2322 1972 1947 1972 \nL 1259 1972 \nL 1259 0 \nL 628 0 \nL 628 4666 \nL 2053 4666 \nQ 2853 4666 3247 4331 \nQ 3641 3997 3641 3322 \nQ 3641 2881 3436 2590 \nQ 3231 2300 2841 2188 \nz\nM 1259 4147 \nL 1259 2491 \nL 2053 2491 \nQ 2509 2491 2742 2702 \nQ 2975 2913 2975 3322 \nQ 2975 3731 2742 3939 \nQ 2509 4147 2053 4147 \nL 1259 4147 \nz\n\" id=\"DejaVuSans-52\" transform=\"scale(0.015625)\"/>\n       <path d=\"M 3597 1894 \nL 3597 1613 \nL 953 1613 \nQ 991 1019 1311 708 \nQ 1631 397 2203 397 \nQ 2534 397 2845 478 \nQ 3156 559 3463 722 \nL 3463 178 \nQ 3153 47 2828 -22 \nQ 2503 -91 2169 -91 \nQ 1331 -91 842 396 \nQ 353 884 353 1716 \nQ 353 2575 817 3079 \nQ 1281 3584 2069 3584 \nQ 2775 3584 3186 3129 \nQ 3597 2675 3597 1894 \nz\nM 3022 2063 \nQ 3016 2534 2758 2815 \nQ 2500 3097 2075 3097 \nQ 1594 3097 1305 2825 \nQ 1016 2553 972 2059 \nL 3022 2063 \nz\n\" id=\"DejaVuSans-65\" transform=\"scale(0.015625)\"/>\n       <path d=\"M 2906 2969 \nL 2906 4863 \nL 3481 4863 \nL 3481 0 \nL 2906 0 \nL 2906 525 \nQ 2725 213 2448 61 \nQ 2172 -91 1784 -91 \nQ 1150 -91 751 415 \nQ 353 922 353 1747 \nQ 353 2572 751 3078 \nQ 1150 3584 1784 3584 \nQ 2172 3584 2448 3432 \nQ 2725 3281 2906 2969 \nz\nM 947 1747 \nQ 947 1113 1208 752 \nQ 1469 391 1925 391 \nQ 2381 391 2643 752 \nQ 2906 1113 2906 1747 \nQ 2906 2381 2643 2742 \nQ 2381 3103 1925 3103 \nQ 1469 3103 1208 2742 \nQ 947 2381 947 1747 \nz\n\" id=\"DejaVuSans-64\" transform=\"scale(0.015625)\"/>\n       <path d=\"M 544 1381 \nL 544 3500 \nL 1119 3500 \nL 1119 1403 \nQ 1119 906 1312 657 \nQ 1506 409 1894 409 \nQ 2359 409 2629 706 \nQ 2900 1003 2900 1516 \nL 2900 3500 \nL 3475 3500 \nL 3475 0 \nL 2900 0 \nL 2900 538 \nQ 2691 219 2414 64 \nQ 2138 -91 1772 -91 \nQ 1169 -91 856 284 \nQ 544 659 544 1381 \nz\nM 1991 3584 \nL 1991 3584 \nz\n\" id=\"DejaVuSans-75\" transform=\"scale(0.015625)\"/>\n       <path d=\"M 3122 3366 \nL 3122 2828 \nQ 2878 2963 2633 3030 \nQ 2388 3097 2138 3097 \nQ 1578 3097 1268 2742 \nQ 959 2388 959 1747 \nQ 959 1106 1268 751 \nQ 1578 397 2138 397 \nQ 2388 397 2633 464 \nQ 2878 531 3122 666 \nL 3122 134 \nQ 2881 22 2623 -34 \nQ 2366 -91 2075 -91 \nQ 1284 -91 818 406 \nQ 353 903 353 1747 \nQ 353 2603 823 3093 \nQ 1294 3584 2113 3584 \nQ 2378 3584 2631 3529 \nQ 2884 3475 3122 3366 \nz\n\" id=\"DejaVuSans-63\" transform=\"scale(0.015625)\"/>\n       <path d=\"M 1172 4494 \nL 1172 3500 \nL 2356 3500 \nL 2356 3053 \nL 1172 3053 \nL 1172 1153 \nQ 1172 725 1289 603 \nQ 1406 481 1766 481 \nL 2356 481 \nL 2356 0 \nL 1766 0 \nQ 1100 0 847 248 \nQ 594 497 594 1153 \nL 594 3053 \nL 172 3053 \nL 172 3500 \nL 594 3500 \nL 594 4494 \nL 1172 4494 \nz\n\" id=\"DejaVuSans-74\" transform=\"scale(0.015625)\"/>\n       <path d=\"M 603 3500 \nL 1178 3500 \nL 1178 0 \nL 603 0 \nL 603 3500 \nz\nM 603 4863 \nL 1178 4863 \nL 1178 4134 \nL 603 4134 \nL 603 4863 \nz\n\" id=\"DejaVuSans-69\" transform=\"scale(0.015625)\"/>\n       <path d=\"M 1959 3097 \nQ 1497 3097 1228 2736 \nQ 959 2375 959 1747 \nQ 959 1119 1226 758 \nQ 1494 397 1959 397 \nQ 2419 397 2687 759 \nQ 2956 1122 2956 1747 \nQ 2956 2369 2687 2733 \nQ 2419 3097 1959 3097 \nz\nM 1959 3584 \nQ 2709 3584 3137 3096 \nQ 3566 2609 3566 1747 \nQ 3566 888 3137 398 \nQ 2709 -91 1959 -91 \nQ 1206 -91 779 398 \nQ 353 888 353 1747 \nQ 353 2609 779 3096 \nQ 1206 3584 1959 3584 \nz\n\" id=\"DejaVuSans-6f\" transform=\"scale(0.015625)\"/>\n       <path d=\"M 3513 2113 \nL 3513 0 \nL 2938 0 \nL 2938 2094 \nQ 2938 2591 2744 2837 \nQ 2550 3084 2163 3084 \nQ 1697 3084 1428 2787 \nQ 1159 2491 1159 1978 \nL 1159 0 \nL 581 0 \nL 581 3500 \nL 1159 3500 \nL 1159 2956 \nQ 1366 3272 1645 3428 \nQ 1925 3584 2291 3584 \nQ 2894 3584 3203 3211 \nQ 3513 2838 3513 2113 \nz\n\" id=\"DejaVuSans-6e\" transform=\"scale(0.015625)\"/>\n      </defs>\n      <use xlink:href=\"#DejaVuSans-52\"/>\n      <use x=\"64.982422\" xlink:href=\"#DejaVuSans-65\"/>\n      <use x=\"126.505859\" xlink:href=\"#DejaVuSans-64\"/>\n      <use x=\"189.982422\" xlink:href=\"#DejaVuSans-75\"/>\n      <use x=\"253.361328\" xlink:href=\"#DejaVuSans-63\"/>\n      <use x=\"308.341797\" xlink:href=\"#DejaVuSans-74\"/>\n      <use x=\"347.550781\" xlink:href=\"#DejaVuSans-69\"/>\n      <use x=\"375.333984\" xlink:href=\"#DejaVuSans-6f\"/>\n      <use x=\"436.515625\" xlink:href=\"#DejaVuSans-6e\"/>\n     </g>\n    </g>\n   </g>\n   <g id=\"matplotlib.axis_2\">\n    <g id=\"ytick_1\">\n     <g id=\"line2d_5\">\n      <defs>\n       <path d=\"M 0 0 \nL -3.5 0 \n\" id=\"md9f1efa438\" style=\"stroke:#000000;stroke-width:0.8;\"/>\n      </defs>\n      <g>\n       <use style=\"stroke:#000000;stroke-width:0.8;\" x=\"34.240625\" xlink:href=\"#md9f1efa438\" y=\"224.64\"/>\n      </g>\n     </g>\n     <g id=\"text_6\">\n      <!-- 0 -->\n      <g transform=\"translate(20.878125 228.439219)scale(0.1 -0.1)\">\n       <defs>\n        <path d=\"M 2034 4250 \nQ 1547 4250 1301 3770 \nQ 1056 3291 1056 2328 \nQ 1056 1369 1301 889 \nQ 1547 409 2034 409 \nQ 2525 409 2770 889 \nQ 3016 1369 3016 2328 \nQ 3016 3291 2770 3770 \nQ 2525 4250 2034 4250 \nz\nM 2034 4750 \nQ 2819 4750 3233 4129 \nQ 3647 3509 3647 2328 \nQ 3647 1150 3233 529 \nQ 2819 -91 2034 -91 \nQ 1250 -91 836 529 \nQ 422 1150 422 2328 \nQ 422 3509 836 4129 \nQ 1250 4750 2034 4750 \nz\n\" id=\"DejaVuSans-30\" transform=\"scale(0.015625)\"/>\n       </defs>\n       <use xlink:href=\"#DejaVuSans-30\"/>\n      </g>\n     </g>\n    </g>\n    <g id=\"ytick_2\">\n     <g id=\"line2d_6\">\n      <g>\n       <use style=\"stroke:#000000;stroke-width:0.8;\" x=\"34.240625\" xlink:href=\"#md9f1efa438\" y=\"198.754286\"/>\n      </g>\n     </g>\n     <g id=\"text_7\">\n      <!-- 1 -->\n      <g transform=\"translate(20.878125 202.553504)scale(0.1 -0.1)\">\n       <defs>\n        <path d=\"M 794 531 \nL 1825 531 \nL 1825 4091 \nL 703 3866 \nL 703 4441 \nL 1819 4666 \nL 2450 4666 \nL 2450 531 \nL 3481 531 \nL 3481 0 \nL 794 0 \nL 794 531 \nz\n\" id=\"DejaVuSans-31\" transform=\"scale(0.015625)\"/>\n       </defs>\n       <use xlink:href=\"#DejaVuSans-31\"/>\n      </g>\n     </g>\n    </g>\n    <g id=\"ytick_3\">\n     <g id=\"line2d_7\">\n      <g>\n       <use style=\"stroke:#000000;stroke-width:0.8;\" x=\"34.240625\" xlink:href=\"#md9f1efa438\" y=\"172.868571\"/>\n      </g>\n     </g>\n     <g id=\"text_8\">\n      <!-- 2 -->\n      <g transform=\"translate(20.878125 176.66779)scale(0.1 -0.1)\">\n       <defs>\n        <path d=\"M 1228 531 \nL 3431 531 \nL 3431 0 \nL 469 0 \nL 469 531 \nQ 828 903 1448 1529 \nQ 2069 2156 2228 2338 \nQ 2531 2678 2651 2914 \nQ 2772 3150 2772 3378 \nQ 2772 3750 2511 3984 \nQ 2250 4219 1831 4219 \nQ 1534 4219 1204 4116 \nQ 875 4013 500 3803 \nL 500 4441 \nQ 881 4594 1212 4672 \nQ 1544 4750 1819 4750 \nQ 2544 4750 2975 4387 \nQ 3406 4025 3406 3419 \nQ 3406 3131 3298 2873 \nQ 3191 2616 2906 2266 \nQ 2828 2175 2409 1742 \nQ 1991 1309 1228 531 \nz\n\" id=\"DejaVuSans-32\" transform=\"scale(0.015625)\"/>\n       </defs>\n       <use xlink:href=\"#DejaVuSans-32\"/>\n      </g>\n     </g>\n    </g>\n    <g id=\"ytick_4\">\n     <g id=\"line2d_8\">\n      <g>\n       <use style=\"stroke:#000000;stroke-width:0.8;\" x=\"34.240625\" xlink:href=\"#md9f1efa438\" y=\"146.982857\"/>\n      </g>\n     </g>\n     <g id=\"text_9\">\n      <!-- 3 -->\n      <g transform=\"translate(20.878125 150.782076)scale(0.1 -0.1)\">\n       <defs>\n        <path d=\"M 2597 2516 \nQ 3050 2419 3304 2112 \nQ 3559 1806 3559 1356 \nQ 3559 666 3084 287 \nQ 2609 -91 1734 -91 \nQ 1441 -91 1130 -33 \nQ 819 25 488 141 \nL 488 750 \nQ 750 597 1062 519 \nQ 1375 441 1716 441 \nQ 2309 441 2620 675 \nQ 2931 909 2931 1356 \nQ 2931 1769 2642 2001 \nQ 2353 2234 1838 2234 \nL 1294 2234 \nL 1294 2753 \nL 1863 2753 \nQ 2328 2753 2575 2939 \nQ 2822 3125 2822 3475 \nQ 2822 3834 2567 4026 \nQ 2313 4219 1838 4219 \nQ 1578 4219 1281 4162 \nQ 984 4106 628 3988 \nL 628 4550 \nQ 988 4650 1302 4700 \nQ 1616 4750 1894 4750 \nQ 2613 4750 3031 4423 \nQ 3450 4097 3450 3541 \nQ 3450 3153 3228 2886 \nQ 3006 2619 2597 2516 \nz\n\" id=\"DejaVuSans-33\" transform=\"scale(0.015625)\"/>\n       </defs>\n       <use xlink:href=\"#DejaVuSans-33\"/>\n      </g>\n     </g>\n    </g>\n    <g id=\"ytick_5\">\n     <g id=\"line2d_9\">\n      <g>\n       <use style=\"stroke:#000000;stroke-width:0.8;\" x=\"34.240625\" xlink:href=\"#md9f1efa438\" y=\"121.097143\"/>\n      </g>\n     </g>\n     <g id=\"text_10\">\n      <!-- 4 -->\n      <g transform=\"translate(20.878125 124.896362)scale(0.1 -0.1)\">\n       <defs>\n        <path d=\"M 2419 4116 \nL 825 1625 \nL 2419 1625 \nL 2419 4116 \nz\nM 2253 4666 \nL 3047 4666 \nL 3047 1625 \nL 3713 1625 \nL 3713 1100 \nL 3047 1100 \nL 3047 0 \nL 2419 0 \nL 2419 1100 \nL 313 1100 \nL 313 1709 \nL 2253 4666 \nz\n\" id=\"DejaVuSans-34\" transform=\"scale(0.015625)\"/>\n       </defs>\n       <use xlink:href=\"#DejaVuSans-34\"/>\n      </g>\n     </g>\n    </g>\n    <g id=\"ytick_6\">\n     <g id=\"line2d_10\">\n      <g>\n       <use style=\"stroke:#000000;stroke-width:0.8;\" x=\"34.240625\" xlink:href=\"#md9f1efa438\" y=\"95.211429\"/>\n      </g>\n     </g>\n     <g id=\"text_11\">\n      <!-- 5 -->\n      <g transform=\"translate(20.878125 99.010647)scale(0.1 -0.1)\">\n       <defs>\n        <path d=\"M 691 4666 \nL 3169 4666 \nL 3169 4134 \nL 1269 4134 \nL 1269 2991 \nQ 1406 3038 1543 3061 \nQ 1681 3084 1819 3084 \nQ 2600 3084 3056 2656 \nQ 3513 2228 3513 1497 \nQ 3513 744 3044 326 \nQ 2575 -91 1722 -91 \nQ 1428 -91 1123 -41 \nQ 819 9 494 109 \nL 494 744 \nQ 775 591 1075 516 \nQ 1375 441 1709 441 \nQ 2250 441 2565 725 \nQ 2881 1009 2881 1497 \nQ 2881 1984 2565 2268 \nQ 2250 2553 1709 2553 \nQ 1456 2553 1204 2497 \nQ 953 2441 691 2322 \nL 691 4666 \nz\n\" id=\"DejaVuSans-35\" transform=\"scale(0.015625)\"/>\n       </defs>\n       <use xlink:href=\"#DejaVuSans-35\"/>\n      </g>\n     </g>\n    </g>\n    <g id=\"ytick_7\">\n     <g id=\"line2d_11\">\n      <g>\n       <use style=\"stroke:#000000;stroke-width:0.8;\" x=\"34.240625\" xlink:href=\"#md9f1efa438\" y=\"69.325714\"/>\n      </g>\n     </g>\n     <g id=\"text_12\">\n      <!-- 6 -->\n      <g transform=\"translate(20.878125 73.124933)scale(0.1 -0.1)\">\n       <defs>\n        <path d=\"M 2113 2584 \nQ 1688 2584 1439 2293 \nQ 1191 2003 1191 1497 \nQ 1191 994 1439 701 \nQ 1688 409 2113 409 \nQ 2538 409 2786 701 \nQ 3034 994 3034 1497 \nQ 3034 2003 2786 2293 \nQ 2538 2584 2113 2584 \nz\nM 3366 4563 \nL 3366 3988 \nQ 3128 4100 2886 4159 \nQ 2644 4219 2406 4219 \nQ 1781 4219 1451 3797 \nQ 1122 3375 1075 2522 \nQ 1259 2794 1537 2939 \nQ 1816 3084 2150 3084 \nQ 2853 3084 3261 2657 \nQ 3669 2231 3669 1497 \nQ 3669 778 3244 343 \nQ 2819 -91 2113 -91 \nQ 1303 -91 875 529 \nQ 447 1150 447 2328 \nQ 447 3434 972 4092 \nQ 1497 4750 2381 4750 \nQ 2619 4750 2861 4703 \nQ 3103 4656 3366 4563 \nz\n\" id=\"DejaVuSans-36\" transform=\"scale(0.015625)\"/>\n       </defs>\n       <use xlink:href=\"#DejaVuSans-36\"/>\n      </g>\n     </g>\n    </g>\n    <g id=\"ytick_8\">\n     <g id=\"line2d_12\">\n      <g>\n       <use style=\"stroke:#000000;stroke-width:0.8;\" x=\"34.240625\" xlink:href=\"#md9f1efa438\" y=\"43.44\"/>\n      </g>\n     </g>\n     <g id=\"text_13\">\n      <!-- 7 -->\n      <g transform=\"translate(20.878125 47.239219)scale(0.1 -0.1)\">\n       <defs>\n        <path d=\"M 525 4666 \nL 3525 4666 \nL 3525 4397 \nL 1831 0 \nL 1172 0 \nL 2766 4134 \nL 525 4134 \nL 525 4666 \nz\n\" id=\"DejaVuSans-37\" transform=\"scale(0.015625)\"/>\n       </defs>\n       <use xlink:href=\"#DejaVuSans-37\"/>\n      </g>\n     </g>\n    </g>\n    <g id=\"ytick_9\">\n     <g id=\"line2d_13\">\n      <g>\n       <use style=\"stroke:#000000;stroke-width:0.8;\" x=\"34.240625\" xlink:href=\"#md9f1efa438\" y=\"17.554286\"/>\n      </g>\n     </g>\n     <g id=\"text_14\">\n      <!-- 8 -->\n      <g transform=\"translate(20.878125 21.353504)scale(0.1 -0.1)\">\n       <defs>\n        <path d=\"M 2034 2216 \nQ 1584 2216 1326 1975 \nQ 1069 1734 1069 1313 \nQ 1069 891 1326 650 \nQ 1584 409 2034 409 \nQ 2484 409 2743 651 \nQ 3003 894 3003 1313 \nQ 3003 1734 2745 1975 \nQ 2488 2216 2034 2216 \nz\nM 1403 2484 \nQ 997 2584 770 2862 \nQ 544 3141 544 3541 \nQ 544 4100 942 4425 \nQ 1341 4750 2034 4750 \nQ 2731 4750 3128 4425 \nQ 3525 4100 3525 3541 \nQ 3525 3141 3298 2862 \nQ 3072 2584 2669 2484 \nQ 3125 2378 3379 2068 \nQ 3634 1759 3634 1313 \nQ 3634 634 3220 271 \nQ 2806 -91 2034 -91 \nQ 1263 -91 848 271 \nQ 434 634 434 1313 \nQ 434 1759 690 2068 \nQ 947 2378 1403 2484 \nz\nM 1172 3481 \nQ 1172 3119 1398 2916 \nQ 1625 2713 2034 2713 \nQ 2441 2713 2670 2916 \nQ 2900 3119 2900 3481 \nQ 2900 3844 2670 4047 \nQ 2441 4250 2034 4250 \nQ 1625 4250 1398 4047 \nQ 1172 3844 1172 3481 \nz\n\" id=\"DejaVuSans-38\" transform=\"scale(0.015625)\"/>\n       </defs>\n       <use xlink:href=\"#DejaVuSans-38\"/>\n      </g>\n     </g>\n    </g>\n    <g id=\"text_15\">\n     <!-- Count -->\n     <g transform=\"translate(14.798437 130.768437)rotate(-90)scale(0.1 -0.1)\">\n      <use xlink:href=\"#DejaVuSans-43\"/>\n      <use x=\"69.824219\" xlink:href=\"#DejaVuSans-6f\"/>\n      <use x=\"131.005859\" xlink:href=\"#DejaVuSans-75\"/>\n      <use x=\"194.384766\" xlink:href=\"#DejaVuSans-6e\"/>\n      <use x=\"257.763672\" xlink:href=\"#DejaVuSans-74\"/>\n     </g>\n    </g>\n   </g>\n   <g id=\"patch_7\">\n    <path d=\"M 34.240625 224.64 \nL 34.240625 7.2 \n\" style=\"fill:none;stroke:#000000;stroke-linecap:square;stroke-linejoin:miter;stroke-width:0.8;\"/>\n   </g>\n   <g id=\"patch_8\">\n    <path d=\"M 369.040625 224.64 \nL 369.040625 7.2 \n\" style=\"fill:none;stroke:#000000;stroke-linecap:square;stroke-linejoin:miter;stroke-width:0.8;\"/>\n   </g>\n   <g id=\"patch_9\">\n    <path d=\"M 34.240625 224.64 \nL 369.040625 224.64 \n\" style=\"fill:none;stroke:#000000;stroke-linecap:square;stroke-linejoin:miter;stroke-width:0.8;\"/>\n   </g>\n   <g id=\"patch_10\">\n    <path d=\"M 34.240625 7.2 \nL 369.040625 7.2 \n\" style=\"fill:none;stroke:#000000;stroke-linecap:square;stroke-linejoin:miter;stroke-width:0.8;\"/>\n   </g>\n  </g>\n </g>\n <defs>\n  <clipPath id=\"p9c8fac8b61\">\n   <rect height=\"217.44\" width=\"334.8\" x=\"34.240625\" y=\"7.2\"/>\n  </clipPath>\n </defs>\n</svg>\n",
      "image/png": "[encoded data removed]"
     },
     "metadata": {
      "needs_background": "light"
     }
    },
    {
     "output_type": "display_data",
     "data": {
      "text/plain": "<Figure size 1296x360 with 1 Axes>",
      "image/svg+xml": "<?xml version=\"1.0\" encoding=\"utf-8\" standalone=\"no\"?>\n<!DOCTYPE svg PUBLIC \"-//W3C//DTD SVG 1.1//EN\"\n  \"http://www.w3.org/Graphics/SVG/1.1/DTD/svg11.dtd\">\n<svg height=\"316.834375pt\" version=\"1.1\" viewBox=\"0 0 1068.295313 316.834375\" width=\"1068.295313pt\" xmlns=\"http://www.w3.org/2000/svg\" xmlns:xlink=\"http://www.w3.org/1999/xlink\">\n <metadata>\n  <rdf:RDF xmlns:cc=\"http://creativecommons.org/ns#\" xmlns:dc=\"http://purl.org/dc/elements/1.1/\" xmlns:rdf=\"http://www.w3.org/1999/02/22-rdf-syntax-ns#\">\n   <cc:Work>\n    <dc:type rdf:resource=\"http://purl.org/dc/dcmitype/StillImage\"/>\n    <dc:date>2021-06-13T19:45:29.047343</dc:date>\n    <dc:format>image/svg+xml</dc:format>\n    <dc:creator>\n     <cc:Agent>\n      <dc:title>Matplotlib v3.4.1, https://matplotlib.org/</dc:title>\n     </cc:Agent>\n    </dc:creator>\n   </cc:Work>\n  </rdf:RDF>\n </metadata>\n <defs>\n  <style type=\"text/css\">*{stroke-linecap:butt;stroke-linejoin:round;}</style>\n </defs>\n <g id=\"figure_1\">\n  <g id=\"patch_1\">\n   <path d=\"M 0 316.834375 \nL 1068.295313 316.834375 \nL 1068.295313 0 \nL 0 0 \nz\n\" style=\"fill:none;\"/>\n  </g>\n  <g id=\"axes_1\">\n   <g id=\"patch_2\">\n    <path d=\"M 56.695313 279 \nL 1061.095313 279 \nL 1061.095313 7.2 \nL 56.695313 7.2 \nz\n\" style=\"fill:#ffffff;\"/>\n   </g>\n   <g id=\"patch_3\">\n    <path clip-path=\"url(#p6e011cdb92)\" d=\"M 787.725482 13.995 \nL 787.725482 68.355 \nL 1015.440767 68.355 \nL 1015.440767 13.995 \nL 787.725482 13.995 \nz\n\" style=\"fill:#3274a1;stroke:#3d3d3d;stroke-linejoin:miter;stroke-width:1.5;\"/>\n   </g>\n   <g id=\"patch_4\">\n    <path clip-path=\"url(#p6e011cdb92)\" d=\"M 102.726132 81.945 \nL 102.726132 136.305 \nL 363.232975 136.305 \nL 363.232975 81.945 \nL 102.726132 81.945 \nz\n\" style=\"fill:#e1812c;stroke:#3d3d3d;stroke-linejoin:miter;stroke-width:1.5;\"/>\n   </g>\n   <g id=\"patch_5\">\n    <path clip-path=\"url(#p6e011cdb92)\" d=\"M 136.507151 149.895 \nL 136.507151 204.255 \nL 798.03817 204.255 \nL 798.03817 149.895 \nL 136.507151 149.895 \nz\n\" style=\"fill:#3a923a;stroke:#3d3d3d;stroke-linejoin:miter;stroke-width:1.5;\"/>\n   </g>\n   <g id=\"patch_6\">\n    <path clip-path=\"url(#p6e011cdb92)\" d=\"M 426.781426 217.845 \nL 426.781426 272.205 \nL 819.220987 272.205 \nL 819.220987 217.845 \nL 426.781426 217.845 \nz\n\" style=\"fill:#c03d3e;stroke:#3d3d3d;stroke-linejoin:miter;stroke-width:1.5;\"/>\n   </g>\n   <g id=\"matplotlib.axis_1\">\n    <g id=\"xtick_1\">\n     <g id=\"line2d_1\">\n      <defs>\n       <path d=\"M 0 0 \nL 0 3.5 \n\" id=\"m9695456d0d\" style=\"stroke:#000000;stroke-width:0.8;\"/>\n      </defs>\n      <g>\n       <use style=\"stroke:#000000;stroke-width:0.8;\" x=\"102.126881\" xlink:href=\"#m9695456d0d\" y=\"279\"/>\n      </g>\n     </g>\n     <g id=\"text_1\">\n      <!-- 0 -->\n      <g transform=\"translate(98.945631 293.598437)scale(0.1 -0.1)\">\n       <defs>\n        <path d=\"M 2034 4250 \nQ 1547 4250 1301 3770 \nQ 1056 3291 1056 2328 \nQ 1056 1369 1301 889 \nQ 1547 409 2034 409 \nQ 2525 409 2770 889 \nQ 3016 1369 3016 2328 \nQ 3016 3291 2770 3770 \nQ 2525 4250 2034 4250 \nz\nM 2034 4750 \nQ 2819 4750 3233 4129 \nQ 3647 3509 3647 2328 \nQ 3647 1150 3233 529 \nQ 2819 -91 2034 -91 \nQ 1250 -91 836 529 \nQ 422 1150 422 2328 \nQ 422 3509 836 4129 \nQ 1250 4750 2034 4750 \nz\n\" id=\"DejaVuSans-30\" transform=\"scale(0.015625)\"/>\n       </defs>\n       <use xlink:href=\"#DejaVuSans-30\"/>\n      </g>\n     </g>\n    </g>\n    <g id=\"xtick_2\">\n     <g id=\"line2d_2\">\n      <g>\n       <use style=\"stroke:#000000;stroke-width:0.8;\" x=\"241.48752\" xlink:href=\"#m9695456d0d\" y=\"279\"/>\n      </g>\n     </g>\n     <g id=\"text_2\">\n      <!-- 2500 -->\n      <g transform=\"translate(228.76252 293.598437)scale(0.1 -0.1)\">\n       <defs>\n        <path d=\"M 1228 531 \nL 3431 531 \nL 3431 0 \nL 469 0 \nL 469 531 \nQ 828 903 1448 1529 \nQ 2069 2156 2228 2338 \nQ 2531 2678 2651 2914 \nQ 2772 3150 2772 3378 \nQ 2772 3750 2511 3984 \nQ 2250 4219 1831 4219 \nQ 1534 4219 1204 4116 \nQ 875 4013 500 3803 \nL 500 4441 \nQ 881 4594 1212 4672 \nQ 1544 4750 1819 4750 \nQ 2544 4750 2975 4387 \nQ 3406 4025 3406 3419 \nQ 3406 3131 3298 2873 \nQ 3191 2616 2906 2266 \nQ 2828 2175 2409 1742 \nQ 1991 1309 1228 531 \nz\n\" id=\"DejaVuSans-32\" transform=\"scale(0.015625)\"/>\n        <path d=\"M 691 4666 \nL 3169 4666 \nL 3169 4134 \nL 1269 4134 \nL 1269 2991 \nQ 1406 3038 1543 3061 \nQ 1681 3084 1819 3084 \nQ 2600 3084 3056 2656 \nQ 3513 2228 3513 1497 \nQ 3513 744 3044 326 \nQ 2575 -91 1722 -91 \nQ 1428 -91 1123 -41 \nQ 819 9 494 109 \nL 494 744 \nQ 775 591 1075 516 \nQ 1375 441 1709 441 \nQ 2250 441 2565 725 \nQ 2881 1009 2881 1497 \nQ 2881 1984 2565 2268 \nQ 2250 2553 1709 2553 \nQ 1456 2553 1204 2497 \nQ 953 2441 691 2322 \nL 691 4666 \nz\n\" id=\"DejaVuSans-35\" transform=\"scale(0.015625)\"/>\n       </defs>\n       <use xlink:href=\"#DejaVuSans-32\"/>\n       <use x=\"63.623047\" xlink:href=\"#DejaVuSans-35\"/>\n       <use x=\"127.246094\" xlink:href=\"#DejaVuSans-30\"/>\n       <use x=\"190.869141\" xlink:href=\"#DejaVuSans-30\"/>\n      </g>\n     </g>\n    </g>\n    <g id=\"xtick_3\">\n     <g id=\"line2d_3\">\n      <g>\n       <use style=\"stroke:#000000;stroke-width:0.8;\" x=\"380.84816\" xlink:href=\"#m9695456d0d\" y=\"279\"/>\n      </g>\n     </g>\n     <g id=\"text_3\">\n      <!-- 5000 -->\n      <g transform=\"translate(368.12316 293.598437)scale(0.1 -0.1)\">\n       <use xlink:href=\"#DejaVuSans-35\"/>\n       <use x=\"63.623047\" xlink:href=\"#DejaVuSans-30\"/>\n       <use x=\"127.246094\" xlink:href=\"#DejaVuSans-30\"/>\n       <use x=\"190.869141\" xlink:href=\"#DejaVuSans-30\"/>\n      </g>\n     </g>\n    </g>\n    <g id=\"xtick_4\">\n     <g id=\"line2d_4\">\n      <g>\n       <use style=\"stroke:#000000;stroke-width:0.8;\" x=\"520.208799\" xlink:href=\"#m9695456d0d\" y=\"279\"/>\n      </g>\n     </g>\n     <g id=\"text_4\">\n      <!-- 7500 -->\n      <g transform=\"translate(507.483799 293.598437)scale(0.1 -0.1)\">\n       <defs>\n        <path d=\"M 525 4666 \nL 3525 4666 \nL 3525 4397 \nL 1831 0 \nL 1172 0 \nL 2766 4134 \nL 525 4134 \nL 525 4666 \nz\n\" id=\"DejaVuSans-37\" transform=\"scale(0.015625)\"/>\n       </defs>\n       <use xlink:href=\"#DejaVuSans-37\"/>\n       <use x=\"63.623047\" xlink:href=\"#DejaVuSans-35\"/>\n       <use x=\"127.246094\" xlink:href=\"#DejaVuSans-30\"/>\n       <use x=\"190.869141\" xlink:href=\"#DejaVuSans-30\"/>\n      </g>\n     </g>\n    </g>\n    <g id=\"xtick_5\">\n     <g id=\"line2d_5\">\n      <g>\n       <use style=\"stroke:#000000;stroke-width:0.8;\" x=\"659.569438\" xlink:href=\"#m9695456d0d\" y=\"279\"/>\n      </g>\n     </g>\n     <g id=\"text_5\">\n      <!-- 10000 -->\n      <g transform=\"translate(643.663188 293.598437)scale(0.1 -0.1)\">\n       <defs>\n        <path d=\"M 794 531 \nL 1825 531 \nL 1825 4091 \nL 703 3866 \nL 703 4441 \nL 1819 4666 \nL 2450 4666 \nL 2450 531 \nL 3481 531 \nL 3481 0 \nL 794 0 \nL 794 531 \nz\n\" id=\"DejaVuSans-31\" transform=\"scale(0.015625)\"/>\n       </defs>\n       <use xlink:href=\"#DejaVuSans-31\"/>\n       <use x=\"63.623047\" xlink:href=\"#DejaVuSans-30\"/>\n       <use x=\"127.246094\" xlink:href=\"#DejaVuSans-30\"/>\n       <use x=\"190.869141\" xlink:href=\"#DejaVuSans-30\"/>\n       <use x=\"254.492188\" xlink:href=\"#DejaVuSans-30\"/>\n      </g>\n     </g>\n    </g>\n    <g id=\"xtick_6\">\n     <g id=\"line2d_6\">\n      <g>\n       <use style=\"stroke:#000000;stroke-width:0.8;\" x=\"798.930078\" xlink:href=\"#m9695456d0d\" y=\"279\"/>\n      </g>\n     </g>\n     <g id=\"text_6\">\n      <!-- 12500 -->\n      <g transform=\"translate(783.023828 293.598437)scale(0.1 -0.1)\">\n       <use xlink:href=\"#DejaVuSans-31\"/>\n       <use x=\"63.623047\" xlink:href=\"#DejaVuSans-32\"/>\n       <use x=\"127.246094\" xlink:href=\"#DejaVuSans-35\"/>\n       <use x=\"190.869141\" xlink:href=\"#DejaVuSans-30\"/>\n       <use x=\"254.492188\" xlink:href=\"#DejaVuSans-30\"/>\n      </g>\n     </g>\n    </g>\n    <g id=\"xtick_7\">\n     <g id=\"line2d_7\">\n      <g>\n       <use style=\"stroke:#000000;stroke-width:0.8;\" x=\"938.290717\" xlink:href=\"#m9695456d0d\" y=\"279\"/>\n      </g>\n     </g>\n     <g id=\"text_7\">\n      <!-- 15000 -->\n      <g transform=\"translate(922.384467 293.598437)scale(0.1 -0.1)\">\n       <use xlink:href=\"#DejaVuSans-31\"/>\n       <use x=\"63.623047\" xlink:href=\"#DejaVuSans-35\"/>\n       <use x=\"127.246094\" xlink:href=\"#DejaVuSans-30\"/>\n       <use x=\"190.869141\" xlink:href=\"#DejaVuSans-30\"/>\n       <use x=\"254.492188\" xlink:href=\"#DejaVuSans-30\"/>\n      </g>\n     </g>\n    </g>\n    <g id=\"text_8\">\n     <!-- N_dim -->\n     <g transform=\"translate(543.221094 307.276562)scale(0.1 -0.1)\">\n      <defs>\n       <path d=\"M 628 4666 \nL 1478 4666 \nL 3547 763 \nL 3547 4666 \nL 4159 4666 \nL 4159 0 \nL 3309 0 \nL 1241 3903 \nL 1241 0 \nL 628 0 \nL 628 4666 \nz\n\" id=\"DejaVuSans-4e\" transform=\"scale(0.015625)\"/>\n       <path d=\"M 3263 -1063 \nL 3263 -1509 \nL -63 -1509 \nL -63 -1063 \nL 3263 -1063 \nz\n\" id=\"DejaVuSans-5f\" transform=\"scale(0.015625)\"/>\n       <path d=\"M 2906 2969 \nL 2906 4863 \nL 3481 4863 \nL 3481 0 \nL 2906 0 \nL 2906 525 \nQ 2725 213 2448 61 \nQ 2172 -91 1784 -91 \nQ 1150 -91 751 415 \nQ 353 922 353 1747 \nQ 353 2572 751 3078 \nQ 1150 3584 1784 3584 \nQ 2172 3584 2448 3432 \nQ 2725 3281 2906 2969 \nz\nM 947 1747 \nQ 947 1113 1208 752 \nQ 1469 391 1925 391 \nQ 2381 391 2643 752 \nQ 2906 1113 2906 1747 \nQ 2906 2381 2643 2742 \nQ 2381 3103 1925 3103 \nQ 1469 3103 1208 2742 \nQ 947 2381 947 1747 \nz\n\" id=\"DejaVuSans-64\" transform=\"scale(0.015625)\"/>\n       <path d=\"M 603 3500 \nL 1178 3500 \nL 1178 0 \nL 603 0 \nL 603 3500 \nz\nM 603 4863 \nL 1178 4863 \nL 1178 4134 \nL 603 4134 \nL 603 4863 \nz\n\" id=\"DejaVuSans-69\" transform=\"scale(0.015625)\"/>\n       <path d=\"M 3328 2828 \nQ 3544 3216 3844 3400 \nQ 4144 3584 4550 3584 \nQ 5097 3584 5394 3201 \nQ 5691 2819 5691 2113 \nL 5691 0 \nL 5113 0 \nL 5113 2094 \nQ 5113 2597 4934 2840 \nQ 4756 3084 4391 3084 \nQ 3944 3084 3684 2787 \nQ 3425 2491 3425 1978 \nL 3425 0 \nL 2847 0 \nL 2847 2094 \nQ 2847 2600 2669 2842 \nQ 2491 3084 2119 3084 \nQ 1678 3084 1418 2786 \nQ 1159 2488 1159 1978 \nL 1159 0 \nL 581 0 \nL 581 3500 \nL 1159 3500 \nL 1159 2956 \nQ 1356 3278 1631 3431 \nQ 1906 3584 2284 3584 \nQ 2666 3584 2933 3390 \nQ 3200 3197 3328 2828 \nz\n\" id=\"DejaVuSans-6d\" transform=\"scale(0.015625)\"/>\n      </defs>\n      <use xlink:href=\"#DejaVuSans-4e\"/>\n      <use x=\"74.804688\" xlink:href=\"#DejaVuSans-5f\"/>\n      <use x=\"124.804688\" xlink:href=\"#DejaVuSans-64\"/>\n      <use x=\"188.28125\" xlink:href=\"#DejaVuSans-69\"/>\n      <use x=\"216.064453\" xlink:href=\"#DejaVuSans-6d\"/>\n     </g>\n    </g>\n   </g>\n   <g id=\"matplotlib.axis_2\">\n    <g id=\"ytick_1\">\n     <g id=\"line2d_8\">\n      <defs>\n       <path d=\"M 0 0 \nL -3.5 0 \n\" id=\"mfa136734cd\" style=\"stroke:#000000;stroke-width:0.8;\"/>\n      </defs>\n      <g>\n       <use style=\"stroke:#000000;stroke-width:0.8;\" x=\"56.695313\" xlink:href=\"#mfa136734cd\" y=\"41.175\"/>\n      </g>\n     </g>\n     <g id=\"text_9\">\n      <!-- PCA -->\n      <g transform=\"translate(29.842188 44.974219)scale(0.1 -0.1)\">\n       <defs>\n        <path d=\"M 1259 4147 \nL 1259 2394 \nL 2053 2394 \nQ 2494 2394 2734 2622 \nQ 2975 2850 2975 3272 \nQ 2975 3691 2734 3919 \nQ 2494 4147 2053 4147 \nL 1259 4147 \nz\nM 628 4666 \nL 2053 4666 \nQ 2838 4666 3239 4311 \nQ 3641 3956 3641 3272 \nQ 3641 2581 3239 2228 \nQ 2838 1875 2053 1875 \nL 1259 1875 \nL 1259 0 \nL 628 0 \nL 628 4666 \nz\n\" id=\"DejaVuSans-50\" transform=\"scale(0.015625)\"/>\n        <path d=\"M 4122 4306 \nL 4122 3641 \nQ 3803 3938 3442 4084 \nQ 3081 4231 2675 4231 \nQ 1875 4231 1450 3742 \nQ 1025 3253 1025 2328 \nQ 1025 1406 1450 917 \nQ 1875 428 2675 428 \nQ 3081 428 3442 575 \nQ 3803 722 4122 1019 \nL 4122 359 \nQ 3791 134 3420 21 \nQ 3050 -91 2638 -91 \nQ 1578 -91 968 557 \nQ 359 1206 359 2328 \nQ 359 3453 968 4101 \nQ 1578 4750 2638 4750 \nQ 3056 4750 3426 4639 \nQ 3797 4528 4122 4306 \nz\n\" id=\"DejaVuSans-43\" transform=\"scale(0.015625)\"/>\n        <path d=\"M 2188 4044 \nL 1331 1722 \nL 3047 1722 \nL 2188 4044 \nz\nM 1831 4666 \nL 2547 4666 \nL 4325 0 \nL 3669 0 \nL 3244 1197 \nL 1141 1197 \nL 716 0 \nL 50 0 \nL 1831 4666 \nz\n\" id=\"DejaVuSans-41\" transform=\"scale(0.015625)\"/>\n       </defs>\n       <use xlink:href=\"#DejaVuSans-50\"/>\n       <use x=\"60.302734\" xlink:href=\"#DejaVuSans-43\"/>\n       <use x=\"130.126953\" xlink:href=\"#DejaVuSans-41\"/>\n      </g>\n     </g>\n    </g>\n    <g id=\"ytick_2\">\n     <g id=\"line2d_9\">\n      <g>\n       <use style=\"stroke:#000000;stroke-width:0.8;\" x=\"56.695313\" xlink:href=\"#mfa136734cd\" y=\"109.125\"/>\n      </g>\n     </g>\n     <g id=\"text_10\">\n      <!-- LDA -->\n      <g transform=\"translate(29.757813 112.924219)scale(0.1 -0.1)\">\n       <defs>\n        <path d=\"M 628 4666 \nL 1259 4666 \nL 1259 531 \nL 3531 531 \nL 3531 0 \nL 628 0 \nL 628 4666 \nz\n\" id=\"DejaVuSans-4c\" transform=\"scale(0.015625)\"/>\n        <path d=\"M 1259 4147 \nL 1259 519 \nL 2022 519 \nQ 2988 519 3436 956 \nQ 3884 1394 3884 2338 \nQ 3884 3275 3436 3711 \nQ 2988 4147 2022 4147 \nL 1259 4147 \nz\nM 628 4666 \nL 1925 4666 \nQ 3281 4666 3915 4102 \nQ 4550 3538 4550 2338 \nQ 4550 1131 3912 565 \nQ 3275 0 1925 0 \nL 628 0 \nL 628 4666 \nz\n\" id=\"DejaVuSans-44\" transform=\"scale(0.015625)\"/>\n       </defs>\n       <use xlink:href=\"#DejaVuSans-4c\"/>\n       <use x=\"55.712891\" xlink:href=\"#DejaVuSans-44\"/>\n       <use x=\"130.964844\" xlink:href=\"#DejaVuSans-41\"/>\n      </g>\n     </g>\n    </g>\n    <g id=\"ytick_3\">\n     <g id=\"line2d_10\">\n      <g>\n       <use style=\"stroke:#000000;stroke-width:0.8;\" x=\"56.695313\" xlink:href=\"#mfa136734cd\" y=\"177.075\"/>\n      </g>\n     </g>\n     <g id=\"text_11\">\n      <!-- UMAP -->\n      <g transform=\"translate(20.878125 180.874219)scale(0.1 -0.1)\">\n       <defs>\n        <path d=\"M 556 4666 \nL 1191 4666 \nL 1191 1831 \nQ 1191 1081 1462 751 \nQ 1734 422 2344 422 \nQ 2950 422 3222 751 \nQ 3494 1081 3494 1831 \nL 3494 4666 \nL 4128 4666 \nL 4128 1753 \nQ 4128 841 3676 375 \nQ 3225 -91 2344 -91 \nQ 1459 -91 1007 375 \nQ 556 841 556 1753 \nL 556 4666 \nz\n\" id=\"DejaVuSans-55\" transform=\"scale(0.015625)\"/>\n        <path d=\"M 628 4666 \nL 1569 4666 \nL 2759 1491 \nL 3956 4666 \nL 4897 4666 \nL 4897 0 \nL 4281 0 \nL 4281 4097 \nL 3078 897 \nL 2444 897 \nL 1241 4097 \nL 1241 0 \nL 628 0 \nL 628 4666 \nz\n\" id=\"DejaVuSans-4d\" transform=\"scale(0.015625)\"/>\n       </defs>\n       <use xlink:href=\"#DejaVuSans-55\"/>\n       <use x=\"73.193359\" xlink:href=\"#DejaVuSans-4d\"/>\n       <use x=\"159.472656\" xlink:href=\"#DejaVuSans-41\"/>\n       <use x=\"227.880859\" xlink:href=\"#DejaVuSans-50\"/>\n      </g>\n     </g>\n    </g>\n    <g id=\"ytick_4\">\n     <g id=\"line2d_11\">\n      <g>\n       <use style=\"stroke:#000000;stroke-width:0.8;\" x=\"56.695313\" xlink:href=\"#mfa136734cd\" y=\"245.025\"/>\n      </g>\n     </g>\n     <g id=\"text_12\">\n      <!-- KPCA -->\n      <g transform=\"translate(23.284375 248.824219)scale(0.1 -0.1)\">\n       <defs>\n        <path d=\"M 628 4666 \nL 1259 4666 \nL 1259 2694 \nL 3353 4666 \nL 4166 4666 \nL 1850 2491 \nL 4331 0 \nL 3500 0 \nL 1259 2247 \nL 1259 0 \nL 628 0 \nL 628 4666 \nz\n\" id=\"DejaVuSans-4b\" transform=\"scale(0.015625)\"/>\n       </defs>\n       <use xlink:href=\"#DejaVuSans-4b\"/>\n       <use x=\"65.576172\" xlink:href=\"#DejaVuSans-50\"/>\n       <use x=\"125.878906\" xlink:href=\"#DejaVuSans-43\"/>\n       <use x=\"195.703125\" xlink:href=\"#DejaVuSans-41\"/>\n      </g>\n     </g>\n    </g>\n    <g id=\"text_13\">\n     <!-- Reduction -->\n     <g transform=\"translate(14.798438 168.095312)rotate(-90)scale(0.1 -0.1)\">\n      <defs>\n       <path d=\"M 2841 2188 \nQ 3044 2119 3236 1894 \nQ 3428 1669 3622 1275 \nL 4263 0 \nL 3584 0 \nL 2988 1197 \nQ 2756 1666 2539 1819 \nQ 2322 1972 1947 1972 \nL 1259 1972 \nL 1259 0 \nL 628 0 \nL 628 4666 \nL 2053 4666 \nQ 2853 4666 3247 4331 \nQ 3641 3997 3641 3322 \nQ 3641 2881 3436 2590 \nQ 3231 2300 2841 2188 \nz\nM 1259 4147 \nL 1259 2491 \nL 2053 2491 \nQ 2509 2491 2742 2702 \nQ 2975 2913 2975 3322 \nQ 2975 3731 2742 3939 \nQ 2509 4147 2053 4147 \nL 1259 4147 \nz\n\" id=\"DejaVuSans-52\" transform=\"scale(0.015625)\"/>\n       <path d=\"M 3597 1894 \nL 3597 1613 \nL 953 1613 \nQ 991 1019 1311 708 \nQ 1631 397 2203 397 \nQ 2534 397 2845 478 \nQ 3156 559 3463 722 \nL 3463 178 \nQ 3153 47 2828 -22 \nQ 2503 -91 2169 -91 \nQ 1331 -91 842 396 \nQ 353 884 353 1716 \nQ 353 2575 817 3079 \nQ 1281 3584 2069 3584 \nQ 2775 3584 3186 3129 \nQ 3597 2675 3597 1894 \nz\nM 3022 2063 \nQ 3016 2534 2758 2815 \nQ 2500 3097 2075 3097 \nQ 1594 3097 1305 2825 \nQ 1016 2553 972 2059 \nL 3022 2063 \nz\n\" id=\"DejaVuSans-65\" transform=\"scale(0.015625)\"/>\n       <path d=\"M 544 1381 \nL 544 3500 \nL 1119 3500 \nL 1119 1403 \nQ 1119 906 1312 657 \nQ 1506 409 1894 409 \nQ 2359 409 2629 706 \nQ 2900 1003 2900 1516 \nL 2900 3500 \nL 3475 3500 \nL 3475 0 \nL 2900 0 \nL 2900 538 \nQ 2691 219 2414 64 \nQ 2138 -91 1772 -91 \nQ 1169 -91 856 284 \nQ 544 659 544 1381 \nz\nM 1991 3584 \nL 1991 3584 \nz\n\" id=\"DejaVuSans-75\" transform=\"scale(0.015625)\"/>\n       <path d=\"M 3122 3366 \nL 3122 2828 \nQ 2878 2963 2633 3030 \nQ 2388 3097 2138 3097 \nQ 1578 3097 1268 2742 \nQ 959 2388 959 1747 \nQ 959 1106 1268 751 \nQ 1578 397 2138 397 \nQ 2388 397 2633 464 \nQ 2878 531 3122 666 \nL 3122 134 \nQ 2881 22 2623 -34 \nQ 2366 -91 2075 -91 \nQ 1284 -91 818 406 \nQ 353 903 353 1747 \nQ 353 2603 823 3093 \nQ 1294 3584 2113 3584 \nQ 2378 3584 2631 3529 \nQ 2884 3475 3122 3366 \nz\n\" id=\"DejaVuSans-63\" transform=\"scale(0.015625)\"/>\n       <path d=\"M 1172 4494 \nL 1172 3500 \nL 2356 3500 \nL 2356 3053 \nL 1172 3053 \nL 1172 1153 \nQ 1172 725 1289 603 \nQ 1406 481 1766 481 \nL 2356 481 \nL 2356 0 \nL 1766 0 \nQ 1100 0 847 248 \nQ 594 497 594 1153 \nL 594 3053 \nL 172 3053 \nL 172 3500 \nL 594 3500 \nL 594 4494 \nL 1172 4494 \nz\n\" id=\"DejaVuSans-74\" transform=\"scale(0.015625)\"/>\n       <path d=\"M 1959 3097 \nQ 1497 3097 1228 2736 \nQ 959 2375 959 1747 \nQ 959 1119 1226 758 \nQ 1494 397 1959 397 \nQ 2419 397 2687 759 \nQ 2956 1122 2956 1747 \nQ 2956 2369 2687 2733 \nQ 2419 3097 1959 3097 \nz\nM 1959 3584 \nQ 2709 3584 3137 3096 \nQ 3566 2609 3566 1747 \nQ 3566 888 3137 398 \nQ 2709 -91 1959 -91 \nQ 1206 -91 779 398 \nQ 353 888 353 1747 \nQ 353 2609 779 3096 \nQ 1206 3584 1959 3584 \nz\n\" id=\"DejaVuSans-6f\" transform=\"scale(0.015625)\"/>\n       <path d=\"M 3513 2113 \nL 3513 0 \nL 2938 0 \nL 2938 2094 \nQ 2938 2591 2744 2837 \nQ 2550 3084 2163 3084 \nQ 1697 3084 1428 2787 \nQ 1159 2491 1159 1978 \nL 1159 0 \nL 581 0 \nL 581 3500 \nL 1159 3500 \nL 1159 2956 \nQ 1366 3272 1645 3428 \nQ 1925 3584 2291 3584 \nQ 2894 3584 3203 3211 \nQ 3513 2838 3513 2113 \nz\n\" id=\"DejaVuSans-6e\" transform=\"scale(0.015625)\"/>\n      </defs>\n      <use xlink:href=\"#DejaVuSans-52\"/>\n      <use x=\"64.982422\" xlink:href=\"#DejaVuSans-65\"/>\n      <use x=\"126.505859\" xlink:href=\"#DejaVuSans-64\"/>\n      <use x=\"189.982422\" xlink:href=\"#DejaVuSans-75\"/>\n      <use x=\"253.361328\" xlink:href=\"#DejaVuSans-63\"/>\n      <use x=\"308.341797\" xlink:href=\"#DejaVuSans-74\"/>\n      <use x=\"347.550781\" xlink:href=\"#DejaVuSans-69\"/>\n      <use x=\"375.333984\" xlink:href=\"#DejaVuSans-6f\"/>\n      <use x=\"436.515625\" xlink:href=\"#DejaVuSans-6e\"/>\n     </g>\n    </g>\n   </g>\n   <g id=\"line2d_12\">\n    <path clip-path=\"url(#p6e011cdb92)\" d=\"M 787.725482 41.175 \nL 104.579628 41.175 \n\" style=\"fill:none;stroke:#3d3d3d;stroke-linecap:square;stroke-width:1.5;\"/>\n   </g>\n   <g id=\"line2d_13\">\n    <path clip-path=\"url(#p6e011cdb92)\" d=\"M 1015.440767 41.175 \nL 1015.440767 41.175 \n\" style=\"fill:none;stroke:#3d3d3d;stroke-linecap:square;stroke-width:1.5;\"/>\n   </g>\n   <g id=\"line2d_14\">\n    <path clip-path=\"url(#p6e011cdb92)\" d=\"M 104.579628 27.585 \nL 104.579628 54.765 \n\" style=\"fill:none;stroke:#3d3d3d;stroke-linecap:square;stroke-width:1.5;\"/>\n   </g>\n   <g id=\"line2d_15\">\n    <path clip-path=\"url(#p6e011cdb92)\" d=\"M 1015.440767 27.585 \nL 1015.440767 54.765 \n\" style=\"fill:none;stroke:#3d3d3d;stroke-linecap:square;stroke-width:1.5;\"/>\n   </g>\n   <g id=\"line2d_16\"/>\n   <g id=\"line2d_17\">\n    <path clip-path=\"url(#p6e011cdb92)\" d=\"M 102.726132 109.125 \nL 102.349858 109.125 \n\" style=\"fill:none;stroke:#3d3d3d;stroke-linecap:square;stroke-width:1.5;\"/>\n   </g>\n   <g id=\"line2d_18\">\n    <path clip-path=\"url(#p6e011cdb92)\" d=\"M 363.232975 109.125 \nL 1015.440767 109.125 \n\" style=\"fill:none;stroke:#3d3d3d;stroke-linecap:square;stroke-width:1.5;\"/>\n   </g>\n   <g id=\"line2d_19\">\n    <path clip-path=\"url(#p6e011cdb92)\" d=\"M 102.349858 95.535 \nL 102.349858 122.715 \n\" style=\"fill:none;stroke:#3d3d3d;stroke-linecap:square;stroke-width:1.5;\"/>\n   </g>\n   <g id=\"line2d_20\">\n    <path clip-path=\"url(#p6e011cdb92)\" d=\"M 1015.440767 95.535 \nL 1015.440767 122.715 \n\" style=\"fill:none;stroke:#3d3d3d;stroke-linecap:square;stroke-width:1.5;\"/>\n   </g>\n   <g id=\"line2d_21\"/>\n   <g id=\"line2d_22\">\n    <path clip-path=\"url(#p6e011cdb92)\" d=\"M 136.507151 177.075 \nL 108.203005 177.075 \n\" style=\"fill:none;stroke:#3d3d3d;stroke-linecap:square;stroke-width:1.5;\"/>\n   </g>\n   <g id=\"line2d_23\">\n    <path clip-path=\"url(#p6e011cdb92)\" d=\"M 798.03817 177.075 \nL 1015.440767 177.075 \n\" style=\"fill:none;stroke:#3d3d3d;stroke-linecap:square;stroke-width:1.5;\"/>\n   </g>\n   <g id=\"line2d_24\">\n    <path clip-path=\"url(#p6e011cdb92)\" d=\"M 108.203005 163.485 \nL 108.203005 190.665 \n\" style=\"fill:none;stroke:#3d3d3d;stroke-linecap:square;stroke-width:1.5;\"/>\n   </g>\n   <g id=\"line2d_25\">\n    <path clip-path=\"url(#p6e011cdb92)\" d=\"M 1015.440767 163.485 \nL 1015.440767 190.665 \n\" style=\"fill:none;stroke:#3d3d3d;stroke-linecap:square;stroke-width:1.5;\"/>\n   </g>\n   <g id=\"line2d_26\"/>\n   <g id=\"line2d_27\">\n    <path clip-path=\"url(#p6e011cdb92)\" d=\"M 426.781426 245.025 \nL 230.561646 245.025 \n\" style=\"fill:none;stroke:#3d3d3d;stroke-linecap:square;stroke-width:1.5;\"/>\n   </g>\n   <g id=\"line2d_28\">\n    <path clip-path=\"url(#p6e011cdb92)\" d=\"M 819.220987 245.025 \nL 1015.440767 245.025 \n\" style=\"fill:none;stroke:#3d3d3d;stroke-linecap:square;stroke-width:1.5;\"/>\n   </g>\n   <g id=\"line2d_29\">\n    <path clip-path=\"url(#p6e011cdb92)\" d=\"M 230.561646 231.435 \nL 230.561646 258.615 \n\" style=\"fill:none;stroke:#3d3d3d;stroke-linecap:square;stroke-width:1.5;\"/>\n   </g>\n   <g id=\"line2d_30\">\n    <path clip-path=\"url(#p6e011cdb92)\" d=\"M 1015.440767 231.435 \nL 1015.440767 258.615 \n\" style=\"fill:none;stroke:#3d3d3d;stroke-linecap:square;stroke-width:1.5;\"/>\n   </g>\n   <g id=\"line2d_31\"/>\n   <g id=\"line2d_32\">\n    <path clip-path=\"url(#p6e011cdb92)\" d=\"M 1015.440767 13.995 \nL 1015.440767 68.355 \n\" style=\"fill:none;stroke:#3d3d3d;stroke-linecap:square;stroke-width:1.5;\"/>\n   </g>\n   <g id=\"line2d_33\">\n    <path clip-path=\"url(#p6e011cdb92)\" d=\"M 103.381127 81.945 \nL 103.381127 136.305 \n\" style=\"fill:none;stroke:#3d3d3d;stroke-linecap:square;stroke-width:1.5;\"/>\n   </g>\n   <g id=\"line2d_34\">\n    <path clip-path=\"url(#p6e011cdb92)\" d=\"M 145.830377 149.895 \nL 145.830377 204.255 \n\" style=\"fill:none;stroke:#3d3d3d;stroke-linecap:square;stroke-width:1.5;\"/>\n   </g>\n   <g id=\"line2d_35\">\n    <path clip-path=\"url(#p6e011cdb92)\" d=\"M 623.001207 217.845 \nL 623.001207 272.205 \n\" style=\"fill:none;stroke:#3d3d3d;stroke-linecap:square;stroke-width:1.5;\"/>\n   </g>\n   <g id=\"patch_7\">\n    <path d=\"M 56.695313 279 \nL 56.695313 7.2 \n\" style=\"fill:none;stroke:#000000;stroke-linecap:square;stroke-linejoin:miter;stroke-width:0.8;\"/>\n   </g>\n   <g id=\"patch_8\">\n    <path d=\"M 1061.095313 279 \nL 1061.095313 7.2 \n\" style=\"fill:none;stroke:#000000;stroke-linecap:square;stroke-linejoin:miter;stroke-width:0.8;\"/>\n   </g>\n   <g id=\"patch_9\">\n    <path d=\"M 56.695313 279 \nL 1061.095313 279 \n\" style=\"fill:none;stroke:#000000;stroke-linecap:square;stroke-linejoin:miter;stroke-width:0.8;\"/>\n   </g>\n   <g id=\"patch_10\">\n    <path d=\"M 56.695313 7.2 \nL 1061.095313 7.2 \n\" style=\"fill:none;stroke:#000000;stroke-linecap:square;stroke-linejoin:miter;stroke-width:0.8;\"/>\n   </g>\n   <g id=\"PathCollection_1\">\n    <defs>\n     <path d=\"M 0 5 \nC 1.326016 5 2.597899 4.473168 3.535534 3.535534 \nC 4.473168 2.597899 5 1.326016 5 -0 \nC 5 -1.326016 4.473168 -2.597899 3.535534 -3.535534 \nC 2.597899 -4.473168 1.326016 -5 0 -5 \nC -1.326016 -5 -2.597899 -4.473168 -3.535534 -3.535534 \nC -4.473168 -2.597899 -5 -1.326016 -5 0 \nC -5 1.326016 -4.473168 2.597899 -3.535534 3.535534 \nC -2.597899 4.473168 -1.326016 5 0 5 \nz\n\" id=\"C0_0_ef6bba79f2\"/>\n    </defs>\n    <g clip-path=\"url(#p6e011cdb92)\">\n     <use style=\"fill:#333333;\" x=\"104.579628\" xlink:href=\"#C0_0_ef6bba79f2\" y=\"41.175\"/>\n    </g>\n    <g clip-path=\"url(#p6e011cdb92)\">\n     <use style=\"fill:#333333;\" x=\"1015.440767\" xlink:href=\"#C0_0_ef6bba79f2\" y=\"41.175\"/>\n    </g>\n    <g clip-path=\"url(#p6e011cdb92)\">\n     <use style=\"fill:#333333;\" x=\"1015.440767\" xlink:href=\"#C0_0_ef6bba79f2\" y=\"30.675\"/>\n    </g>\n    <g clip-path=\"url(#p6e011cdb92)\">\n     <use style=\"fill:#333333;\" x=\"1015.440767\" xlink:href=\"#C0_0_ef6bba79f2\" y=\"51.675\"/>\n    </g>\n   </g>\n   <g id=\"PathCollection_2\">\n    <defs>\n     <path d=\"M 0 5 \nC 1.326016 5 2.597899 4.473168 3.535534 3.535534 \nC 4.473168 2.597899 5 1.326016 5 -0 \nC 5 -1.326016 4.473168 -2.597899 3.535534 -3.535534 \nC 2.597899 -4.473168 1.326016 -5 0 -5 \nC -1.326016 -5 -2.597899 -4.473168 -3.535534 -3.535534 \nC -4.473168 -2.597899 -5 -1.326016 -5 0 \nC -5 1.326016 -4.473168 2.597899 -3.535534 3.535534 \nC -2.597899 4.473168 -1.326016 5 0 5 \nz\n\" id=\"C1_0_0363db54f3\"/>\n    </defs>\n    <g clip-path=\"url(#p6e011cdb92)\">\n     <use style=\"fill:#333333;\" x=\"102.349858\" xlink:href=\"#C1_0_0363db54f3\" y=\"109.125\"/>\n    </g>\n    <g clip-path=\"url(#p6e011cdb92)\">\n     <use style=\"fill:#333333;\" x=\"102.684323\" xlink:href=\"#C1_0_0363db54f3\" y=\"98.630875\"/>\n    </g>\n    <g clip-path=\"url(#p6e011cdb92)\">\n     <use style=\"fill:#333333;\" x=\"102.740068\" xlink:href=\"#C1_0_0363db54f3\" y=\"119.617003\"/>\n    </g>\n    <g clip-path=\"url(#p6e011cdb92)\">\n     <use style=\"fill:#333333;\" x=\"103.074533\" xlink:href=\"#C1_0_0363db54f3\" y=\"88.138872\"/>\n    </g>\n    <g clip-path=\"url(#p6e011cdb92)\">\n     <use style=\"fill:#333333;\" x=\"103.68772\" xlink:href=\"#C1_0_0363db54f3\" y=\"130.069749\"/>\n    </g>\n    <g clip-path=\"url(#p6e011cdb92)\">\n     <use style=\"fill:#333333;\" x=\"145.830377\" xlink:href=\"#C1_0_0363db54f3\" y=\"109.125\"/>\n    </g>\n    <g clip-path=\"url(#p6e011cdb92)\">\n     <use style=\"fill:#333333;\" x=\"1015.440767\" xlink:href=\"#C1_0_0363db54f3\" y=\"109.125\"/>\n    </g>\n    <g clip-path=\"url(#p6e011cdb92)\">\n     <use style=\"fill:#333333;\" x=\"1015.440767\" xlink:href=\"#C1_0_0363db54f3\" y=\"98.625\"/>\n    </g>\n   </g>\n   <g id=\"PathCollection_3\">\n    <defs>\n     <path d=\"M 0 5 \nC 1.326016 5 2.597899 4.473168 3.535534 3.535534 \nC 4.473168 2.597899 5 1.326016 5 -0 \nC 5 -1.326016 4.473168 -2.597899 3.535534 -3.535534 \nC 2.597899 -4.473168 1.326016 -5 0 -5 \nC -1.326016 -5 -2.597899 -4.473168 -3.535534 -3.535534 \nC -4.473168 -2.597899 -5 -1.326016 -5 0 \nC -5 1.326016 -4.473168 2.597899 -3.535534 3.535534 \nC -2.597899 4.473168 -1.326016 5 0 5 \nz\n\" id=\"C2_0_d6a939318b\"/>\n    </defs>\n    <g clip-path=\"url(#p6e011cdb92)\">\n     <use style=\"fill:#333333;\" x=\"108.203005\" xlink:href=\"#C2_0_d6a939318b\" y=\"177.075\"/>\n    </g>\n    <g clip-path=\"url(#p6e011cdb92)\">\n     <use style=\"fill:#333333;\" x=\"133.399408\" xlink:href=\"#C2_0_d6a939318b\" y=\"177.075\"/>\n    </g>\n    <g clip-path=\"url(#p6e011cdb92)\">\n     <use style=\"fill:#333333;\" x=\"145.830377\" xlink:href=\"#C2_0_d6a939318b\" y=\"177.075\"/>\n    </g>\n    <g clip-path=\"url(#p6e011cdb92)\">\n     <use style=\"fill:#333333;\" x=\"145.830377\" xlink:href=\"#C2_0_d6a939318b\" y=\"166.575\"/>\n    </g>\n    <g clip-path=\"url(#p6e011cdb92)\">\n     <use style=\"fill:#333333;\" x=\"1015.440767\" xlink:href=\"#C2_0_d6a939318b\" y=\"177.075\"/>\n    </g>\n    <g clip-path=\"url(#p6e011cdb92)\">\n     <use style=\"fill:#333333;\" x=\"1015.440767\" xlink:href=\"#C2_0_d6a939318b\" y=\"166.575\"/>\n    </g>\n   </g>\n   <g id=\"PathCollection_4\">\n    <defs>\n     <path d=\"M 0 5 \nC 1.326016 5 2.597899 4.473168 3.535534 3.535534 \nC 4.473168 2.597899 5 1.326016 5 -0 \nC 5 -1.326016 4.473168 -2.597899 3.535534 -3.535534 \nC 2.597899 -4.473168 1.326016 -5 0 -5 \nC -1.326016 -5 -2.597899 -4.473168 -3.535534 -3.535534 \nC -4.473168 -2.597899 -5 -1.326016 -5 0 \nC -5 1.326016 -4.473168 2.597899 -3.535534 3.535534 \nC -2.597899 4.473168 -1.326016 5 0 5 \nz\n\" id=\"C3_0_d4473ca921\"/>\n    </defs>\n    <g clip-path=\"url(#p6e011cdb92)\">\n     <use style=\"fill:#333333;\" x=\"230.561646\" xlink:href=\"#C3_0_d4473ca921\" y=\"245.025\"/>\n    </g>\n    <g clip-path=\"url(#p6e011cdb92)\">\n     <use style=\"fill:#333333;\" x=\"1015.440767\" xlink:href=\"#C3_0_d4473ca921\" y=\"245.025\"/>\n    </g>\n   </g>\n  </g>\n </g>\n <defs>\n  <clipPath id=\"p6e011cdb92\">\n   <rect height=\"271.8\" width=\"1004.4\" x=\"56.695313\" y=\"7.2\"/>\n  </clipPath>\n </defs>\n</svg>\n",
      "image/png": "[encoded data removed]"
     },
     "metadata": {
      "needs_background": "light"
     }
    }
   ],
   "source": [
    "tt_xs = []\n",
    "tt_shapes = []\n",
    "for s_name, s_shape,s in zip(sets_name, sets_shapes, sets):\n",
    "    res_tt = tt_test(s).groupby('R').sum().drop(columns=['C'])\n",
    "    tt_xs.append(res_tt.idxmax().values[0])\n",
    "    tt_shapes.append(s_shape[1])\n",
    "    print(s_name, s_shape[1])\n",
    "    print(res_tt)\n",
    "    # print(res_tt.idxmax().values)\n",
    "    # print('---------------------------------------------------')\n",
    "tt_df = pd.DataFrame(data=np.array([tt_xs, tt_shapes]).T, columns=['Reduction', 'N_dim'])\n",
    "tt_df['N_dim'] = tt_df['N_dim'].apply(lambda x: int(x))\n",
    "sns.histplot(x='Reduction', data=tt_df)\n",
    "plt.show()\n",
    "plt.figure(figsize=(18, 5))\n",
    "sns.boxplot(x=\"N_dim\", y=\"Reduction\", data=tt_df, whis=np.inf)\n",
    "sns.swarmplot(data=tt_df, x=\"N_dim\", y=\"Reduction\", size=10, dodge=True, color=\".2\")\n",
    "plt.show()"
   ]
  },
  {
   "cell_type": "code",
   "execution_count": 31,
   "metadata": {},
   "outputs": [
    {
     "output_type": "stream",
     "name": "stdout",
     "text": [
      "                          KPCA_Naive Bayes    LDA_Naive Bayes    PCA_Naive Bayes    UMAP_Naive Bayes    KPCA_Nearest Neighbors    LDA_Nearest Neighbors    PCA_Nearest Neighbors    UMAP_Nearest Neighbors    KPCA_RBF SVM    LDA_RBF SVM    PCA_RBF SVM    UMAP_RBF SVM    KPCA_Random Forest    LDA_Random Forest    PCA_Random Forest    UMAP_Random Forest\n----------------------  ------------------  -----------------  -----------------  ------------------  ------------------------  -----------------------  -----------------------  ------------------------  --------------  -------------  -------------  --------------  --------------------  -------------------  -------------------  --------------------\nKPCA_Naive Bayes                         0                  0                  0                   0                         0                        0                        0                         0               0              0              0               0                     0                    0                    0                     0\nLDA_Naive Bayes                          0                  0                  0                   0                         1                        0                        1                         0               0              0              0               0                     1                    0                    0                     0\nPCA_Naive Bayes                          0                  0                  0                   0                         0                        0                        0                         0               0              0              0               0                     0                    0                    0                     0\nUMAP_Naive Bayes                         0                  0                  0                   0                         0                        0                        0                         0               0              0              0               0                     0                    0                    0                     0\nKPCA_Nearest Neighbors                   0                 -1                  0                   0                         0                        0                        0                         0               0              0              0               0                     0                   -1                    0                     0\nLDA_Nearest Neighbors                    0                  0                  0                   0                         0                        0                        0                         0               0              0              0               0                     0                    0                    0                     0\nPCA_Nearest Neighbors                    0                 -1                  0                   0                         0                        0                        0                         0               0              0              0               0                     0                   -1                    0                     0\nUMAP_Nearest Neighbors                   0                  0                  0                   0                         0                        0                        0                         0               0              0              0               0                     0                    0                    0                     0\nKPCA_RBF SVM                             0                  0                  0                   0                         0                        0                        0                         0               0              0              0               0                     0                    0                    0                     0\nLDA_RBF SVM                              0                  0                  0                   0                         0                        0                        0                         0               0              0              0               0                     0                    0                    0                     0\nPCA_RBF SVM                              0                  0                  0                   0                         0                        0                        0                         0               0              0              0               0                     0                    0                    0                     0\nUMAP_RBF SVM                             0                  0                  0                   0                         0                        0                        0                         0               0              0              0               0                     0                    0                    0                     0\nKPCA_Random Forest                       0                 -1                  0                   0                         0                        0                        0                         0               0              0              0               0                     0                   -1                    0                     0\nLDA_Random Forest                        0                  0                  0                   0                         1                        0                        1                         0               0              0              0               0                     1                    0                    0                     0\nPCA_Random Forest                        0                  0                  0                   0                         0                        0                        0                         0               0              0              0               0                     0                    0                    0                     0\nUMAP_Random Forest                       0                  0                  0                   0                         0                        0                        0                         0               0              0              0               0                     0                    0                    0                     0\n"
     ]
    },
    {
     "output_type": "execute_result",
     "data": {
      "text/plain": [
       "       R                  C    V\n",
       "0   KPCA        Naive Bayes  0.0\n",
       "1    LDA        Naive Bayes  3.0\n",
       "2    PCA        Naive Bayes  0.0\n",
       "3   UMAP        Naive Bayes  0.0\n",
       "4   KPCA  Nearest Neighbors -2.0\n",
       "5    LDA  Nearest Neighbors  0.0\n",
       "6    PCA  Nearest Neighbors -2.0\n",
       "7   UMAP  Nearest Neighbors  0.0\n",
       "8   KPCA            RBF SVM  0.0\n",
       "9    LDA            RBF SVM  0.0\n",
       "10   PCA            RBF SVM  0.0\n",
       "11  UMAP            RBF SVM  0.0\n",
       "12  KPCA      Random Forest -2.0\n",
       "13   LDA      Random Forest  3.0\n",
       "14   PCA      Random Forest  0.0\n",
       "15  UMAP      Random Forest  0.0"
      ],
      "text/html": "<div>\n<style scoped>\n    .dataframe tbody tr th:only-of-type {\n        vertical-align: middle;\n    }\n\n    .dataframe tbody tr th {\n        vertical-align: top;\n    }\n\n    .dataframe thead th {\n        text-align: right;\n    }\n</style>\n<table border=\"1\" class=\"dataframe\">\n  <thead>\n    <tr style=\"text-align: right;\">\n      <th></th>\n      <th>R</th>\n      <th>C</th>\n      <th>V</th>\n    </tr>\n  </thead>\n  <tbody>\n    <tr>\n      <th>0</th>\n      <td>KPCA</td>\n      <td>Naive Bayes</td>\n      <td>0.0</td>\n    </tr>\n    <tr>\n      <th>1</th>\n      <td>LDA</td>\n      <td>Naive Bayes</td>\n      <td>3.0</td>\n    </tr>\n    <tr>\n      <th>2</th>\n      <td>PCA</td>\n      <td>Naive Bayes</td>\n      <td>0.0</td>\n    </tr>\n    <tr>\n      <th>3</th>\n      <td>UMAP</td>\n      <td>Naive Bayes</td>\n      <td>0.0</td>\n    </tr>\n    <tr>\n      <th>4</th>\n      <td>KPCA</td>\n      <td>Nearest Neighbors</td>\n      <td>-2.0</td>\n    </tr>\n    <tr>\n      <th>5</th>\n      <td>LDA</td>\n      <td>Nearest Neighbors</td>\n      <td>0.0</td>\n    </tr>\n    <tr>\n      <th>6</th>\n      <td>PCA</td>\n      <td>Nearest Neighbors</td>\n      <td>-2.0</td>\n    </tr>\n    <tr>\n      <th>7</th>\n      <td>UMAP</td>\n      <td>Nearest Neighbors</td>\n      <td>0.0</td>\n    </tr>\n    <tr>\n      <th>8</th>\n      <td>KPCA</td>\n      <td>RBF SVM</td>\n      <td>0.0</td>\n    </tr>\n    <tr>\n      <th>9</th>\n      <td>LDA</td>\n      <td>RBF SVM</td>\n      <td>0.0</td>\n    </tr>\n    <tr>\n      <th>10</th>\n      <td>PCA</td>\n      <td>RBF SVM</td>\n      <td>0.0</td>\n    </tr>\n    <tr>\n      <th>11</th>\n      <td>UMAP</td>\n      <td>RBF SVM</td>\n      <td>0.0</td>\n    </tr>\n    <tr>\n      <th>12</th>\n      <td>KPCA</td>\n      <td>Random Forest</td>\n      <td>-2.0</td>\n    </tr>\n    <tr>\n      <th>13</th>\n      <td>LDA</td>\n      <td>Random Forest</td>\n      <td>3.0</td>\n    </tr>\n    <tr>\n      <th>14</th>\n      <td>PCA</td>\n      <td>Random Forest</td>\n      <td>0.0</td>\n    </tr>\n    <tr>\n      <th>15</th>\n      <td>UMAP</td>\n      <td>Random Forest</td>\n      <td>0.0</td>\n    </tr>\n  </tbody>\n</table>\n</div>"
     },
     "metadata": {},
     "execution_count": 31
    }
   ],
   "source": [
    "sets_wilx = wilx(sets)\n",
    "sets_wilx"
   ]
  },
  {
   "cell_type": "code",
   "execution_count": 32,
   "metadata": {},
   "outputs": [
    {
     "output_type": "execute_result",
     "data": {
      "text/plain": [
       "        V\n",
       "R        \n",
       "KPCA -4.0\n",
       "LDA   6.0\n",
       "PCA  -2.0\n",
       "UMAP  0.0"
      ],
      "text/html": "<div>\n<style scoped>\n    .dataframe tbody tr th:only-of-type {\n        vertical-align: middle;\n    }\n\n    .dataframe tbody tr th {\n        vertical-align: top;\n    }\n\n    .dataframe thead th {\n        text-align: right;\n    }\n</style>\n<table border=\"1\" class=\"dataframe\">\n  <thead>\n    <tr style=\"text-align: right;\">\n      <th></th>\n      <th>V</th>\n    </tr>\n    <tr>\n      <th>R</th>\n      <th></th>\n    </tr>\n  </thead>\n  <tbody>\n    <tr>\n      <th>KPCA</th>\n      <td>-4.0</td>\n    </tr>\n    <tr>\n      <th>LDA</th>\n      <td>6.0</td>\n    </tr>\n    <tr>\n      <th>PCA</th>\n      <td>-2.0</td>\n    </tr>\n    <tr>\n      <th>UMAP</th>\n      <td>0.0</td>\n    </tr>\n  </tbody>\n</table>\n</div>"
     },
     "metadata": {},
     "execution_count": 32
    }
   ],
   "source": [
    "sets_wilx.groupby('R').sum().drop(columns=['C'])"
   ]
  },
  {
   "cell_type": "code",
   "execution_count": 34,
   "metadata": {},
   "outputs": [
    {
     "output_type": "stream",
     "name": "stdout",
     "text": [
      "                          KPCA_Naive Bayes    LDA_Naive Bayes    PCA_Naive Bayes    UMAP_Naive Bayes    KPCA_Nearest Neighbors    LDA_Nearest Neighbors    PCA_Nearest Neighbors    UMAP_Nearest Neighbors    KPCA_RBF SVM    LDA_RBF SVM    PCA_RBF SVM    UMAP_RBF SVM    KPCA_Random Forest    LDA_Random Forest    PCA_Random Forest    UMAP_Random Forest\n----------------------  ------------------  -----------------  -----------------  ------------------  ------------------------  -----------------------  -----------------------  ------------------------  --------------  -------------  -------------  --------------  --------------------  -------------------  -------------------  --------------------\nKPCA_Naive Bayes                         0                  0                  0                   0                         0                        0                        0                         0               0              0              0               0                     0                    0                    0                     0\nLDA_Naive Bayes                          0                  0                  0                   0                         0                        0                        0                         0               0              0              0               0                     0                   -1                    0                     0\nPCA_Naive Bayes                          0                  0                  0                   0                         0                        0                        0                         0               0              0              0               0                     0                    0                    0                     0\nUMAP_Naive Bayes                         0                  0                  0                   0                         0                        0                        0                         0               0              0              0               0                     0                    0                    0                     0\nKPCA_Nearest Neighbors                   0                  0                  0                   0                         0                        0                        0                         0               0              0              0               0                     0                    0                    0                     0\nLDA_Nearest Neighbors                    0                  0                  0                   0                         0                        0                        0                         0               0              0              0               0                     0                    0                    0                     1\nPCA_Nearest Neighbors                    0                  0                  0                   0                         0                        0                        0                         0               0              0              0               0                     0                    0                    0                     0\nUMAP_Nearest Neighbors                   0                  0                  0                   0                         0                        0                        0                         0               0              0              0               0                     0                    0                    0                     0\nKPCA_RBF SVM                             0                  0                  0                   0                         0                        0                        0                         0               0              0              0               0                     0                    0                    0                     1\nLDA_RBF SVM                              0                  0                  0                   0                         0                        0                        0                         0               0              0              0               0                     0                   -1                    0                     0\nPCA_RBF SVM                              0                  0                  0                   0                         0                        0                        0                         0               0              0              0               0                     0                    0                    0                     1\nUMAP_RBF SVM                             0                  0                  0                   0                         0                        0                        0                         0               0              0              0               0                     0                    0                    0                     0\nKPCA_Random Forest                       0                  0                  0                   0                         0                        0                        0                         0               0              0              0               0                     0                   -1                    0                     0\nLDA_Random Forest                        0                  1                  0                   0                         0                        0                        0                         0               0              1              0               0                     1                    0                    0                     1\nPCA_Random Forest                        0                  0                  0                   0                         0                        0                        0                         0               0              0              0               0                     0                    0                    0                     1\nUMAP_Random Forest                       0                  0                  0                   0                         0                       -1                        0                         0              -1              0             -1               0                     0                   -1                   -1                     0\n"
     ]
    },
    {
     "output_type": "execute_result",
     "data": {
      "text/plain": [
       "       R                  C    V\n",
       "0   KPCA        Naive Bayes  0.0\n",
       "1    LDA        Naive Bayes -1.0\n",
       "2    PCA        Naive Bayes  0.0\n",
       "3   UMAP        Naive Bayes  0.0\n",
       "4   KPCA  Nearest Neighbors  0.0\n",
       "5    LDA  Nearest Neighbors  1.0\n",
       "6    PCA  Nearest Neighbors  0.0\n",
       "7   UMAP  Nearest Neighbors  0.0\n",
       "8   KPCA            RBF SVM  1.0\n",
       "9    LDA            RBF SVM -1.0\n",
       "10   PCA            RBF SVM  1.0\n",
       "11  UMAP            RBF SVM  0.0\n",
       "12  KPCA      Random Forest -1.0\n",
       "13   LDA      Random Forest  4.0\n",
       "14   PCA      Random Forest  1.0\n",
       "15  UMAP      Random Forest -5.0"
      ],
      "text/html": "<div>\n<style scoped>\n    .dataframe tbody tr th:only-of-type {\n        vertical-align: middle;\n    }\n\n    .dataframe tbody tr th {\n        vertical-align: top;\n    }\n\n    .dataframe thead th {\n        text-align: right;\n    }\n</style>\n<table border=\"1\" class=\"dataframe\">\n  <thead>\n    <tr style=\"text-align: right;\">\n      <th></th>\n      <th>R</th>\n      <th>C</th>\n      <th>V</th>\n    </tr>\n  </thead>\n  <tbody>\n    <tr>\n      <th>0</th>\n      <td>KPCA</td>\n      <td>Naive Bayes</td>\n      <td>0.0</td>\n    </tr>\n    <tr>\n      <th>1</th>\n      <td>LDA</td>\n      <td>Naive Bayes</td>\n      <td>-1.0</td>\n    </tr>\n    <tr>\n      <th>2</th>\n      <td>PCA</td>\n      <td>Naive Bayes</td>\n      <td>0.0</td>\n    </tr>\n    <tr>\n      <th>3</th>\n      <td>UMAP</td>\n      <td>Naive Bayes</td>\n      <td>0.0</td>\n    </tr>\n    <tr>\n      <th>4</th>\n      <td>KPCA</td>\n      <td>Nearest Neighbors</td>\n      <td>0.0</td>\n    </tr>\n    <tr>\n      <th>5</th>\n      <td>LDA</td>\n      <td>Nearest Neighbors</td>\n      <td>1.0</td>\n    </tr>\n    <tr>\n      <th>6</th>\n      <td>PCA</td>\n      <td>Nearest Neighbors</td>\n      <td>0.0</td>\n    </tr>\n    <tr>\n      <th>7</th>\n      <td>UMAP</td>\n      <td>Nearest Neighbors</td>\n      <td>0.0</td>\n    </tr>\n    <tr>\n      <th>8</th>\n      <td>KPCA</td>\n      <td>RBF SVM</td>\n      <td>1.0</td>\n    </tr>\n    <tr>\n      <th>9</th>\n      <td>LDA</td>\n      <td>RBF SVM</td>\n      <td>-1.0</td>\n    </tr>\n    <tr>\n      <th>10</th>\n      <td>PCA</td>\n      <td>RBF SVM</td>\n      <td>1.0</td>\n    </tr>\n    <tr>\n      <th>11</th>\n      <td>UMAP</td>\n      <td>RBF SVM</td>\n      <td>0.0</td>\n    </tr>\n    <tr>\n      <th>12</th>\n      <td>KPCA</td>\n      <td>Random Forest</td>\n      <td>-1.0</td>\n    </tr>\n    <tr>\n      <th>13</th>\n      <td>LDA</td>\n      <td>Random Forest</td>\n      <td>4.0</td>\n    </tr>\n    <tr>\n      <th>14</th>\n      <td>PCA</td>\n      <td>Random Forest</td>\n      <td>1.0</td>\n    </tr>\n    <tr>\n      <th>15</th>\n      <td>UMAP</td>\n      <td>Random Forest</td>\n      <td>-5.0</td>\n    </tr>\n  </tbody>\n</table>\n</div>"
     },
     "metadata": {},
     "execution_count": 34
    }
   ],
   "source": [
    "images_wilx = wilx(images)\n",
    "images_wilx"
   ]
  },
  {
   "cell_type": "code",
   "execution_count": 35,
   "metadata": {},
   "outputs": [
    {
     "output_type": "execute_result",
     "data": {
      "text/plain": [
       "        V\n",
       "R        \n",
       "KPCA  0.0\n",
       "LDA   3.0\n",
       "PCA   2.0\n",
       "UMAP -5.0"
      ],
      "text/html": "<div>\n<style scoped>\n    .dataframe tbody tr th:only-of-type {\n        vertical-align: middle;\n    }\n\n    .dataframe tbody tr th {\n        vertical-align: top;\n    }\n\n    .dataframe thead th {\n        text-align: right;\n    }\n</style>\n<table border=\"1\" class=\"dataframe\">\n  <thead>\n    <tr style=\"text-align: right;\">\n      <th></th>\n      <th>V</th>\n    </tr>\n    <tr>\n      <th>R</th>\n      <th></th>\n    </tr>\n  </thead>\n  <tbody>\n    <tr>\n      <th>KPCA</th>\n      <td>0.0</td>\n    </tr>\n    <tr>\n      <th>LDA</th>\n      <td>3.0</td>\n    </tr>\n    <tr>\n      <th>PCA</th>\n      <td>2.0</td>\n    </tr>\n    <tr>\n      <th>UMAP</th>\n      <td>-5.0</td>\n    </tr>\n  </tbody>\n</table>\n</div>"
     },
     "metadata": {},
     "execution_count": 35
    }
   ],
   "source": [
    "images_wilx.groupby('R').sum().drop(columns=['C'])"
   ]
  },
  {
   "cell_type": "code",
   "execution_count": 37,
   "metadata": {},
   "outputs": [
    {
     "output_type": "stream",
     "name": "stdout",
     "text": [
      "                          KPCA_Naive Bayes    LDA_Naive Bayes    PCA_Naive Bayes    UMAP_Naive Bayes    KPCA_Nearest Neighbors    LDA_Nearest Neighbors    PCA_Nearest Neighbors    UMAP_Nearest Neighbors    KPCA_RBF SVM    LDA_RBF SVM    PCA_RBF SVM    UMAP_RBF SVM    KPCA_Random Forest    LDA_Random Forest    PCA_Random Forest    UMAP_Random Forest\n----------------------  ------------------  -----------------  -----------------  ------------------  ------------------------  -----------------------  -----------------------  ------------------------  --------------  -------------  -------------  --------------  --------------------  -------------------  -------------------  --------------------\nKPCA_Naive Bayes                         0                  0                  0                   0                         0                        0                        0                         0               1              0              0               0                     0                    0                    0                     0\nLDA_Naive Bayes                          0                  0                  0                   0                         1                        0                        1                         0               1              0              1               0                     1                    0                    0                     0\nPCA_Naive Bayes                          0                  0                  0                   0                         0                        0                        0                         0               0              0              0               0                     0                    0                    0                     0\nUMAP_Naive Bayes                         0                  0                  0                   0                         1                        0                        1                         0               1              0              1               0                     1                    0                    0                     0\nKPCA_Nearest Neighbors                   0                 -1                  0                  -1                         0                        0                        0                        -1               0              0              0               0                     0                    0                    0                    -1\nLDA_Nearest Neighbors                    0                  0                  0                   0                         0                        0                        0                         0               0              0              0               0                     0                    0                    0                     0\nPCA_Nearest Neighbors                    0                 -1                  0                  -1                         0                        0                        0                        -1               0              0              0               0                     0                    0                    0                    -1\nUMAP_Nearest Neighbors                   0                  0                  0                   0                         1                        0                        1                         0               1              0              1               0                     0                    0                    0                     0\nKPCA_RBF SVM                            -1                 -1                  0                  -1                         0                        0                        0                        -1               0              0              0               0                     0                    0                    0                     0\nLDA_RBF SVM                              0                  0                  0                   0                         0                        0                        0                         0               0              0              0               0                     0                    0                    0                     0\nPCA_RBF SVM                              0                 -1                  0                  -1                         0                        0                        0                        -1               0              0              0               0                     0                    0                    0                     0\nUMAP_RBF SVM                             0                  0                  0                   0                         0                        0                        0                         0               0              0              0               0                     0                    0                    0                     0\nKPCA_Random Forest                       0                 -1                  0                  -1                         0                        0                        0                         0               0              0              0               0                     0                    0                    0                     0\nLDA_Random Forest                        0                  0                  0                   0                         0                        0                        0                         0               0              0              0               0                     0                    0                    0                     0\nPCA_Random Forest                        0                  0                  0                   0                         0                        0                        0                         0               0              0              0               0                     0                    0                    0                     0\nUMAP_Random Forest                       0                  0                  0                   0                         1                        0                        1                         0               0              0              0               0                     0                    0                    0                     0\n"
     ]
    },
    {
     "output_type": "execute_result",
     "data": {
      "text/plain": [
       "       R                  C    V\n",
       "0   KPCA        Naive Bayes  1.0\n",
       "1    LDA        Naive Bayes  5.0\n",
       "2    PCA        Naive Bayes  0.0\n",
       "3   UMAP        Naive Bayes  5.0\n",
       "4   KPCA  Nearest Neighbors -4.0\n",
       "5    LDA  Nearest Neighbors  0.0\n",
       "6    PCA  Nearest Neighbors -4.0\n",
       "7   UMAP  Nearest Neighbors  4.0\n",
       "8   KPCA            RBF SVM -4.0\n",
       "9    LDA            RBF SVM  0.0\n",
       "10   PCA            RBF SVM -3.0\n",
       "11  UMAP            RBF SVM  0.0\n",
       "12  KPCA      Random Forest -2.0\n",
       "13   LDA      Random Forest  0.0\n",
       "14   PCA      Random Forest  0.0\n",
       "15  UMAP      Random Forest  2.0"
      ],
      "text/html": "<div>\n<style scoped>\n    .dataframe tbody tr th:only-of-type {\n        vertical-align: middle;\n    }\n\n    .dataframe tbody tr th {\n        vertical-align: top;\n    }\n\n    .dataframe thead th {\n        text-align: right;\n    }\n</style>\n<table border=\"1\" class=\"dataframe\">\n  <thead>\n    <tr style=\"text-align: right;\">\n      <th></th>\n      <th>R</th>\n      <th>C</th>\n      <th>V</th>\n    </tr>\n  </thead>\n  <tbody>\n    <tr>\n      <th>0</th>\n      <td>KPCA</td>\n      <td>Naive Bayes</td>\n      <td>1.0</td>\n    </tr>\n    <tr>\n      <th>1</th>\n      <td>LDA</td>\n      <td>Naive Bayes</td>\n      <td>5.0</td>\n    </tr>\n    <tr>\n      <th>2</th>\n      <td>PCA</td>\n      <td>Naive Bayes</td>\n      <td>0.0</td>\n    </tr>\n    <tr>\n      <th>3</th>\n      <td>UMAP</td>\n      <td>Naive Bayes</td>\n      <td>5.0</td>\n    </tr>\n    <tr>\n      <th>4</th>\n      <td>KPCA</td>\n      <td>Nearest Neighbors</td>\n      <td>-4.0</td>\n    </tr>\n    <tr>\n      <th>5</th>\n      <td>LDA</td>\n      <td>Nearest Neighbors</td>\n      <td>0.0</td>\n    </tr>\n    <tr>\n      <th>6</th>\n      <td>PCA</td>\n      <td>Nearest Neighbors</td>\n      <td>-4.0</td>\n    </tr>\n    <tr>\n      <th>7</th>\n      <td>UMAP</td>\n      <td>Nearest Neighbors</td>\n      <td>4.0</td>\n    </tr>\n    <tr>\n      <th>8</th>\n      <td>KPCA</td>\n      <td>RBF SVM</td>\n      <td>-4.0</td>\n    </tr>\n    <tr>\n      <th>9</th>\n      <td>LDA</td>\n      <td>RBF SVM</td>\n      <td>0.0</td>\n    </tr>\n    <tr>\n      <th>10</th>\n      <td>PCA</td>\n      <td>RBF SVM</td>\n      <td>-3.0</td>\n    </tr>\n    <tr>\n      <th>11</th>\n      <td>UMAP</td>\n      <td>RBF SVM</td>\n      <td>0.0</td>\n    </tr>\n    <tr>\n      <th>12</th>\n      <td>KPCA</td>\n      <td>Random Forest</td>\n      <td>-2.0</td>\n    </tr>\n    <tr>\n      <th>13</th>\n      <td>LDA</td>\n      <td>Random Forest</td>\n      <td>0.0</td>\n    </tr>\n    <tr>\n      <th>14</th>\n      <td>PCA</td>\n      <td>Random Forest</td>\n      <td>0.0</td>\n    </tr>\n    <tr>\n      <th>15</th>\n      <td>UMAP</td>\n      <td>Random Forest</td>\n      <td>2.0</td>\n    </tr>\n  </tbody>\n</table>\n</div>"
     },
     "metadata": {},
     "execution_count": 37
    }
   ],
   "source": [
    "non_images_wilx = wilx(non_images)\n",
    "non_images_wilx"
   ]
  },
  {
   "cell_type": "code",
   "execution_count": 38,
   "metadata": {},
   "outputs": [
    {
     "output_type": "execute_result",
     "data": {
      "text/plain": [
       "         V\n",
       "R         \n",
       "KPCA  -9.0\n",
       "LDA    5.0\n",
       "PCA   -7.0\n",
       "UMAP  11.0"
      ],
      "text/html": "<div>\n<style scoped>\n    .dataframe tbody tr th:only-of-type {\n        vertical-align: middle;\n    }\n\n    .dataframe tbody tr th {\n        vertical-align: top;\n    }\n\n    .dataframe thead th {\n        text-align: right;\n    }\n</style>\n<table border=\"1\" class=\"dataframe\">\n  <thead>\n    <tr style=\"text-align: right;\">\n      <th></th>\n      <th>V</th>\n    </tr>\n    <tr>\n      <th>R</th>\n      <th></th>\n    </tr>\n  </thead>\n  <tbody>\n    <tr>\n      <th>KPCA</th>\n      <td>-9.0</td>\n    </tr>\n    <tr>\n      <th>LDA</th>\n      <td>5.0</td>\n    </tr>\n    <tr>\n      <th>PCA</th>\n      <td>-7.0</td>\n    </tr>\n    <tr>\n      <th>UMAP</th>\n      <td>11.0</td>\n    </tr>\n  </tbody>\n</table>\n</div>"
     },
     "metadata": {},
     "execution_count": 38
    }
   ],
   "source": [
    "non_images_wilx.groupby('R').sum().drop(columns=['C'])"
   ]
  },
  {
   "cell_type": "code",
   "execution_count": 39,
   "metadata": {},
   "outputs": [],
   "source": [
    "def if_worse(stat, p):\n",
    "    if stat > 0 and p < 0.05:\n",
    "        return 1\n",
    "    if stat < 0 and p < 0.05:\n",
    "        return -1\n",
    "    return 0"
   ]
  },
  {
   "cell_type": "code",
   "execution_count": 40,
   "metadata": {},
   "outputs": [
    {
     "output_type": "execute_result",
     "data": {
      "text/plain": [
       "        Stat         P Reduction      Classificator  Is_worse\n",
       "0   0.541002  0.588506      KPCA        Naive Bayes         0\n",
       "1   0.000000  1.000000       LDA        Naive Bayes         0\n",
       "2   0.541002  0.588506       PCA        Naive Bayes         0\n",
       "3   0.000000  1.000000      UMAP        Naive Bayes         0\n",
       "4   4.165714  0.000031      KPCA  Nearest Neighbors         1\n",
       "5   1.420130  0.155570       LDA  Nearest Neighbors         0\n",
       "6   3.570612  0.000356       PCA  Nearest Neighbors         1\n",
       "7   4.260389  0.000020      UMAP  Nearest Neighbors         1\n",
       "8   3.246011  0.001170      KPCA            RBF SVM         1\n",
       "9   2.705009  0.006830       LDA            RBF SVM         1\n",
       "10  2.556233  0.010581       PCA            RBF SVM         1\n",
       "11  2.705009  0.006830      UMAP            RBF SVM         1\n",
       "12  2.705009  0.006830      KPCA      Random Forest         1\n",
       "13  1.623005  0.104588       LDA      Random Forest         0\n",
       "14  2.164007  0.030464       PCA      Random Forest         1\n",
       "15  4.260389  0.000020      UMAP      Random Forest         1"
      ],
      "text/html": "<div>\n<style scoped>\n    .dataframe tbody tr th:only-of-type {\n        vertical-align: middle;\n    }\n\n    .dataframe tbody tr th {\n        vertical-align: top;\n    }\n\n    .dataframe thead th {\n        text-align: right;\n    }\n</style>\n<table border=\"1\" class=\"dataframe\">\n  <thead>\n    <tr style=\"text-align: right;\">\n      <th></th>\n      <th>Stat</th>\n      <th>P</th>\n      <th>Reduction</th>\n      <th>Classificator</th>\n      <th>Is_worse</th>\n    </tr>\n  </thead>\n  <tbody>\n    <tr>\n      <th>0</th>\n      <td>0.541002</td>\n      <td>0.588506</td>\n      <td>KPCA</td>\n      <td>Naive Bayes</td>\n      <td>0</td>\n    </tr>\n    <tr>\n      <th>1</th>\n      <td>0.000000</td>\n      <td>1.000000</td>\n      <td>LDA</td>\n      <td>Naive Bayes</td>\n      <td>0</td>\n    </tr>\n    <tr>\n      <th>2</th>\n      <td>0.541002</td>\n      <td>0.588506</td>\n      <td>PCA</td>\n      <td>Naive Bayes</td>\n      <td>0</td>\n    </tr>\n    <tr>\n      <th>3</th>\n      <td>0.000000</td>\n      <td>1.000000</td>\n      <td>UMAP</td>\n      <td>Naive Bayes</td>\n      <td>0</td>\n    </tr>\n    <tr>\n      <th>4</th>\n      <td>4.165714</td>\n      <td>0.000031</td>\n      <td>KPCA</td>\n      <td>Nearest Neighbors</td>\n      <td>1</td>\n    </tr>\n    <tr>\n      <th>5</th>\n      <td>1.420130</td>\n      <td>0.155570</td>\n      <td>LDA</td>\n      <td>Nearest Neighbors</td>\n      <td>0</td>\n    </tr>\n    <tr>\n      <th>6</th>\n      <td>3.570612</td>\n      <td>0.000356</td>\n      <td>PCA</td>\n      <td>Nearest Neighbors</td>\n      <td>1</td>\n    </tr>\n    <tr>\n      <th>7</th>\n      <td>4.260389</td>\n      <td>0.000020</td>\n      <td>UMAP</td>\n      <td>Nearest Neighbors</td>\n      <td>1</td>\n    </tr>\n    <tr>\n      <th>8</th>\n      <td>3.246011</td>\n      <td>0.001170</td>\n      <td>KPCA</td>\n      <td>RBF SVM</td>\n      <td>1</td>\n    </tr>\n    <tr>\n      <th>9</th>\n      <td>2.705009</td>\n      <td>0.006830</td>\n      <td>LDA</td>\n      <td>RBF SVM</td>\n      <td>1</td>\n    </tr>\n    <tr>\n      <th>10</th>\n      <td>2.556233</td>\n      <td>0.010581</td>\n      <td>PCA</td>\n      <td>RBF SVM</td>\n      <td>1</td>\n    </tr>\n    <tr>\n      <th>11</th>\n      <td>2.705009</td>\n      <td>0.006830</td>\n      <td>UMAP</td>\n      <td>RBF SVM</td>\n      <td>1</td>\n    </tr>\n    <tr>\n      <th>12</th>\n      <td>2.705009</td>\n      <td>0.006830</td>\n      <td>KPCA</td>\n      <td>Random Forest</td>\n      <td>1</td>\n    </tr>\n    <tr>\n      <th>13</th>\n      <td>1.623005</td>\n      <td>0.104588</td>\n      <td>LDA</td>\n      <td>Random Forest</td>\n      <td>0</td>\n    </tr>\n    <tr>\n      <th>14</th>\n      <td>2.164007</td>\n      <td>0.030464</td>\n      <td>PCA</td>\n      <td>Random Forest</td>\n      <td>1</td>\n    </tr>\n    <tr>\n      <th>15</th>\n      <td>4.260389</td>\n      <td>0.000020</td>\n      <td>UMAP</td>\n      <td>Random Forest</td>\n      <td>1</td>\n    </tr>\n  </tbody>\n</table>\n</div>"
     },
     "metadata": {},
     "execution_count": 40
    }
   ],
   "source": [
    "stats, ps = wilcoxon_test_for_column_pair(sets, ['Reduced_acc','Unreduced_acc'])\n",
    "wil_for_redclf_df_all = pd.DataFrame(data=np.array([stats, ps]).T, columns=['Stat', 'P'])\n",
    "wil_for_redclf_df_all['Reduction'] = d1['Reduction_method']\n",
    "wil_for_redclf_df_all['Classificator'] = d1['Classificator']\n",
    "wil_for_redclf_df_all['Is_worse']= wil_for_redclf_df_all.apply(lambda row: if_worse(row.Stat, row.P), axis=1)\n",
    "wil_for_redclf_df_all"
   ]
  },
  {
   "cell_type": "code",
   "execution_count": 41,
   "metadata": {},
   "outputs": [
    {
     "output_type": "execute_result",
     "data": {
      "text/plain": [
       "           Is_worse\n",
       "Reduction          \n",
       "KPCA              3\n",
       "LDA               1\n",
       "PCA               3\n",
       "UMAP              3"
      ],
      "text/html": "<div>\n<style scoped>\n    .dataframe tbody tr th:only-of-type {\n        vertical-align: middle;\n    }\n\n    .dataframe tbody tr th {\n        vertical-align: top;\n    }\n\n    .dataframe thead th {\n        text-align: right;\n    }\n</style>\n<table border=\"1\" class=\"dataframe\">\n  <thead>\n    <tr style=\"text-align: right;\">\n      <th></th>\n      <th>Is_worse</th>\n    </tr>\n    <tr>\n      <th>Reduction</th>\n      <th></th>\n    </tr>\n  </thead>\n  <tbody>\n    <tr>\n      <th>KPCA</th>\n      <td>3</td>\n    </tr>\n    <tr>\n      <th>LDA</th>\n      <td>1</td>\n    </tr>\n    <tr>\n      <th>PCA</th>\n      <td>3</td>\n    </tr>\n    <tr>\n      <th>UMAP</th>\n      <td>3</td>\n    </tr>\n  </tbody>\n</table>\n</div>"
     },
     "metadata": {},
     "execution_count": 41
    }
   ],
   "source": [
    "wil_for_redclf_df_all.groupby('Reduction').sum().drop(columns=['Stat', 'P'])"
   ]
  },
  {
   "cell_type": "code",
   "execution_count": 42,
   "metadata": {},
   "outputs": [
    {
     "output_type": "execute_result",
     "data": {
      "text/plain": [
       "        Stat         P Reduction      Classificator  Is_worse\n",
       "0   1.680336  0.092892      KPCA        Naive Bayes         0\n",
       "1   1.680336  0.092892       LDA        Naive Bayes         0\n",
       "2   1.680336  0.092892       PCA        Naive Bayes         0\n",
       "3   1.680336  0.092892      UMAP        Naive Bayes         0\n",
       "4   1.417784  0.156254      KPCA  Nearest Neighbors         0\n",
       "5  -0.472595  0.636502       LDA  Nearest Neighbors         0\n",
       "6   1.417784  0.156254       PCA  Nearest Neighbors         0\n",
       "7   3.308162  0.000939      UMAP  Nearest Neighbors         1\n",
       "8   3.360672  0.000778      KPCA            RBF SVM         1\n",
       "9   3.360672  0.000778       LDA            RBF SVM         1\n",
       "10  2.520504  0.011719       PCA            RBF SVM         1\n",
       "11  3.360672  0.000778      UMAP            RBF SVM         1\n",
       "12  1.680336  0.092892      KPCA      Random Forest         0\n",
       "13  1.680336  0.092892       LDA      Random Forest         0\n",
       "14  1.680336  0.092892       PCA      Random Forest         0\n",
       "15  3.360672  0.000778      UMAP      Random Forest         1"
      ],
      "text/html": "<div>\n<style scoped>\n    .dataframe tbody tr th:only-of-type {\n        vertical-align: middle;\n    }\n\n    .dataframe tbody tr th {\n        vertical-align: top;\n    }\n\n    .dataframe thead th {\n        text-align: right;\n    }\n</style>\n<table border=\"1\" class=\"dataframe\">\n  <thead>\n    <tr style=\"text-align: right;\">\n      <th></th>\n      <th>Stat</th>\n      <th>P</th>\n      <th>Reduction</th>\n      <th>Classificator</th>\n      <th>Is_worse</th>\n    </tr>\n  </thead>\n  <tbody>\n    <tr>\n      <th>0</th>\n      <td>1.680336</td>\n      <td>0.092892</td>\n      <td>KPCA</td>\n      <td>Naive Bayes</td>\n      <td>0</td>\n    </tr>\n    <tr>\n      <th>1</th>\n      <td>1.680336</td>\n      <td>0.092892</td>\n      <td>LDA</td>\n      <td>Naive Bayes</td>\n      <td>0</td>\n    </tr>\n    <tr>\n      <th>2</th>\n      <td>1.680336</td>\n      <td>0.092892</td>\n      <td>PCA</td>\n      <td>Naive Bayes</td>\n      <td>0</td>\n    </tr>\n    <tr>\n      <th>3</th>\n      <td>1.680336</td>\n      <td>0.092892</td>\n      <td>UMAP</td>\n      <td>Naive Bayes</td>\n      <td>0</td>\n    </tr>\n    <tr>\n      <th>4</th>\n      <td>1.417784</td>\n      <td>0.156254</td>\n      <td>KPCA</td>\n      <td>Nearest Neighbors</td>\n      <td>0</td>\n    </tr>\n    <tr>\n      <th>5</th>\n      <td>-0.472595</td>\n      <td>0.636502</td>\n      <td>LDA</td>\n      <td>Nearest Neighbors</td>\n      <td>0</td>\n    </tr>\n    <tr>\n      <th>6</th>\n      <td>1.417784</td>\n      <td>0.156254</td>\n      <td>PCA</td>\n      <td>Nearest Neighbors</td>\n      <td>0</td>\n    </tr>\n    <tr>\n      <th>7</th>\n      <td>3.308162</td>\n      <td>0.000939</td>\n      <td>UMAP</td>\n      <td>Nearest Neighbors</td>\n      <td>1</td>\n    </tr>\n    <tr>\n      <th>8</th>\n      <td>3.360672</td>\n      <td>0.000778</td>\n      <td>KPCA</td>\n      <td>RBF SVM</td>\n      <td>1</td>\n    </tr>\n    <tr>\n      <th>9</th>\n      <td>3.360672</td>\n      <td>0.000778</td>\n      <td>LDA</td>\n      <td>RBF SVM</td>\n      <td>1</td>\n    </tr>\n    <tr>\n      <th>10</th>\n      <td>2.520504</td>\n      <td>0.011719</td>\n      <td>PCA</td>\n      <td>RBF SVM</td>\n      <td>1</td>\n    </tr>\n    <tr>\n      <th>11</th>\n      <td>3.360672</td>\n      <td>0.000778</td>\n      <td>UMAP</td>\n      <td>RBF SVM</td>\n      <td>1</td>\n    </tr>\n    <tr>\n      <th>12</th>\n      <td>1.680336</td>\n      <td>0.092892</td>\n      <td>KPCA</td>\n      <td>Random Forest</td>\n      <td>0</td>\n    </tr>\n    <tr>\n      <th>13</th>\n      <td>1.680336</td>\n      <td>0.092892</td>\n      <td>LDA</td>\n      <td>Random Forest</td>\n      <td>0</td>\n    </tr>\n    <tr>\n      <th>14</th>\n      <td>1.680336</td>\n      <td>0.092892</td>\n      <td>PCA</td>\n      <td>Random Forest</td>\n      <td>0</td>\n    </tr>\n    <tr>\n      <th>15</th>\n      <td>3.360672</td>\n      <td>0.000778</td>\n      <td>UMAP</td>\n      <td>Random Forest</td>\n      <td>1</td>\n    </tr>\n  </tbody>\n</table>\n</div>"
     },
     "metadata": {},
     "execution_count": 42
    }
   ],
   "source": [
    "stats, ps = wilcoxon_test_for_column_pair(images, ['Reduced_acc','Unreduced_acc'])\n",
    "wil_for_redclf_df_images = pd.DataFrame(data=np.array([stats, ps]).T, columns=['Stat', 'P'])\n",
    "wil_for_redclf_df_images['Reduction'] = d1['Reduction_method']\n",
    "wil_for_redclf_df_images['Classificator'] = d1['Classificator']\n",
    "wil_for_redclf_df_images['Is_worse']= wil_for_redclf_df_images.apply(lambda row: if_worse(row.Stat, row.P), axis=1)\n",
    "wil_for_redclf_df_images"
   ]
  },
  {
   "cell_type": "code",
   "execution_count": 43,
   "metadata": {},
   "outputs": [
    {
     "output_type": "execute_result",
     "data": {
      "text/plain": [
       "           Is_worse\n",
       "Reduction          \n",
       "KPCA              1\n",
       "LDA               1\n",
       "PCA               1\n",
       "UMAP              3"
      ],
      "text/html": "<div>\n<style scoped>\n    .dataframe tbody tr th:only-of-type {\n        vertical-align: middle;\n    }\n\n    .dataframe tbody tr th {\n        vertical-align: top;\n    }\n\n    .dataframe thead th {\n        text-align: right;\n    }\n</style>\n<table border=\"1\" class=\"dataframe\">\n  <thead>\n    <tr style=\"text-align: right;\">\n      <th></th>\n      <th>Is_worse</th>\n    </tr>\n    <tr>\n      <th>Reduction</th>\n      <th></th>\n    </tr>\n  </thead>\n  <tbody>\n    <tr>\n      <th>KPCA</th>\n      <td>1</td>\n    </tr>\n    <tr>\n      <th>LDA</th>\n      <td>1</td>\n    </tr>\n    <tr>\n      <th>PCA</th>\n      <td>1</td>\n    </tr>\n    <tr>\n      <th>UMAP</th>\n      <td>3</td>\n    </tr>\n  </tbody>\n</table>\n</div>"
     },
     "metadata": {},
     "execution_count": 43
    }
   ],
   "source": [
    "wil_for_redclf_df_images.groupby('Reduction').sum().drop(columns=['Stat', 'P'])"
   ]
  },
  {
   "cell_type": "code",
   "execution_count": 44,
   "metadata": {},
   "outputs": [
    {
     "output_type": "execute_result",
     "data": {
      "text/plain": [
       "        Stat         P Reduction      Classificator  Is_worse\n",
       "0  -0.692820  0.488422      KPCA        Naive Bayes         0\n",
       "1  -1.385641  0.165857       LDA        Naive Bayes         0\n",
       "2  -0.692820  0.488422       PCA        Naive Bayes         0\n",
       "3  -1.385641  0.165857      UMAP        Naive Bayes         0\n",
       "4   4.128054  0.000037      KPCA  Nearest Neighbors         1\n",
       "5   2.078461  0.037667       LDA  Nearest Neighbors         1\n",
       "6   3.377499  0.000731       PCA  Nearest Neighbors         1\n",
       "7   2.771281  0.005584      UMAP  Nearest Neighbors         1\n",
       "8   1.385641  0.165857      KPCA            RBF SVM         0\n",
       "9   0.692820  0.488422       LDA            RBF SVM         0\n",
       "10  1.125833  0.260236       PCA            RBF SVM         0\n",
       "11  0.692820  0.488422      UMAP            RBF SVM         0\n",
       "12  2.078461  0.037667      KPCA      Random Forest         1\n",
       "13  0.692820  0.488422       LDA      Random Forest         0\n",
       "14  1.385641  0.165857       PCA      Random Forest         0\n",
       "15  2.626944  0.008616      UMAP      Random Forest         1"
      ],
      "text/html": "<div>\n<style scoped>\n    .dataframe tbody tr th:only-of-type {\n        vertical-align: middle;\n    }\n\n    .dataframe tbody tr th {\n        vertical-align: top;\n    }\n\n    .dataframe thead th {\n        text-align: right;\n    }\n</style>\n<table border=\"1\" class=\"dataframe\">\n  <thead>\n    <tr style=\"text-align: right;\">\n      <th></th>\n      <th>Stat</th>\n      <th>P</th>\n      <th>Reduction</th>\n      <th>Classificator</th>\n      <th>Is_worse</th>\n    </tr>\n  </thead>\n  <tbody>\n    <tr>\n      <th>0</th>\n      <td>-0.692820</td>\n      <td>0.488422</td>\n      <td>KPCA</td>\n      <td>Naive Bayes</td>\n      <td>0</td>\n    </tr>\n    <tr>\n      <th>1</th>\n      <td>-1.385641</td>\n      <td>0.165857</td>\n      <td>LDA</td>\n      <td>Naive Bayes</td>\n      <td>0</td>\n    </tr>\n    <tr>\n      <th>2</th>\n      <td>-0.692820</td>\n      <td>0.488422</td>\n      <td>PCA</td>\n      <td>Naive Bayes</td>\n      <td>0</td>\n    </tr>\n    <tr>\n      <th>3</th>\n      <td>-1.385641</td>\n      <td>0.165857</td>\n      <td>UMAP</td>\n      <td>Naive Bayes</td>\n      <td>0</td>\n    </tr>\n    <tr>\n      <th>4</th>\n      <td>4.128054</td>\n      <td>0.000037</td>\n      <td>KPCA</td>\n      <td>Nearest Neighbors</td>\n      <td>1</td>\n    </tr>\n    <tr>\n      <th>5</th>\n      <td>2.078461</td>\n      <td>0.037667</td>\n      <td>LDA</td>\n      <td>Nearest Neighbors</td>\n      <td>1</td>\n    </tr>\n    <tr>\n      <th>6</th>\n      <td>3.377499</td>\n      <td>0.000731</td>\n      <td>PCA</td>\n      <td>Nearest Neighbors</td>\n      <td>1</td>\n    </tr>\n    <tr>\n      <th>7</th>\n      <td>2.771281</td>\n      <td>0.005584</td>\n      <td>UMAP</td>\n      <td>Nearest Neighbors</td>\n      <td>1</td>\n    </tr>\n    <tr>\n      <th>8</th>\n      <td>1.385641</td>\n      <td>0.165857</td>\n      <td>KPCA</td>\n      <td>RBF SVM</td>\n      <td>0</td>\n    </tr>\n    <tr>\n      <th>9</th>\n      <td>0.692820</td>\n      <td>0.488422</td>\n      <td>LDA</td>\n      <td>RBF SVM</td>\n      <td>0</td>\n    </tr>\n    <tr>\n      <th>10</th>\n      <td>1.125833</td>\n      <td>0.260236</td>\n      <td>PCA</td>\n      <td>RBF SVM</td>\n      <td>0</td>\n    </tr>\n    <tr>\n      <th>11</th>\n      <td>0.692820</td>\n      <td>0.488422</td>\n      <td>UMAP</td>\n      <td>RBF SVM</td>\n      <td>0</td>\n    </tr>\n    <tr>\n      <th>12</th>\n      <td>2.078461</td>\n      <td>0.037667</td>\n      <td>KPCA</td>\n      <td>Random Forest</td>\n      <td>1</td>\n    </tr>\n    <tr>\n      <th>13</th>\n      <td>0.692820</td>\n      <td>0.488422</td>\n      <td>LDA</td>\n      <td>Random Forest</td>\n      <td>0</td>\n    </tr>\n    <tr>\n      <th>14</th>\n      <td>1.385641</td>\n      <td>0.165857</td>\n      <td>PCA</td>\n      <td>Random Forest</td>\n      <td>0</td>\n    </tr>\n    <tr>\n      <th>15</th>\n      <td>2.626944</td>\n      <td>0.008616</td>\n      <td>UMAP</td>\n      <td>Random Forest</td>\n      <td>1</td>\n    </tr>\n  </tbody>\n</table>\n</div>"
     },
     "metadata": {},
     "execution_count": 44
    }
   ],
   "source": [
    "stats, ps = wilcoxon_test_for_column_pair(non_images, ['Reduced_acc','Unreduced_acc'])\n",
    "wil_for_redclf_df_non_images = pd.DataFrame(data=np.array([stats, ps]).T, columns=['Stat', 'P'])\n",
    "wil_for_redclf_df_non_images['Reduction'] = d1['Reduction_method']\n",
    "wil_for_redclf_df_non_images['Classificator'] = d1['Classificator']\n",
    "wil_for_redclf_df_non_images['Is_worse']= wil_for_redclf_df_non_images.apply(lambda row: if_worse(row.Stat, row.P), axis=1)\n",
    "wil_for_redclf_df_non_images"
   ]
  },
  {
   "cell_type": "code",
   "execution_count": 45,
   "metadata": {},
   "outputs": [
    {
     "output_type": "execute_result",
     "data": {
      "text/plain": [
       "           Is_worse\n",
       "Reduction          \n",
       "KPCA              2\n",
       "LDA               1\n",
       "PCA               1\n",
       "UMAP              2"
      ],
      "text/html": "<div>\n<style scoped>\n    .dataframe tbody tr th:only-of-type {\n        vertical-align: middle;\n    }\n\n    .dataframe tbody tr th {\n        vertical-align: top;\n    }\n\n    .dataframe thead th {\n        text-align: right;\n    }\n</style>\n<table border=\"1\" class=\"dataframe\">\n  <thead>\n    <tr style=\"text-align: right;\">\n      <th></th>\n      <th>Is_worse</th>\n    </tr>\n    <tr>\n      <th>Reduction</th>\n      <th></th>\n    </tr>\n  </thead>\n  <tbody>\n    <tr>\n      <th>KPCA</th>\n      <td>2</td>\n    </tr>\n    <tr>\n      <th>LDA</th>\n      <td>1</td>\n    </tr>\n    <tr>\n      <th>PCA</th>\n      <td>1</td>\n    </tr>\n    <tr>\n      <th>UMAP</th>\n      <td>2</td>\n    </tr>\n  </tbody>\n</table>\n</div>"
     },
     "metadata": {},
     "execution_count": 45
    }
   ],
   "source": [
    "wil_for_redclf_df_non_images.groupby('Reduction').sum().drop(columns=['Stat', 'P'])"
   ]
  },
  {
   "cell_type": "code",
   "execution_count": null,
   "metadata": {},
   "outputs": [],
   "source": []
  }
 ]
}